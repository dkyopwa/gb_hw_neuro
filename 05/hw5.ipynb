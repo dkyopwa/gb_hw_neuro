{
  "nbformat": 4,
  "nbformat_minor": 0,
  "metadata": {
    "colab": {
      "provenance": []
    },
    "kernelspec": {
      "name": "python3",
      "display_name": "Python 3"
    },
    "language_info": {
      "name": "python"
    },
    "accelerator": "GPU",
    "gpuClass": "standard"
  },
  "cells": [
    {
      "cell_type": "markdown",
      "source": [
        "# Hometask 5"
      ],
      "metadata": {
        "id": "ZwxfKnSybEFK"
      }
    },
    {
      "cell_type": "markdown",
      "source": [
        "1. Попробуйте изменить параметры нейронной сети работающей с датасетом imdb либо нейронной сети работающей airline-passengers (она прилагается вместе с датасетом к уроку в виде отдельного скрипта) так, чтобы улучшить ее точность. Приложите анализ.\n",
        "1. Попробуйте изменить параметры нейронной сети генерирующий текст таким образом, чтобы добиться генерации как можно более осмысленного текста. Пришлите лучший получившейся у вас текст и опишите, что вы предприняли, чтобы его получить. Можно использовать текст другого прозведения."
      ],
      "metadata": {
        "id": "X25biHqQbH8r"
      }
    },
    {
      "cell_type": "code",
      "source": [
        "import numpy\n",
        "import matplotlib.pyplot as plt\n",
        "from pandas import read_csv\n",
        "import math\n",
        "from keras.models import Sequential\n",
        "from keras.layers import Dense\n",
        "from keras.layers import LSTM\n",
        "from sklearn.preprocessing import MinMaxScaler\n",
        "from sklearn.metrics import mean_squared_error, mean_absolute_error, mean_absolute_percentage_error\n",
        "import pandas as pd"
      ],
      "metadata": {
        "id": "XZiK1GXYbRt5"
      },
      "execution_count": 57,
      "outputs": []
    },
    {
      "cell_type": "code",
      "source": [
        "def create_dataset(dataset, look_back=1):\n",
        "    dataX, dataY = [], []\n",
        "    for i in range(len(dataset)-look_back-1):\n",
        "        a = dataset[i:(i+look_back), 0]\n",
        "        dataX.append(a)\n",
        "        dataY.append(dataset[i + look_back, 0])\n",
        "    return numpy.array(dataX), numpy.array(dataY)"
      ],
      "metadata": {
        "id": "WNxs0059bUE4"
      },
      "execution_count": 30,
      "outputs": []
    },
    {
      "cell_type": "code",
      "source": [
        "from google.colab import drive\n",
        "drive.mount('/content/gdrive')\n",
        "%cd /content/gdrive/MyDrive/learn/05n"
      ],
      "metadata": {
        "colab": {
          "base_uri": "https://localhost:8080/"
        },
        "id": "Eue1hm_Cb0l5",
        "outputId": "0edefa55-f117-45a1-fb31-df5e06ae6849"
      },
      "execution_count": 20,
      "outputs": [
        {
          "output_type": "stream",
          "name": "stdout",
          "text": [
            "Drive already mounted at /content/gdrive; to attempt to forcibly remount, call drive.mount(\"/content/gdrive\", force_remount=True).\n",
            "/content/gdrive/MyDrive/learn/05n\n"
          ]
        }
      ]
    },
    {
      "cell_type": "code",
      "source": [
        "numpy.random.seed(7)\n",
        "\n",
        "dataframe = read_csv('airline-passengers.csv', usecols=[1], engine='python')\n",
        "dataset = dataframe.values\n",
        "dataset = dataset.astype('float32')\n",
        "scaler = MinMaxScaler(feature_range=(0, 1))\n",
        "dataset = scaler.fit_transform(dataset)\n",
        "\n",
        "train_size = int(len(dataset) * 0.67)\n",
        "test_size = len(dataset) - train_size\n",
        "train, test = dataset[0:train_size,:], dataset[train_size:len(dataset),:]\n",
        "\n",
        "look_back = 3\n",
        "trainX, trainY = create_dataset(train, look_back)\n",
        "testX, testY = create_dataset(test, look_back)\n",
        "# reshape input to be [samples, time steps, features]\n",
        "trainX = numpy.reshape(trainX, (trainX.shape[0], trainX.shape[1], 1))\n",
        "testX = numpy.reshape(testX, (testX.shape[0], testX.shape[1], 1))"
      ],
      "metadata": {
        "id": "XDLkyRPWfYBa"
      },
      "execution_count": 101,
      "outputs": []
    },
    {
      "cell_type": "code",
      "execution_count": 102,
      "metadata": {
        "colab": {
          "base_uri": "https://localhost:8080/",
          "height": 1000
        },
        "id": "WslnncCCbB8L",
        "outputId": "93b742ea-9bc1-40da-dec6-22407c93a9e6"
      },
      "outputs": [
        {
          "output_type": "stream",
          "name": "stdout",
          "text": [
            "92/92 - 3s - loss: 0.0053 - mean_absolute_error: 0.0553 - 3s/epoch - 30ms/step\n",
            "92/92 - 0s - loss: 0.0149 - mean_absolute_error: 0.0947 - 388ms/epoch - 4ms/step\n",
            "92/92 - 0s - loss: 0.0086 - mean_absolute_error: 0.0748 - 370ms/epoch - 4ms/step\n",
            "92/92 - 0s - loss: 0.0062 - mean_absolute_error: 0.0634 - 339ms/epoch - 4ms/step\n",
            "92/92 - 0s - loss: 0.0053 - mean_absolute_error: 0.0578 - 251ms/epoch - 3ms/step\n",
            "92/92 - 0s - loss: 0.0049 - mean_absolute_error: 0.0553 - 266ms/epoch - 3ms/step\n",
            "92/92 - 0s - loss: 0.0048 - mean_absolute_error: 0.0543 - 262ms/epoch - 3ms/step\n",
            "92/92 - 0s - loss: 0.0048 - mean_absolute_error: 0.0537 - 261ms/epoch - 3ms/step\n",
            "92/92 - 0s - loss: 0.0047 - mean_absolute_error: 0.0533 - 272ms/epoch - 3ms/step\n",
            "92/92 - 0s - loss: 0.0047 - mean_absolute_error: 0.0530 - 256ms/epoch - 3ms/step\n",
            "92/92 - 0s - loss: 0.0047 - mean_absolute_error: 0.0527 - 263ms/epoch - 3ms/step\n",
            "92/92 - 0s - loss: 0.0046 - mean_absolute_error: 0.0525 - 268ms/epoch - 3ms/step\n",
            "92/92 - 0s - loss: 0.0046 - mean_absolute_error: 0.0523 - 273ms/epoch - 3ms/step\n",
            "92/92 - 0s - loss: 0.0046 - mean_absolute_error: 0.0521 - 255ms/epoch - 3ms/step\n",
            "92/92 - 0s - loss: 0.0045 - mean_absolute_error: 0.0520 - 268ms/epoch - 3ms/step\n",
            "92/92 - 0s - loss: 0.0045 - mean_absolute_error: 0.0518 - 271ms/epoch - 3ms/step\n",
            "92/92 - 0s - loss: 0.0045 - mean_absolute_error: 0.0517 - 288ms/epoch - 3ms/step\n",
            "92/92 - 0s - loss: 0.0045 - mean_absolute_error: 0.0515 - 265ms/epoch - 3ms/step\n",
            "92/92 - 0s - loss: 0.0044 - mean_absolute_error: 0.0514 - 256ms/epoch - 3ms/step\n",
            "92/92 - 0s - loss: 0.0044 - mean_absolute_error: 0.0512 - 259ms/epoch - 3ms/step\n",
            "92/92 - 0s - loss: 0.0044 - mean_absolute_error: 0.0511 - 272ms/epoch - 3ms/step\n",
            "92/92 - 0s - loss: 0.0044 - mean_absolute_error: 0.0510 - 263ms/epoch - 3ms/step\n",
            "92/92 - 0s - loss: 0.0043 - mean_absolute_error: 0.0509 - 259ms/epoch - 3ms/step\n",
            "92/92 - 0s - loss: 0.0043 - mean_absolute_error: 0.0507 - 263ms/epoch - 3ms/step\n",
            "92/92 - 0s - loss: 0.0043 - mean_absolute_error: 0.0506 - 254ms/epoch - 3ms/step\n",
            "92/92 - 0s - loss: 0.0043 - mean_absolute_error: 0.0505 - 283ms/epoch - 3ms/step\n",
            "92/92 - 0s - loss: 0.0042 - mean_absolute_error: 0.0503 - 260ms/epoch - 3ms/step\n",
            "92/92 - 0s - loss: 0.0042 - mean_absolute_error: 0.0501 - 254ms/epoch - 3ms/step\n",
            "92/92 - 0s - loss: 0.0042 - mean_absolute_error: 0.0499 - 250ms/epoch - 3ms/step\n",
            "92/92 - 0s - loss: 0.0042 - mean_absolute_error: 0.0496 - 266ms/epoch - 3ms/step\n",
            "92/92 - 0s - loss: 0.0041 - mean_absolute_error: 0.0494 - 259ms/epoch - 3ms/step\n",
            "92/92 - 0s - loss: 0.0041 - mean_absolute_error: 0.0493 - 260ms/epoch - 3ms/step\n",
            "92/92 - 0s - loss: 0.0041 - mean_absolute_error: 0.0491 - 324ms/epoch - 4ms/step\n",
            "92/92 - 0s - loss: 0.0041 - mean_absolute_error: 0.0490 - 335ms/epoch - 4ms/step\n",
            "92/92 - 0s - loss: 0.0040 - mean_absolute_error: 0.0489 - 348ms/epoch - 4ms/step\n",
            "92/92 - 0s - loss: 0.0040 - mean_absolute_error: 0.0487 - 339ms/epoch - 4ms/step\n",
            "92/92 - 0s - loss: 0.0040 - mean_absolute_error: 0.0486 - 323ms/epoch - 4ms/step\n",
            "92/92 - 0s - loss: 0.0039 - mean_absolute_error: 0.0485 - 366ms/epoch - 4ms/step\n",
            "92/92 - 0s - loss: 0.0039 - mean_absolute_error: 0.0484 - 356ms/epoch - 4ms/step\n",
            "92/92 - 0s - loss: 0.0038 - mean_absolute_error: 0.0483 - 297ms/epoch - 3ms/step\n",
            "92/92 - 0s - loss: 0.0038 - mean_absolute_error: 0.0483 - 257ms/epoch - 3ms/step\n",
            "92/92 - 0s - loss: 0.0038 - mean_absolute_error: 0.0483 - 270ms/epoch - 3ms/step\n",
            "92/92 - 0s - loss: 0.0037 - mean_absolute_error: 0.0482 - 269ms/epoch - 3ms/step\n",
            "92/92 - 0s - loss: 0.0037 - mean_absolute_error: 0.0481 - 259ms/epoch - 3ms/step\n",
            "92/92 - 0s - loss: 0.0037 - mean_absolute_error: 0.0480 - 259ms/epoch - 3ms/step\n",
            "92/92 - 0s - loss: 0.0036 - mean_absolute_error: 0.0479 - 261ms/epoch - 3ms/step\n",
            "92/92 - 0s - loss: 0.0036 - mean_absolute_error: 0.0476 - 261ms/epoch - 3ms/step\n",
            "92/92 - 0s - loss: 0.0035 - mean_absolute_error: 0.0473 - 266ms/epoch - 3ms/step\n",
            "92/92 - 0s - loss: 0.0035 - mean_absolute_error: 0.0470 - 265ms/epoch - 3ms/step\n",
            "92/92 - 0s - loss: 0.0035 - mean_absolute_error: 0.0466 - 247ms/epoch - 3ms/step\n",
            "92/92 - 0s - loss: 0.0034 - mean_absolute_error: 0.0462 - 249ms/epoch - 3ms/step\n",
            "92/92 - 0s - loss: 0.0033 - mean_absolute_error: 0.0458 - 264ms/epoch - 3ms/step\n",
            "92/92 - 0s - loss: 0.0033 - mean_absolute_error: 0.0454 - 261ms/epoch - 3ms/step\n",
            "92/92 - 0s - loss: 0.0032 - mean_absolute_error: 0.0450 - 263ms/epoch - 3ms/step\n",
            "92/92 - 0s - loss: 0.0032 - mean_absolute_error: 0.0446 - 287ms/epoch - 3ms/step\n",
            "92/92 - 0s - loss: 0.0031 - mean_absolute_error: 0.0442 - 256ms/epoch - 3ms/step\n",
            "92/92 - 0s - loss: 0.0031 - mean_absolute_error: 0.0438 - 258ms/epoch - 3ms/step\n",
            "92/92 - 0s - loss: 0.0030 - mean_absolute_error: 0.0433 - 287ms/epoch - 3ms/step\n",
            "92/92 - 0s - loss: 0.0030 - mean_absolute_error: 0.0429 - 254ms/epoch - 3ms/step\n",
            "92/92 - 0s - loss: 0.0029 - mean_absolute_error: 0.0425 - 259ms/epoch - 3ms/step\n",
            "92/92 - 0s - loss: 0.0029 - mean_absolute_error: 0.0422 - 260ms/epoch - 3ms/step\n",
            "92/92 - 0s - loss: 0.0028 - mean_absolute_error: 0.0418 - 254ms/epoch - 3ms/step\n",
            "92/92 - 0s - loss: 0.0028 - mean_absolute_error: 0.0414 - 250ms/epoch - 3ms/step\n",
            "92/92 - 0s - loss: 0.0027 - mean_absolute_error: 0.0410 - 253ms/epoch - 3ms/step\n",
            "92/92 - 0s - loss: 0.0027 - mean_absolute_error: 0.0406 - 251ms/epoch - 3ms/step\n",
            "92/92 - 0s - loss: 0.0026 - mean_absolute_error: 0.0402 - 257ms/epoch - 3ms/step\n",
            "92/92 - 0s - loss: 0.0026 - mean_absolute_error: 0.0399 - 260ms/epoch - 3ms/step\n",
            "92/92 - 0s - loss: 0.0025 - mean_absolute_error: 0.0395 - 250ms/epoch - 3ms/step\n",
            "92/92 - 0s - loss: 0.0025 - mean_absolute_error: 0.0391 - 262ms/epoch - 3ms/step\n",
            "92/92 - 0s - loss: 0.0024 - mean_absolute_error: 0.0388 - 357ms/epoch - 4ms/step\n",
            "92/92 - 0s - loss: 0.0024 - mean_absolute_error: 0.0384 - 335ms/epoch - 4ms/step\n",
            "92/92 - 0s - loss: 0.0023 - mean_absolute_error: 0.0381 - 347ms/epoch - 4ms/step\n",
            "92/92 - 0s - loss: 0.0023 - mean_absolute_error: 0.0378 - 335ms/epoch - 4ms/step\n",
            "92/92 - 0s - loss: 0.0023 - mean_absolute_error: 0.0374 - 346ms/epoch - 4ms/step\n",
            "92/92 - 0s - loss: 0.0022 - mean_absolute_error: 0.0371 - 252ms/epoch - 3ms/step\n",
            "92/92 - 0s - loss: 0.0022 - mean_absolute_error: 0.0368 - 255ms/epoch - 3ms/step\n",
            "92/92 - 0s - loss: 0.0021 - mean_absolute_error: 0.0365 - 251ms/epoch - 3ms/step\n",
            "92/92 - 0s - loss: 0.0021 - mean_absolute_error: 0.0362 - 251ms/epoch - 3ms/step\n",
            "92/92 - 0s - loss: 0.0021 - mean_absolute_error: 0.0359 - 262ms/epoch - 3ms/step\n",
            "92/92 - 0s - loss: 0.0020 - mean_absolute_error: 0.0356 - 253ms/epoch - 3ms/step\n",
            "92/92 - 0s - loss: 0.0020 - mean_absolute_error: 0.0352 - 255ms/epoch - 3ms/step\n",
            "92/92 - 0s - loss: 0.0020 - mean_absolute_error: 0.0349 - 257ms/epoch - 3ms/step\n",
            "92/92 - 0s - loss: 0.0019 - mean_absolute_error: 0.0346 - 247ms/epoch - 3ms/step\n",
            "92/92 - 0s - loss: 0.0019 - mean_absolute_error: 0.0344 - 249ms/epoch - 3ms/step\n",
            "92/92 - 0s - loss: 0.0019 - mean_absolute_error: 0.0342 - 274ms/epoch - 3ms/step\n",
            "92/92 - 0s - loss: 0.0019 - mean_absolute_error: 0.0339 - 246ms/epoch - 3ms/step\n",
            "92/92 - 0s - loss: 0.0018 - mean_absolute_error: 0.0337 - 275ms/epoch - 3ms/step\n",
            "92/92 - 0s - loss: 0.0018 - mean_absolute_error: 0.0335 - 255ms/epoch - 3ms/step\n",
            "92/92 - 0s - loss: 0.0018 - mean_absolute_error: 0.0333 - 243ms/epoch - 3ms/step\n",
            "92/92 - 0s - loss: 0.0018 - mean_absolute_error: 0.0331 - 262ms/epoch - 3ms/step\n",
            "92/92 - 0s - loss: 0.0018 - mean_absolute_error: 0.0330 - 256ms/epoch - 3ms/step\n",
            "92/92 - 0s - loss: 0.0017 - mean_absolute_error: 0.0329 - 259ms/epoch - 3ms/step\n",
            "92/92 - 0s - loss: 0.0017 - mean_absolute_error: 0.0328 - 255ms/epoch - 3ms/step\n",
            "92/92 - 0s - loss: 0.0017 - mean_absolute_error: 0.0327 - 274ms/epoch - 3ms/step\n",
            "92/92 - 0s - loss: 0.0017 - mean_absolute_error: 0.0326 - 247ms/epoch - 3ms/step\n",
            "92/92 - 0s - loss: 0.0017 - mean_absolute_error: 0.0325 - 255ms/epoch - 3ms/step\n",
            "92/92 - 0s - loss: 0.0017 - mean_absolute_error: 0.0324 - 263ms/epoch - 3ms/step\n",
            "92/92 - 0s - loss: 0.0017 - mean_absolute_error: 0.0323 - 250ms/epoch - 3ms/step\n",
            "92/92 - 0s - loss: 0.0017 - mean_absolute_error: 0.0323 - 249ms/epoch - 3ms/step\n",
            "92/92 - 0s - loss: 0.0016 - mean_absolute_error: 0.0322 - 281ms/epoch - 3ms/step\n",
            "92/92 [==============================] - 1s 2ms/step\n",
            "44/44 [==============================] - 0s 2ms/step\n",
            "Train Score: 20.94 RMSE\n",
            "Test Score: 59.01 RMSE\n",
            "Train Score: 17.407 MAE\n",
            "Test Score: 46.787 MAE\n"
          ]
        },
        {
          "output_type": "display_data",
          "data": {
            "text/plain": [
              "<Figure size 640x480 with 1 Axes>"
            ],
            "image/png": "[encoded data removed]"
          },
          "metadata": {}
        }
      ],
      "source": [
        "batch_size = 1\n",
        "model = Sequential()\n",
        "model.add(LSTM(4, batch_input_shape=(batch_size, look_back, 1), stateful=True))\n",
        "model.add(Dense(1))\n",
        "model.compile(loss='mean_squared_error', optimizer='adam', metrics=['mean_absolute_error'])\n",
        "for i in range(100):\n",
        "\tmodel.fit(trainX, trainY, epochs=1, batch_size=batch_size, verbose=2, shuffle=False)\n",
        "\tmodel.reset_states()\n",
        "\n",
        "trainPredict = model.predict(trainX, batch_size=batch_size)\n",
        "model.reset_states()\n",
        "testPredict = model.predict(testX, batch_size=batch_size)\n",
        "\n",
        "trainPredict = scaler.inverse_transform(trainPredict)\n",
        "trainY = scaler.inverse_transform([trainY])\n",
        "testPredict = scaler.inverse_transform(testPredict)\n",
        "testY = scaler.inverse_transform([testY])\n",
        "\n",
        "trainScore = math.sqrt(mean_squared_error(trainY[0], trainPredict[:,0]))\n",
        "print('Train Score: %.2f RMSE' % (trainScore))\n",
        "testScore = math.sqrt(mean_squared_error(testY[0], testPredict[:,0]))\n",
        "print('Test Score: %.2f RMSE' % (testScore))\n",
        "\n",
        "trainScore = mean_absolute_error(trainY[0], trainPredict[:,0])\n",
        "print('Train Score: %.3f MAE' % (trainScore))\n",
        "testScore = mean_absolute_error(testY[0], testPredict[:,0])\n",
        "print('Test Score: %.3f MAE' % (testScore))\n",
        "\n",
        "trainPredictPlot = numpy.empty_like(dataset)\n",
        "trainPredictPlot[:, :] = numpy.nan\n",
        "trainPredictPlot[look_back:len(trainPredict)+look_back, :] = trainPredict\n",
        "\n",
        "testPredictPlot = numpy.empty_like(dataset)\n",
        "testPredictPlot[:, :] = numpy.nan\n",
        "testPredictPlot[len(trainPredict)+(look_back*2)+1:len(dataset)-1, :] = testPredict\n",
        "\n",
        "plt.plot(scaler.inverse_transform(dataset))\n",
        "plt.plot(trainPredictPlot)\n",
        "plt.plot(testPredictPlot)\n",
        "plt.show() "
      ]
    },
    {
      "cell_type": "markdown",
      "source": [
        "## Решение 1\n",
        "\n",
        "Сделаем несколько функций, чтобы удобней было использовать."
      ],
      "metadata": {
        "id": "6l_PIJnal2qf"
      }
    },
    {
      "cell_type": "code",
      "source": [
        "def calc_results(model, batch_size=1, func_error=mean_squared_error, print_results=False):\n",
        "    trainPredict = model.predict(trainX, batch_size=batch_size)\n",
        "    model.reset_states()\n",
        "    testPredict = model.predict(testX, batch_size=batch_size)\n",
        "\n",
        "    trainPredict = scaler.inverse_transform(trainPredict)\n",
        "    train_Y = scaler.inverse_transform([trainY])\n",
        "    testPredict = scaler.inverse_transform(testPredict)\n",
        "    test_Y = scaler.inverse_transform([testY])\n",
        "\n",
        "    trainScore = math.sqrt(mean_squared_error(train_Y[0], trainPredict[:,0]))\n",
        "    if print_results:\n",
        "        print('Train Score: %.2f RMSE' % (trainScore))\n",
        "    testScore = math.sqrt(mean_squared_error(test_Y[0], testPredict[:,0]))\n",
        "    if print_results:\n",
        "        print('Test Score: %.2f RMSE' % (testScore))\n",
        "\n",
        "    return trainPredict, testPredict, trainScore, testScore\n",
        "\n",
        "def show_results(trainPredict, testPredict):\n",
        "    trainPredictPlot = numpy.empty_like(dataset)\n",
        "    trainPredictPlot[:, :] = numpy.nan\n",
        "    trainPredictPlot[look_back:len(trainPredict)+look_back, :] = trainPredict\n",
        "\n",
        "    testPredictPlot = numpy.empty_like(dataset)\n",
        "    testPredictPlot[:, :] = numpy.nan\n",
        "    testPredictPlot[len(trainPredict)+(look_back*2)+1:len(dataset)-1, :] = testPredict\n",
        "\n",
        "    plt.plot(scaler.inverse_transform(dataset))\n",
        "    plt.plot(trainPredictPlot)\n",
        "    plt.plot(testPredictPlot)\n",
        "    plt.show()"
      ],
      "metadata": {
        "id": "g3wtu_ZYfVlY"
      },
      "execution_count": 70,
      "outputs": []
    },
    {
      "cell_type": "code",
      "source": [
        "numpy.random.seed(7)\n",
        "\n",
        "dataframe = read_csv('airline-passengers.csv', usecols=[1], engine='python')\n",
        "dataset = dataframe.values\n",
        "dataset = dataset.astype('float32')\n",
        "scaler = MinMaxScaler(feature_range=(0, 1))\n",
        "dataset = scaler.fit_transform(dataset)\n",
        "\n",
        "train_size = int(len(dataset) * 0.67)\n",
        "test_size = len(dataset) - train_size\n",
        "train, test = dataset[0:train_size,:], dataset[train_size:len(dataset),:]\n",
        "\n",
        "look_back = 3\n",
        "trainX, trainY = create_dataset(train, look_back)\n",
        "testX, testY = create_dataset(test, look_back)\n",
        "# reshape input to be [samples, time steps, features]\n",
        "trainX = numpy.reshape(trainX, (trainX.shape[0], trainX.shape[1], 1))\n",
        "testX = numpy.reshape(testX, (testX.shape[0], testX.shape[1], 1))"
      ],
      "metadata": {
        "id": "cOWC-NGFrtV0"
      },
      "execution_count": 105,
      "outputs": []
    },
    {
      "cell_type": "code",
      "source": [
        "trainX.shape, trainY.shape"
      ],
      "metadata": {
        "colab": {
          "base_uri": "https://localhost:8080/"
        },
        "id": "j6YHIF72wN7A",
        "outputId": "737c0b2c-96a3-4c36-fef8-f9c62a768091"
      },
      "execution_count": 72,
      "outputs": [
        {
          "output_type": "execute_result",
          "data": {
            "text/plain": [
              "((92, 3, 1), (92,))"
            ]
          },
          "metadata": {},
          "execution_count": 72
        }
      ]
    },
    {
      "cell_type": "markdown",
      "source": [
        "Попробуем поменять batch."
      ],
      "metadata": {
        "id": "k-1LLuzOmQKP"
      }
    },
    {
      "cell_type": "code",
      "source": [
        "batch_sizes = [1, 2] \n",
        "results = list()\n",
        "\n",
        "for bs in batch_sizes:\n",
        "    model = Sequential()\n",
        "    model.add(LSTM(4, batch_input_shape=(bs, look_back, 1), stateful=True))\n",
        "    model.add(Dense(1))\n",
        "    model.compile(loss='mean_squared_error', optimizer='adam', metrics=['accuracy'])\n",
        "    for i in range(100):\n",
        "        model.fit(trainX, trainY, epochs=1, batch_size=bs, verbose=0, shuffle=False)\n",
        "        model.reset_states()\n",
        "    trainPredist, testPredict, trainScore, testScore = calc_results(model, batch_size=bs)\n",
        "    score, acc = model.evaluate(testX, testY, batch_size=bs)\n",
        "    results.append({'trainPredist':trainPredist, 'testPredict':testPredict,\n",
        "                    'trainScore': trainScore, 'testScore': testScore,\n",
        "                    'batch_size':bs, 'score':score, 'acc': acc})\n",
        "    \n",
        "data_res = pd.DataFrame(results).sort_values('testScore')\n",
        "data_res"
      ],
      "metadata": {
        "colab": {
          "base_uri": "https://localhost:8080/",
          "height": 216
        },
        "id": "ose7uYSgmJEz",
        "outputId": "5b905ac3-53a8-4592-e8f4-6443a11b0e83"
      },
      "execution_count": 75,
      "outputs": [
        {
          "output_type": "stream",
          "name": "stdout",
          "text": [
            "92/92 [==============================] - 1s 2ms/step\n",
            "44/44 [==============================] - 0s 2ms/step\n",
            "44/44 [==============================] - 0s 2ms/step - loss: 0.0249 - accuracy: 0.0227\n",
            "46/46 [==============================] - 0s 2ms/step\n",
            "22/22 [==============================] - 0s 2ms/step\n",
            "22/22 [==============================] - 0s 3ms/step - loss: 0.0144 - accuracy: 0.0227\n"
          ]
        },
        {
          "output_type": "execute_result",
          "data": {
            "text/plain": [
              "                                        trainPredist  \\\n",
              "1  [[106.56424], [108.70041], [115.425835], [118....   \n",
              "0  [[146.60425], [137.22084], [123.60309], [131.6...   \n",
              "\n",
              "                                         testPredict  trainScore  testScore  \\\n",
              "1  [[220.82556], [225.32602], [280.97], [305.0504...   28.355614  74.581141   \n",
              "0  [[355.8503], [319.36862], [319.2792], [388.794...   25.904494  78.484171   \n",
              "\n",
              "   batch_size     score       acc  \n",
              "1           2  0.014353  0.022727  \n",
              "0           1  0.024850  0.022727  "
            ],
            "text/html": [
              "\n",
              "  <div id=\"df-fe2ed437-8b1e-4371-a4c4-5c6cc289a30f\">\n",
              "    <div class=\"colab-df-container\">\n",
              "      <div>\n",
              "<style scoped>\n",
              "    .dataframe tbody tr th:only-of-type {\n",
              "        vertical-align: middle;\n",
              "    }\n",
              "\n",
              "    .dataframe tbody tr th {\n",
              "        vertical-align: top;\n",
              "    }\n",
              "\n",
              "    .dataframe thead th {\n",
              "        text-align: right;\n",
              "    }\n",
              "</style>\n",
              "<table border=\"1\" class=\"dataframe\">\n",
              "  <thead>\n",
              "    <tr style=\"text-align: right;\">\n",
              "      <th></th>\n",
              "      <th>trainPredist</th>\n",
              "      <th>testPredict</th>\n",
              "      <th>trainScore</th>\n",
              "      <th>testScore</th>\n",
              "      <th>batch_size</th>\n",
              "      <th>score</th>\n",
              "      <th>acc</th>\n",
              "    </tr>\n",
              "  </thead>\n",
              "  <tbody>\n",
              "    <tr>\n",
              "      <th>1</th>\n",
              "      <td>[[106.56424], [108.70041], [115.425835], [118....</td>\n",
              "      <td>[[220.82556], [225.32602], [280.97], [305.0504...</td>\n",
              "      <td>28.355614</td>\n",
              "      <td>74.581141</td>\n",
              "      <td>2</td>\n",
              "      <td>0.014353</td>\n",
              "      <td>0.022727</td>\n",
              "    </tr>\n",
              "    <tr>\n",
              "      <th>0</th>\n",
              "      <td>[[146.60425], [137.22084], [123.60309], [131.6...</td>\n",
              "      <td>[[355.8503], [319.36862], [319.2792], [388.794...</td>\n",
              "      <td>25.904494</td>\n",
              "      <td>78.484171</td>\n",
              "      <td>1</td>\n",
              "      <td>0.024850</td>\n",
              "      <td>0.022727</td>\n",
              "    </tr>\n",
              "  </tbody>\n",
              "</table>\n",
              "</div>\n",
              "      <button class=\"colab-df-convert\" onclick=\"convertToInteractive('df-fe2ed437-8b1e-4371-a4c4-5c6cc289a30f')\"\n",
              "              title=\"Convert this dataframe to an interactive table.\"\n",
              "              style=\"display:none;\">\n",
              "        \n",
              "  <svg xmlns=\"http://www.w3.org/2000/svg\" height=\"24px\"viewBox=\"0 0 24 24\"\n",
              "       width=\"24px\">\n",
              "    <path d=\"M0 0h24v24H0V0z\" fill=\"none\"/>\n",
              "    <path d=\"M18.56 5.44l.94 2.06.94-2.06 2.06-.94-2.06-.94-.94-2.06-.94 2.06-2.06.94zm-11 1L8.5 8.5l.94-2.06 2.06-.94-2.06-.94L8.5 2.5l-.94 2.06-2.06.94zm10 10l.94 2.06.94-2.06 2.06-.94-2.06-.94-.94-2.06-.94 2.06-2.06.94z\"/><path d=\"M17.41 7.96l-1.37-1.37c-.4-.4-.92-.59-1.43-.59-.52 0-1.04.2-1.43.59L10.3 9.45l-7.72 7.72c-.78.78-.78 2.05 0 2.83L4 21.41c.39.39.9.59 1.41.59.51 0 1.02-.2 1.41-.59l7.78-7.78 2.81-2.81c.8-.78.8-2.07 0-2.86zM5.41 20L4 18.59l7.72-7.72 1.47 1.35L5.41 20z\"/>\n",
              "  </svg>\n",
              "      </button>\n",
              "      \n",
              "  <style>\n",
              "    .colab-df-container {\n",
              "      display:flex;\n",
              "      flex-wrap:wrap;\n",
              "      gap: 12px;\n",
              "    }\n",
              "\n",
              "    .colab-df-convert {\n",
              "      background-color: #E8F0FE;\n",
              "      border: none;\n",
              "      border-radius: 50%;\n",
              "      cursor: pointer;\n",
              "      display: none;\n",
              "      fill: #1967D2;\n",
              "      height: 32px;\n",
              "      padding: 0 0 0 0;\n",
              "      width: 32px;\n",
              "    }\n",
              "\n",
              "    .colab-df-convert:hover {\n",
              "      background-color: #E2EBFA;\n",
              "      box-shadow: 0px 1px 2px rgba(60, 64, 67, 0.3), 0px 1px 3px 1px rgba(60, 64, 67, 0.15);\n",
              "      fill: #174EA6;\n",
              "    }\n",
              "\n",
              "    [theme=dark] .colab-df-convert {\n",
              "      background-color: #3B4455;\n",
              "      fill: #D2E3FC;\n",
              "    }\n",
              "\n",
              "    [theme=dark] .colab-df-convert:hover {\n",
              "      background-color: #434B5C;\n",
              "      box-shadow: 0px 1px 3px 1px rgba(0, 0, 0, 0.15);\n",
              "      filter: drop-shadow(0px 1px 2px rgba(0, 0, 0, 0.3));\n",
              "      fill: #FFFFFF;\n",
              "    }\n",
              "  </style>\n",
              "\n",
              "      <script>\n",
              "        const buttonEl =\n",
              "          document.querySelector('#df-fe2ed437-8b1e-4371-a4c4-5c6cc289a30f button.colab-df-convert');\n",
              "        buttonEl.style.display =\n",
              "          google.colab.kernel.accessAllowed ? 'block' : 'none';\n",
              "\n",
              "        async function convertToInteractive(key) {\n",
              "          const element = document.querySelector('#df-fe2ed437-8b1e-4371-a4c4-5c6cc289a30f');\n",
              "          const dataTable =\n",
              "            await google.colab.kernel.invokeFunction('convertToInteractive',\n",
              "                                                     [key], {});\n",
              "          if (!dataTable) return;\n",
              "\n",
              "          const docLinkHtml = 'Like what you see? Visit the ' +\n",
              "            '<a target=\"_blank\" href=https://colab.research.google.com/notebooks/data_table.ipynb>data table notebook</a>'\n",
              "            + ' to learn more about interactive tables.';\n",
              "          element.innerHTML = '';\n",
              "          dataTable['output_type'] = 'display_data';\n",
              "          await google.colab.output.renderOutput(dataTable, element);\n",
              "          const docLink = document.createElement('div');\n",
              "          docLink.innerHTML = docLinkHtml;\n",
              "          element.appendChild(docLink);\n",
              "        }\n",
              "      </script>\n",
              "    </div>\n",
              "  </div>\n",
              "  "
            ]
          },
          "metadata": {},
          "execution_count": 75
        }
      ]
    },
    {
      "cell_type": "code",
      "source": [
        "batch_size = data_res.reset_index()['batch_size'][0]\n",
        "batch_size"
      ],
      "metadata": {
        "colab": {
          "base_uri": "https://localhost:8080/"
        },
        "id": "_MlKGiGEn33F",
        "outputId": "ca64f24e-a2f6-431b-ee4c-ef10e79473da"
      },
      "execution_count": 62,
      "outputs": [
        {
          "output_type": "execute_result",
          "data": {
            "text/plain": [
              "2"
            ]
          },
          "metadata": {},
          "execution_count": 62
        }
      ]
    },
    {
      "cell_type": "markdown",
      "source": [
        "На первый взгляд разница о mse не сильная (можно сказать в пределах погрешности). A accuracy вообще не различается. Поэтому используем mse. Что насчитали, то и используем.\n",
        "\n",
        "Попробуем подобрать loss."
      ],
      "metadata": {
        "id": "M87HAm8Ax14t"
      }
    },
    {
      "cell_type": "code",
      "source": [
        "trainX.shape, trainY.shape"
      ],
      "metadata": {
        "colab": {
          "base_uri": "https://localhost:8080/"
        },
        "id": "mxaaT-rn0ffi",
        "outputId": "7bc4fa5e-6ace-4809-d484-c0d0ee09bb59"
      },
      "execution_count": 76,
      "outputs": [
        {
          "output_type": "execute_result",
          "data": {
            "text/plain": [
              "((92, 3, 1), (92,))"
            ]
          },
          "metadata": {},
          "execution_count": 76
        }
      ]
    },
    {
      "cell_type": "markdown",
      "source": [
        "Метрика accuracy совсем не катит. Надо поменять на mae."
      ],
      "metadata": {
        "id": "AtZShUPYDZru"
      }
    },
    {
      "cell_type": "code",
      "source": [
        "losss = ['mean_squared_error',\n",
        "         'mean_absolute_error',\n",
        "         'mean_absolute_percentage_error',\n",
        "         'binary_crossentropy',\n",
        "         'poisson',\n",
        "         'mean_squared_logarithmic_error',\n",
        "         'cosine_similarity']\n",
        "results = list()\n",
        "\n",
        "for ls in losss:\n",
        "    model = Sequential()\n",
        "    model.add(LSTM(4, batch_input_shape=(batch_size, look_back, 1), stateful=True))\n",
        "    model.add(Dense(1))\n",
        "    model.compile(loss=ls, optimizer='adam', metrics=['mean_absolute_error'])\n",
        "    for i in range(100):\n",
        "        model.fit(trainX, trainY, epochs=1, batch_size=batch_size, verbose=0, shuffle=False)\n",
        "        model.reset_states()\n",
        "    # trainPredist, testPredict, trainScore, testScore = calc_results(model, batch_size=batch_size)\n",
        "    score, m_a_e = model.evaluate(testX, testY, batch_size=batch_size)\n",
        "    results.append({'func_loss':ls, 'score':score, 'mae': m_a_e})\n",
        "    \n",
        "data_res = pd.DataFrame(results).sort_values('mae').reset_index()\n",
        "data_res"
      ],
      "metadata": {
        "colab": {
          "base_uri": "https://localhost:8080/",
          "height": 390
        },
        "id": "yu9fjQ1lts9-",
        "outputId": "81a55921-5aa5-430f-d270-dd11e8dd3624"
      },
      "execution_count": 91,
      "outputs": [
        {
          "output_type": "stream",
          "name": "stdout",
          "text": [
            "22/22 [==============================] - 0s 3ms/step - loss: 0.0275 - mean_absolute_error: 0.1263\n",
            "22/22 [==============================] - 0s 3ms/step - loss: 0.1220 - mean_absolute_error: 0.1220\n",
            "22/22 [==============================] - 0s 3ms/step - loss: 108.1634 - mean_absolute_error: 0.6556\n",
            "22/22 [==============================] - 0s 3ms/step - loss: 0.6488 - mean_absolute_error: 0.0894\n",
            "22/22 [==============================] - 0s 3ms/step - loss: nan - mean_absolute_error: 25.6744\n",
            "22/22 [==============================] - 1s 3ms/step - loss: 0.2301 - mean_absolute_error: 0.6552\n",
            "22/22 [==============================] - 0s 3ms/step - loss: -1.0000 - mean_absolute_error: 0.2437\n"
          ]
        },
        {
          "output_type": "execute_result",
          "data": {
            "text/plain": [
              "   index                       func_loss       score        mae\n",
              "0      3             binary_crossentropy    0.648825   0.089366\n",
              "1      1             mean_absolute_error    0.121997   0.121997\n",
              "2      0              mean_squared_error    0.027477   0.126327\n",
              "3      6               cosine_similarity   -1.000000   0.243690\n",
              "4      5  mean_squared_logarithmic_error    0.230084   0.655236\n",
              "5      2  mean_absolute_percentage_error  108.163376   0.655644\n",
              "6      4                         poisson         NaN  25.674440"
            ],
            "text/html": [
              "\n",
              "  <div id=\"df-b821b3e1-a47f-4858-ac3b-58611941ac49\">\n",
              "    <div class=\"colab-df-container\">\n",
              "      <div>\n",
              "<style scoped>\n",
              "    .dataframe tbody tr th:only-of-type {\n",
              "        vertical-align: middle;\n",
              "    }\n",
              "\n",
              "    .dataframe tbody tr th {\n",
              "        vertical-align: top;\n",
              "    }\n",
              "\n",
              "    .dataframe thead th {\n",
              "        text-align: right;\n",
              "    }\n",
              "</style>\n",
              "<table border=\"1\" class=\"dataframe\">\n",
              "  <thead>\n",
              "    <tr style=\"text-align: right;\">\n",
              "      <th></th>\n",
              "      <th>index</th>\n",
              "      <th>func_loss</th>\n",
              "      <th>score</th>\n",
              "      <th>mae</th>\n",
              "    </tr>\n",
              "  </thead>\n",
              "  <tbody>\n",
              "    <tr>\n",
              "      <th>0</th>\n",
              "      <td>3</td>\n",
              "      <td>binary_crossentropy</td>\n",
              "      <td>0.648825</td>\n",
              "      <td>0.089366</td>\n",
              "    </tr>\n",
              "    <tr>\n",
              "      <th>1</th>\n",
              "      <td>1</td>\n",
              "      <td>mean_absolute_error</td>\n",
              "      <td>0.121997</td>\n",
              "      <td>0.121997</td>\n",
              "    </tr>\n",
              "    <tr>\n",
              "      <th>2</th>\n",
              "      <td>0</td>\n",
              "      <td>mean_squared_error</td>\n",
              "      <td>0.027477</td>\n",
              "      <td>0.126327</td>\n",
              "    </tr>\n",
              "    <tr>\n",
              "      <th>3</th>\n",
              "      <td>6</td>\n",
              "      <td>cosine_similarity</td>\n",
              "      <td>-1.000000</td>\n",
              "      <td>0.243690</td>\n",
              "    </tr>\n",
              "    <tr>\n",
              "      <th>4</th>\n",
              "      <td>5</td>\n",
              "      <td>mean_squared_logarithmic_error</td>\n",
              "      <td>0.230084</td>\n",
              "      <td>0.655236</td>\n",
              "    </tr>\n",
              "    <tr>\n",
              "      <th>5</th>\n",
              "      <td>2</td>\n",
              "      <td>mean_absolute_percentage_error</td>\n",
              "      <td>108.163376</td>\n",
              "      <td>0.655644</td>\n",
              "    </tr>\n",
              "    <tr>\n",
              "      <th>6</th>\n",
              "      <td>4</td>\n",
              "      <td>poisson</td>\n",
              "      <td>NaN</td>\n",
              "      <td>25.674440</td>\n",
              "    </tr>\n",
              "  </tbody>\n",
              "</table>\n",
              "</div>\n",
              "      <button class=\"colab-df-convert\" onclick=\"convertToInteractive('df-b821b3e1-a47f-4858-ac3b-58611941ac49')\"\n",
              "              title=\"Convert this dataframe to an interactive table.\"\n",
              "              style=\"display:none;\">\n",
              "        \n",
              "  <svg xmlns=\"http://www.w3.org/2000/svg\" height=\"24px\"viewBox=\"0 0 24 24\"\n",
              "       width=\"24px\">\n",
              "    <path d=\"M0 0h24v24H0V0z\" fill=\"none\"/>\n",
              "    <path d=\"M18.56 5.44l.94 2.06.94-2.06 2.06-.94-2.06-.94-.94-2.06-.94 2.06-2.06.94zm-11 1L8.5 8.5l.94-2.06 2.06-.94-2.06-.94L8.5 2.5l-.94 2.06-2.06.94zm10 10l.94 2.06.94-2.06 2.06-.94-2.06-.94-.94-2.06-.94 2.06-2.06.94z\"/><path d=\"M17.41 7.96l-1.37-1.37c-.4-.4-.92-.59-1.43-.59-.52 0-1.04.2-1.43.59L10.3 9.45l-7.72 7.72c-.78.78-.78 2.05 0 2.83L4 21.41c.39.39.9.59 1.41.59.51 0 1.02-.2 1.41-.59l7.78-7.78 2.81-2.81c.8-.78.8-2.07 0-2.86zM5.41 20L4 18.59l7.72-7.72 1.47 1.35L5.41 20z\"/>\n",
              "  </svg>\n",
              "      </button>\n",
              "      \n",
              "  <style>\n",
              "    .colab-df-container {\n",
              "      display:flex;\n",
              "      flex-wrap:wrap;\n",
              "      gap: 12px;\n",
              "    }\n",
              "\n",
              "    .colab-df-convert {\n",
              "      background-color: #E8F0FE;\n",
              "      border: none;\n",
              "      border-radius: 50%;\n",
              "      cursor: pointer;\n",
              "      display: none;\n",
              "      fill: #1967D2;\n",
              "      height: 32px;\n",
              "      padding: 0 0 0 0;\n",
              "      width: 32px;\n",
              "    }\n",
              "\n",
              "    .colab-df-convert:hover {\n",
              "      background-color: #E2EBFA;\n",
              "      box-shadow: 0px 1px 2px rgba(60, 64, 67, 0.3), 0px 1px 3px 1px rgba(60, 64, 67, 0.15);\n",
              "      fill: #174EA6;\n",
              "    }\n",
              "\n",
              "    [theme=dark] .colab-df-convert {\n",
              "      background-color: #3B4455;\n",
              "      fill: #D2E3FC;\n",
              "    }\n",
              "\n",
              "    [theme=dark] .colab-df-convert:hover {\n",
              "      background-color: #434B5C;\n",
              "      box-shadow: 0px 1px 3px 1px rgba(0, 0, 0, 0.15);\n",
              "      filter: drop-shadow(0px 1px 2px rgba(0, 0, 0, 0.3));\n",
              "      fill: #FFFFFF;\n",
              "    }\n",
              "  </style>\n",
              "\n",
              "      <script>\n",
              "        const buttonEl =\n",
              "          document.querySelector('#df-b821b3e1-a47f-4858-ac3b-58611941ac49 button.colab-df-convert');\n",
              "        buttonEl.style.display =\n",
              "          google.colab.kernel.accessAllowed ? 'block' : 'none';\n",
              "\n",
              "        async function convertToInteractive(key) {\n",
              "          const element = document.querySelector('#df-b821b3e1-a47f-4858-ac3b-58611941ac49');\n",
              "          const dataTable =\n",
              "            await google.colab.kernel.invokeFunction('convertToInteractive',\n",
              "                                                     [key], {});\n",
              "          if (!dataTable) return;\n",
              "\n",
              "          const docLinkHtml = 'Like what you see? Visit the ' +\n",
              "            '<a target=\"_blank\" href=https://colab.research.google.com/notebooks/data_table.ipynb>data table notebook</a>'\n",
              "            + ' to learn more about interactive tables.';\n",
              "          element.innerHTML = '';\n",
              "          dataTable['output_type'] = 'display_data';\n",
              "          await google.colab.output.renderOutput(dataTable, element);\n",
              "          const docLink = document.createElement('div');\n",
              "          docLink.innerHTML = docLinkHtml;\n",
              "          element.appendChild(docLink);\n",
              "        }\n",
              "      </script>\n",
              "    </div>\n",
              "  </div>\n",
              "  "
            ]
          },
          "metadata": {},
          "execution_count": 91
        }
      ]
    },
    {
      "cell_type": "markdown",
      "source": [
        "Меняем функцию потерь.\n",
        "\n"
      ],
      "metadata": {
        "id": "9Jzld7Dy9yju"
      }
    },
    {
      "cell_type": "code",
      "source": [
        "loss_function = data_res['func_loss'][0]\n",
        "loss_function"
      ],
      "metadata": {
        "colab": {
          "base_uri": "https://localhost:8080/",
          "height": 35
        },
        "id": "R8qEIsGREeV-",
        "outputId": "b63d7f03-a911-42b5-f84b-d4064a925284"
      },
      "execution_count": 92,
      "outputs": [
        {
          "output_type": "execute_result",
          "data": {
            "text/plain": [
              "'binary_crossentropy'"
            ],
            "application/vnd.google.colaboratory.intrinsic+json": {
              "type": "string"
            }
          },
          "metadata": {},
          "execution_count": 92
        }
      ]
    },
    {
      "cell_type": "markdown",
      "source": [
        "Усложним сеть и посмотрим есть ли шанс на этом шаге улучшить метрику."
      ],
      "metadata": {
        "id": "b4vSmSxGFVu9"
      }
    },
    {
      "cell_type": "code",
      "source": [
        "results = list()\n",
        "\n",
        "model = Sequential()\n",
        "model.add(LSTM(4, batch_input_shape=(batch_size, look_back, 1), stateful=True, return_sequences=True))\n",
        "model.add(LSTM(8))\n",
        "model.add(Dense(1))\n",
        "model.compile(loss=loss_function, optimizer='adam', metrics=['mean_absolute_error'])\n",
        "for i in range(100):\n",
        "    model.fit(trainX, trainY, epochs=1, batch_size=batch_size, verbose=0, shuffle=False)\n",
        "    model.reset_states()\n",
        "# trainPredist, testPredict, trainScore, testScore = calc_results(model, batch_size=batch_size)\n",
        "score, m_a_e = model.evaluate(testX, testY, batch_size=batch_size)\n",
        "# results.append({'trainPredist':trainPredist, 'testPredict':testPredict,\n",
        "#                 'trainScore': trainScore, 'testScore': testScore,\n",
        "#                 'score':score, 'acc': acc})\n",
        "  \n",
        "# data_res = pd.DataFrame(results).sort_values('testScore')\n",
        "# data_res\n",
        "score, m_a_e"
      ],
      "metadata": {
        "colab": {
          "base_uri": "https://localhost:8080/"
        },
        "id": "uo9-MeLnxwLt",
        "outputId": "e352b3a2-b73c-4f8e-93f7-a851c9340919"
      },
      "execution_count": 95,
      "outputs": [
        {
          "output_type": "stream",
          "name": "stdout",
          "text": [
            "22/22 [==============================] - 1s 3ms/step - loss: 0.6943 - mean_absolute_error: 0.1393\n"
          ]
        },
        {
          "output_type": "execute_result",
          "data": {
            "text/plain": [
              "(0.6942771673202515, 0.13929809629917145)"
            ]
          },
          "metadata": {},
          "execution_count": 95
        }
      ]
    },
    {
      "cell_type": "markdown",
      "source": [
        "Несколько запусков показывают, что баш на баш. Лучше использовать первый вариант.\n",
        "\n",
        "Ещё сделаем подбор оптимизатора."
      ],
      "metadata": {
        "id": "Yv5I6NwdGJcp"
      }
    },
    {
      "cell_type": "code",
      "source": [
        "optimizers = ['Adam',\n",
        "         'RMSprop',\n",
        "         'Adamax',\n",
        "         'Nadam']\n",
        "results = list()\n",
        "\n",
        "for op in optimizers:\n",
        "    model = Sequential()\n",
        "    model.add(LSTM(4, batch_input_shape=(batch_size, look_back, 1), stateful=True))\n",
        "    model.add(Dense(1))\n",
        "    model.compile(loss=loss_function, optimizer=op, metrics=['mean_absolute_error'])\n",
        "    for i in range(100):\n",
        "        model.fit(trainX, trainY, epochs=1, batch_size=batch_size, verbose=0, shuffle=False)\n",
        "        model.reset_states()\n",
        "    # trainPredist, testPredict, trainScore, testScore = calc_results(model, batch_size=batch_size)\n",
        "    score, m_a_e = model.evaluate(testX, testY, batch_size=batch_size)\n",
        "    results.append({'optimizer':op, 'score':score, 'mae': m_a_e})\n",
        "    \n",
        "data_res = pd.DataFrame(results).sort_values('mae').reset_index()\n",
        "data_res"
      ],
      "metadata": {
        "colab": {
          "base_uri": "https://localhost:8080/",
          "height": 244
        },
        "id": "p292_9j6zt7X",
        "outputId": "5944068c-f671-4398-9ba8-423364998142"
      },
      "execution_count": 96,
      "outputs": [
        {
          "output_type": "stream",
          "name": "stdout",
          "text": [
            "22/22 [==============================] - 1s 3ms/step - loss: 0.6567 - mean_absolute_error: 0.1054\n",
            "22/22 [==============================] - 1s 4ms/step - loss: 0.6506 - mean_absolute_error: 0.0985\n",
            "22/22 [==============================] - 0s 3ms/step - loss: 0.6724 - mean_absolute_error: 0.1246\n",
            "22/22 [==============================] - 1s 3ms/step - loss: 0.6461 - mean_absolute_error: 0.0880\n"
          ]
        },
        {
          "output_type": "execute_result",
          "data": {
            "text/plain": [
              "   index optimizer     score       mae\n",
              "0      3     Nadam  0.646090  0.087981\n",
              "1      1   RMSprop  0.650586  0.098464\n",
              "2      0      Adam  0.656693  0.105393\n",
              "3      2    Adamax  0.672350  0.124627"
            ],
            "text/html": [
              "\n",
              "  <div id=\"df-1f0df220-b4b1-4d59-8d22-24a440cd5dcc\">\n",
              "    <div class=\"colab-df-container\">\n",
              "      <div>\n",
              "<style scoped>\n",
              "    .dataframe tbody tr th:only-of-type {\n",
              "        vertical-align: middle;\n",
              "    }\n",
              "\n",
              "    .dataframe tbody tr th {\n",
              "        vertical-align: top;\n",
              "    }\n",
              "\n",
              "    .dataframe thead th {\n",
              "        text-align: right;\n",
              "    }\n",
              "</style>\n",
              "<table border=\"1\" class=\"dataframe\">\n",
              "  <thead>\n",
              "    <tr style=\"text-align: right;\">\n",
              "      <th></th>\n",
              "      <th>index</th>\n",
              "      <th>optimizer</th>\n",
              "      <th>score</th>\n",
              "      <th>mae</th>\n",
              "    </tr>\n",
              "  </thead>\n",
              "  <tbody>\n",
              "    <tr>\n",
              "      <th>0</th>\n",
              "      <td>3</td>\n",
              "      <td>Nadam</td>\n",
              "      <td>0.646090</td>\n",
              "      <td>0.087981</td>\n",
              "    </tr>\n",
              "    <tr>\n",
              "      <th>1</th>\n",
              "      <td>1</td>\n",
              "      <td>RMSprop</td>\n",
              "      <td>0.650586</td>\n",
              "      <td>0.098464</td>\n",
              "    </tr>\n",
              "    <tr>\n",
              "      <th>2</th>\n",
              "      <td>0</td>\n",
              "      <td>Adam</td>\n",
              "      <td>0.656693</td>\n",
              "      <td>0.105393</td>\n",
              "    </tr>\n",
              "    <tr>\n",
              "      <th>3</th>\n",
              "      <td>2</td>\n",
              "      <td>Adamax</td>\n",
              "      <td>0.672350</td>\n",
              "      <td>0.124627</td>\n",
              "    </tr>\n",
              "  </tbody>\n",
              "</table>\n",
              "</div>\n",
              "      <button class=\"colab-df-convert\" onclick=\"convertToInteractive('df-1f0df220-b4b1-4d59-8d22-24a440cd5dcc')\"\n",
              "              title=\"Convert this dataframe to an interactive table.\"\n",
              "              style=\"display:none;\">\n",
              "        \n",
              "  <svg xmlns=\"http://www.w3.org/2000/svg\" height=\"24px\"viewBox=\"0 0 24 24\"\n",
              "       width=\"24px\">\n",
              "    <path d=\"M0 0h24v24H0V0z\" fill=\"none\"/>\n",
              "    <path d=\"M18.56 5.44l.94 2.06.94-2.06 2.06-.94-2.06-.94-.94-2.06-.94 2.06-2.06.94zm-11 1L8.5 8.5l.94-2.06 2.06-.94-2.06-.94L8.5 2.5l-.94 2.06-2.06.94zm10 10l.94 2.06.94-2.06 2.06-.94-2.06-.94-.94-2.06-.94 2.06-2.06.94z\"/><path d=\"M17.41 7.96l-1.37-1.37c-.4-.4-.92-.59-1.43-.59-.52 0-1.04.2-1.43.59L10.3 9.45l-7.72 7.72c-.78.78-.78 2.05 0 2.83L4 21.41c.39.39.9.59 1.41.59.51 0 1.02-.2 1.41-.59l7.78-7.78 2.81-2.81c.8-.78.8-2.07 0-2.86zM5.41 20L4 18.59l7.72-7.72 1.47 1.35L5.41 20z\"/>\n",
              "  </svg>\n",
              "      </button>\n",
              "      \n",
              "  <style>\n",
              "    .colab-df-container {\n",
              "      display:flex;\n",
              "      flex-wrap:wrap;\n",
              "      gap: 12px;\n",
              "    }\n",
              "\n",
              "    .colab-df-convert {\n",
              "      background-color: #E8F0FE;\n",
              "      border: none;\n",
              "      border-radius: 50%;\n",
              "      cursor: pointer;\n",
              "      display: none;\n",
              "      fill: #1967D2;\n",
              "      height: 32px;\n",
              "      padding: 0 0 0 0;\n",
              "      width: 32px;\n",
              "    }\n",
              "\n",
              "    .colab-df-convert:hover {\n",
              "      background-color: #E2EBFA;\n",
              "      box-shadow: 0px 1px 2px rgba(60, 64, 67, 0.3), 0px 1px 3px 1px rgba(60, 64, 67, 0.15);\n",
              "      fill: #174EA6;\n",
              "    }\n",
              "\n",
              "    [theme=dark] .colab-df-convert {\n",
              "      background-color: #3B4455;\n",
              "      fill: #D2E3FC;\n",
              "    }\n",
              "\n",
              "    [theme=dark] .colab-df-convert:hover {\n",
              "      background-color: #434B5C;\n",
              "      box-shadow: 0px 1px 3px 1px rgba(0, 0, 0, 0.15);\n",
              "      filter: drop-shadow(0px 1px 2px rgba(0, 0, 0, 0.3));\n",
              "      fill: #FFFFFF;\n",
              "    }\n",
              "  </style>\n",
              "\n",
              "      <script>\n",
              "        const buttonEl =\n",
              "          document.querySelector('#df-1f0df220-b4b1-4d59-8d22-24a440cd5dcc button.colab-df-convert');\n",
              "        buttonEl.style.display =\n",
              "          google.colab.kernel.accessAllowed ? 'block' : 'none';\n",
              "\n",
              "        async function convertToInteractive(key) {\n",
              "          const element = document.querySelector('#df-1f0df220-b4b1-4d59-8d22-24a440cd5dcc');\n",
              "          const dataTable =\n",
              "            await google.colab.kernel.invokeFunction('convertToInteractive',\n",
              "                                                     [key], {});\n",
              "          if (!dataTable) return;\n",
              "\n",
              "          const docLinkHtml = 'Like what you see? Visit the ' +\n",
              "            '<a target=\"_blank\" href=https://colab.research.google.com/notebooks/data_table.ipynb>data table notebook</a>'\n",
              "            + ' to learn more about interactive tables.';\n",
              "          element.innerHTML = '';\n",
              "          dataTable['output_type'] = 'display_data';\n",
              "          await google.colab.output.renderOutput(dataTable, element);\n",
              "          const docLink = document.createElement('div');\n",
              "          docLink.innerHTML = docLinkHtml;\n",
              "          element.appendChild(docLink);\n",
              "        }\n",
              "      </script>\n",
              "    </div>\n",
              "  </div>\n",
              "  "
            ]
          },
          "metadata": {},
          "execution_count": 96
        }
      ]
    },
    {
      "cell_type": "code",
      "source": [
        "optimizer = data_res['optimizer'][0]\n",
        "optimizer"
      ],
      "metadata": {
        "colab": {
          "base_uri": "https://localhost:8080/",
          "height": 35
        },
        "id": "SnGAx3ws-lHA",
        "outputId": "9b222d10-b35f-4209-ad28-eef9a445304b"
      },
      "execution_count": 97,
      "outputs": [
        {
          "output_type": "execute_result",
          "data": {
            "text/plain": [
              "'Nadam'"
            ],
            "application/vnd.google.colaboratory.intrinsic+json": {
              "type": "string"
            }
          },
          "metadata": {},
          "execution_count": 97
        }
      ]
    },
    {
      "cell_type": "code",
      "source": [
        "model = Sequential()\n",
        "model.add(LSTM(4, batch_input_shape=(batch_size, look_back, 1), stateful=True))\n",
        "model.add(Dense(1))\n",
        "model.compile(loss=loss_function, optimizer=op, metrics=['mean_absolute_error'])\n",
        "for i in range(100):\n",
        "    model.fit(trainX, trainY, epochs=1, batch_size=batch_size, verbose=0, shuffle=False)\n",
        "    model.reset_states()\n",
        "# trainPredist, testPredict, trainScore, testScore = calc_results(model, batch_size=batch_size)\n",
        "score, m_a_e = model.evaluate(testX, testY, batch_size=batch_size)\n",
        "score, m_a_e"
      ],
      "metadata": {
        "colab": {
          "base_uri": "https://localhost:8080/"
        },
        "id": "NRrXBG_PJb8_",
        "outputId": "afeec475-6be3-4c48-d315-2361e8888def"
      },
      "execution_count": 107,
      "outputs": [
        {
          "output_type": "stream",
          "name": "stdout",
          "text": [
            "22/22 [==============================] - 0s 3ms/step - loss: 0.6467 - mean_absolute_error: 0.0863\n"
          ]
        },
        {
          "output_type": "execute_result",
          "data": {
            "text/plain": [
              "(0.64666748046875, 0.08633500337600708)"
            ]
          },
          "metadata": {},
          "execution_count": 107
        }
      ]
    },
    {
      "cell_type": "markdown",
      "source": [
        "Тестовый/исходный вариант пришлось пересчитать, чтобы везде была одна метрика. МАЕ на исходном варианте 0,46. На последнем 0,086. Результат на лицо. Но факт случайности то же не отменяется.\n",
        "\n",
        "Для достижения результатов были изменены/подобраны:\n",
        "\n",
        "- batch_size\n",
        "- loss\n",
        "- optimizer"
      ],
      "metadata": {
        "id": "xQvRbZAmLQx0"
      }
    },
    {
      "cell_type": "markdown",
      "source": [
        "## Решение 2\n",
        "\n",
        "Попробуйте изменить параметры нейронной сети генерирующий текст таким образом, чтобы добиться генерации как можно более осмысленного текста. Пришлите лучший получившейся у вас текст и опишите, что вы предприняли, чтобы его получить. Можно использовать текст другого прозведения."
      ],
      "metadata": {
        "id": "Z3W6-pXGaH9v"
      }
    },
    {
      "cell_type": "code",
      "source": [
        "import numpy as np\n",
        "from keras.layers import Dense, Activation\n",
        "from tensorflow.keras.layers import LSTM, SimpleRNN, GRU\n",
        "from keras.models import Sequential"
      ],
      "metadata": {
        "id": "bdj0ISemKwHF"
      },
      "execution_count": 1,
      "outputs": []
    },
    {
      "cell_type": "code",
      "source": [
        "from google.colab import drive\n",
        "drive.mount('/content/gdrive')\n",
        "%cd /content/gdrive/MyDrive/learn/05n"
      ],
      "metadata": {
        "colab": {
          "base_uri": "https://localhost:8080/"
        },
        "id": "tQubRPE6aXJV",
        "outputId": "eac92bee-0d07-4817-d789-67dd9487bfb9"
      },
      "execution_count": 2,
      "outputs": [
        {
          "output_type": "stream",
          "name": "stdout",
          "text": [
            "Mounted at /content/gdrive\n",
            "/content/gdrive/MyDrive/learn/05n\n"
          ]
        }
      ]
    },
    {
      "cell_type": "code",
      "source": [
        "with open(\"alice_in_wonderland.txt\", 'rb') as _in:\n",
        "    lines = []\n",
        "    for line in _in:\n",
        "        line = line.strip().lower().decode(\"utf-8\", \"ignore\")\n",
        "        if len(line) == 0:\n",
        "            continue\n",
        "        lines.append(line)\n",
        "text = \" \".join(lines)\n",
        "chars = set([c for c in text])\n",
        "nb_chars = len(chars)"
      ],
      "metadata": {
        "id": "zHfBBVSvacXH"
      },
      "execution_count": 3,
      "outputs": []
    },
    {
      "cell_type": "code",
      "source": [
        "# создание индекса символов и reverse mapping чтобы передвигаться между значениями numerical\n",
        "# ID and a specific character. The numerical ID will correspond to a column\n",
        "# ID и определенный символ. Numerical ID будет соответсвовать колонке\n",
        "# число при использовании one-hot кодировки для представление входов символов\n",
        "char2index = {c: i for i, c in enumerate(chars)}\n",
        "index2char = {i: c for i, c in enumerate(chars)}\n",
        "\n",
        "# для удобства выберете фиксированную длину последовательность 10 символов \n",
        "SEQLEN, STEP = 120, 2\n",
        "input_chars, label_chars = [], []\n",
        "\n",
        "# конвертация data в серии разных SEQLEN-length субпоследовательностей\n",
        "for i in range(0, len(text) - SEQLEN, STEP):\n",
        "    input_chars.append(text[i: i + SEQLEN])\n",
        "    label_chars.append(text[i + SEQLEN])\n",
        "\n",
        "\n",
        "# Вычисление one-hot encoding входных последовательностей X и следующего символа (the label) y\n",
        "\n",
        "X = np.zeros((len(input_chars), SEQLEN, nb_chars), dtype=np.bool)\n",
        "y = np.zeros((len(input_chars), nb_chars), dtype=np.bool)\n",
        "for i, input_char in enumerate(input_chars):\n",
        "    for j, ch in enumerate(input_char):\n",
        "        X[i, j, char2index[ch]] = 1\n",
        "    y[i, char2index[label_chars[i]]] = 1\n",
        "\n",
        "\n",
        "# установка ряда метапамертров  для нейронной сети и процесса тренировки\n",
        "BATCH_SIZE, HIDDEN_SIZE = 64, 256\n",
        "NUM_ITERATIONS = 25\n",
        "NUM_EPOCHS_PER_ITERATION = 20\n",
        "NUM_PREDS_PER_EPOCH = 100\n",
        "\n",
        "\n",
        "# Create a super simple recurrent neural network. There is one recurrent\n",
        "# layer that produces an embedding of size HIDDEN_SIZE from the one-hot\n",
        "# encoded input layer. This is followed by a Dense fully-connected layer\n",
        "# across the set of possible next characters, which is converted to a\n",
        "# probability score via a standard softmax activation with a multi-class\n",
        "# cross-entropy loss function linking the prediction to the one-hot\n",
        "# encoding character label.\n",
        "\n",
        "'''\n",
        "Создание очень простой рекуррентной нейронной сети. В ней будет один реккурентный \n",
        "закодированный входной слой. За ним последует полносвязный слой связанный с набором возможных \n",
        "следующих символов, которые конвертированы в вероятностные результаты через стандартную softmax активацию \n",
        "с multi-class cross-encoding loss функцию ссылающуются на предсказание one-hot encoding лейбл символа\n",
        "'''\n",
        "\n",
        "model = Sequential()\n",
        "model.add(\n",
        "    GRU(  # вы можете изменить эту часть на LSTM или SimpleRNN, чтобы попробовать альтернативы\n",
        "        HIDDEN_SIZE,\n",
        "        return_sequences=False,\n",
        "        input_shape=(SEQLEN, nb_chars),\n",
        "        unroll=True\n",
        "    )\n",
        ")\n",
        "model.add(Dense(nb_chars))\n",
        "model.add(Activation(\"softmax\"))\n",
        "model.compile(loss=\"categorical_crossentropy\", optimizer=\"rmsprop\")\n",
        "\n",
        "\n",
        "# выполнение серий тренировочных и демонстрационных итераций \n",
        "for iteration in range(NUM_ITERATIONS):\n",
        "\n",
        "    # для каждой итерации запуск передачи данных в модель \n",
        "    print(\"=\" * 50)\n",
        "    print(\"Итерация #: %d\" % (iteration))\n",
        "    model.fit(X, y, batch_size=BATCH_SIZE, epochs=NUM_EPOCHS_PER_ITERATION)\n",
        "\n",
        "    # Select a random example input sequence.\n",
        "    test_idx = np.random.randint(len(input_chars))\n",
        "    test_chars = input_chars[test_idx]\n",
        "\n",
        "    # для числа шагов предсказаний использование текущей тренируемой модели \n",
        "    # конструирование one-hot encoding для тестирования input и добавление предсказания.\n",
        "    print(\"Генерация из посева: %s\" % (test_chars))\n",
        "    print(test_chars, end=\"\")\n",
        "    for i in range(NUM_PREDS_PER_EPOCH):\n",
        "\n",
        "        # здесь one-hot encoding.\n",
        "        X_test = np.zeros((1, SEQLEN, nb_chars))\n",
        "        for j, ch in enumerate(test_chars):\n",
        "            X_test[0, j, char2index[ch]] = 1\n",
        "\n",
        "        # осуществление предсказания с помощью текущей модели.\n",
        "        pred = model.predict(X_test, verbose=0)[0]\n",
        "        y_pred = index2char[np.argmax(pred)]\n",
        "\n",
        "        # вывод предсказания добавленного к тестовому примеру \n",
        "        print(y_pred, end=\"\")\n",
        "\n",
        "        # инкрементация тестового примера содержащего предсказание\n",
        "        test_chars = test_chars[1:] + y_pred\n",
        "print()"
      ],
      "metadata": {
        "colab": {
          "base_uri": "https://localhost:8080/"
        },
        "id": "d9vN5RBYaqto",
        "outputId": "96d7aa9c-8b42-4dd7-fdb4-093116eb508d"
      },
      "execution_count": null,
      "outputs": [
        {
          "output_type": "stream",
          "name": "stderr",
          "text": [
            "<ipython-input-4-b5c5e2be4988>:20: DeprecationWarning: `np.bool` is a deprecated alias for the builtin `bool`. To silence this warning, use `bool` by itself. Doing this will not modify any behavior and is safe. If you specifically wanted the numpy scalar type, use `np.bool_` here.\n",
            "Deprecated in NumPy 1.20; for more details and guidance: https://numpy.org/devdocs/release/1.20.0-notes.html#deprecations\n",
            "  X = np.zeros((len(input_chars), SEQLEN, nb_chars), dtype=np.bool)\n",
            "<ipython-input-4-b5c5e2be4988>:21: DeprecationWarning: `np.bool` is a deprecated alias for the builtin `bool`. To silence this warning, use `bool` by itself. Doing this will not modify any behavior and is safe. If you specifically wanted the numpy scalar type, use `np.bool_` here.\n",
            "Deprecated in NumPy 1.20; for more details and guidance: https://numpy.org/devdocs/release/1.20.0-notes.html#deprecations\n",
            "  y = np.zeros((len(input_chars), nb_chars), dtype=np.bool)\n",
            "WARNING:tensorflow:Layer gru will not use cuDNN kernels since it doesn't meet the criteria. It will use a generic GPU kernel as fallback when running on GPU.\n"
          ]
        },
        {
          "output_type": "stream",
          "name": "stdout",
          "text": [
            "==================================================\n",
            "Итерация #: 0\n",
            "Epoch 1/20\n",
            "1264/1264 [==============================] - 129s 73ms/step - loss: 2.3588\n",
            "Epoch 2/20\n",
            "1264/1264 [==============================] - 105s 83ms/step - loss: 1.9787\n",
            "Epoch 3/20\n",
            "1264/1264 [==============================] - 95s 75ms/step - loss: 1.8007\n",
            "Epoch 4/20\n",
            "1264/1264 [==============================] - 109s 86ms/step - loss: 1.6628\n",
            "Epoch 5/20\n",
            "1264/1264 [==============================] - 112s 88ms/step - loss: 1.5511\n",
            "Epoch 6/20\n",
            "1264/1264 [==============================] - 110s 87ms/step - loss: 1.4547\n",
            "Epoch 7/20\n",
            "1264/1264 [==============================] - 90s 71ms/step - loss: 1.3690\n",
            "Epoch 8/20\n",
            "1264/1264 [==============================] - 87s 69ms/step - loss: 1.2901\n",
            "Epoch 9/20\n",
            "1264/1264 [==============================] - 107s 85ms/step - loss: 1.2165\n",
            "Epoch 10/20\n",
            "1264/1264 [==============================] - 87s 69ms/step - loss: 1.1444\n",
            "Epoch 11/20\n",
            "1264/1264 [==============================] - 86s 68ms/step - loss: 1.0763\n",
            "Epoch 12/20\n",
            "1264/1264 [==============================] - 87s 68ms/step - loss: 1.0085\n",
            "Epoch 13/20\n",
            "1264/1264 [==============================] - 87s 69ms/step - loss: 0.9450\n",
            "Epoch 14/20\n",
            "1264/1264 [==============================] - 87s 68ms/step - loss: 0.8846\n",
            "Epoch 15/20\n",
            "1264/1264 [==============================] - 87s 69ms/step - loss: 0.8282\n",
            "Epoch 16/20\n",
            "1264/1264 [==============================] - 88s 69ms/step - loss: 0.7783\n",
            "Epoch 17/20\n",
            "1264/1264 [==============================] - 87s 69ms/step - loss: 0.7333\n",
            "Epoch 18/20\n",
            "1264/1264 [==============================] - 87s 69ms/step - loss: 0.6945\n",
            "Epoch 19/20\n",
            "1264/1264 [==============================] - 87s 68ms/step - loss: 0.6601\n",
            "Epoch 20/20\n",
            "1264/1264 [==============================] - 86s 68ms/step - loss: 0.6312\n",
            "Генерация из посева: ance. so they got thrown out to sea. so they had to fall a long way. so they got their tails fast in their mouths. so th\n",
            "ance. so they got thrown out to sea. so they had to fall a long way. so they got their tails fast in their mouths. so the lobyous way to the sand the caterpillar and the words as she said this alled. ‘do you think you co==================================================\n",
            "Итерация #: 1\n",
            "Epoch 1/20\n",
            "1264/1264 [==============================] - 87s 69ms/step - loss: 0.6041\n",
            "Epoch 2/20\n",
            "1264/1264 [==============================] - 87s 69ms/step - loss: 0.5815\n",
            "Epoch 3/20\n",
            "1264/1264 [==============================] - 87s 69ms/step - loss: 0.5617\n",
            "Epoch 4/20\n",
            "1264/1264 [==============================] - 87s 69ms/step - loss: 0.5447\n",
            "Epoch 5/20\n",
            "1264/1264 [==============================] - 87s 69ms/step - loss: 0.5294\n",
            "Epoch 6/20\n",
            "1264/1264 [==============================] - 87s 69ms/step - loss: 0.5178\n",
            "Epoch 7/20\n",
            "1264/1264 [==============================] - 87s 69ms/step - loss: 0.5077\n",
            "Epoch 8/20\n",
            "1264/1264 [==============================] - 87s 69ms/step - loss: 0.4965\n",
            "Epoch 9/20\n",
            "1264/1264 [==============================] - 88s 69ms/step - loss: 0.4875\n",
            "Epoch 10/20\n",
            "1264/1264 [==============================] - 88s 69ms/step - loss: 0.4773\n",
            "Epoch 11/20\n",
            "1264/1264 [==============================] - 88s 70ms/step - loss: 0.4708\n",
            "Epoch 12/20\n",
            "1264/1264 [==============================] - 87s 69ms/step - loss: 0.4651\n",
            "Epoch 13/20\n",
            "1264/1264 [==============================] - 87s 69ms/step - loss: 0.4597\n",
            "Epoch 14/20\n",
            "1264/1264 [==============================] - 87s 69ms/step - loss: 0.4528\n",
            "Epoch 15/20\n",
            "1264/1264 [==============================] - 87s 69ms/step - loss: 0.4467\n",
            "Epoch 16/20\n",
            "1264/1264 [==============================] - 87s 69ms/step - loss: 0.4430\n",
            "Epoch 17/20\n",
            "1264/1264 [==============================] - 87s 69ms/step - loss: 0.4363\n",
            "Epoch 18/20\n",
            "1264/1264 [==============================] - 88s 69ms/step - loss: 0.4318\n",
            "Epoch 19/20\n",
            "1264/1264 [==============================] - 88s 70ms/step - loss: 0.4275\n",
            "Epoch 20/20\n",
            "1264/1264 [==============================] - 87s 69ms/step - loss: 0.4229\n",
            "Генерация из посева: n a notice indicating that it is posted with permission of the copyright holder), the work can be copied and distributed\n",
            "n a notice indicating that it is posted with permission of the copyright holder), the work can be copied and distributed poor alice. ‘what’s your rate, of churre, and elictly and endla, on she trued a little as she said ==================================================\n",
            "Итерация #: 2\n",
            "Epoch 1/20\n",
            "1264/1264 [==============================] - 86s 68ms/step - loss: 0.4208\n",
            "Epoch 2/20\n",
            "1264/1264 [==============================] - 87s 69ms/step - loss: 0.4129\n",
            "Epoch 3/20\n",
            "1264/1264 [==============================] - 87s 69ms/step - loss: 0.4110\n",
            "Epoch 4/20\n",
            "1264/1264 [==============================] - 88s 70ms/step - loss: 0.4116\n",
            "Epoch 5/20\n",
            "1264/1264 [==============================] - 88s 70ms/step - loss: 0.4053\n",
            "Epoch 6/20\n",
            "1264/1264 [==============================] - 87s 69ms/step - loss: 0.4036\n",
            "Epoch 7/20\n",
            "1264/1264 [==============================] - 87s 69ms/step - loss: 0.3991\n",
            "Epoch 8/20\n",
            "1264/1264 [==============================] - 87s 69ms/step - loss: 0.3966\n",
            "Epoch 9/20\n",
            "1264/1264 [==============================] - 87s 69ms/step - loss: 0.3916\n",
            "Epoch 10/20\n",
            "1264/1264 [==============================] - 87s 69ms/step - loss: 0.3859\n",
            "Epoch 11/20\n",
            "1264/1264 [==============================] - 87s 69ms/step - loss: 0.3882\n",
            "Epoch 12/20\n",
            "1264/1264 [==============================] - 88s 70ms/step - loss: 0.3878\n",
            "Epoch 13/20\n",
            "1264/1264 [==============================] - 88s 69ms/step - loss: 0.3844\n",
            "Epoch 14/20\n",
            "1264/1264 [==============================] - 87s 69ms/step - loss: 0.3804\n",
            "Epoch 15/20\n",
            "1264/1264 [==============================] - 87s 69ms/step - loss: 0.3774\n",
            "Epoch 16/20\n",
            "1264/1264 [==============================] - 87s 69ms/step - loss: 0.3773\n",
            "Epoch 17/20\n",
            "1264/1264 [==============================] - 87s 69ms/step - loss: 0.3750\n",
            "Epoch 18/20\n",
            "1264/1264 [==============================] - 87s 69ms/step - loss: 0.3717\n",
            "Epoch 19/20\n",
            "1264/1264 [==============================] - 87s 69ms/step - loss: 0.3671\n",
            "Epoch 20/20\n",
            "1264/1264 [==============================] - 88s 70ms/step - loss: 0.3662\n",
            "Генерация из посева: ere the dormouse shook itself, and began singing in its sleep ‘twinkle, twinkle, twinkle, twinkle--’ and went on so long\n",
            "ere the dormouse shook itself, and began singing in its sleep ‘twinkle, twinkle, twinkle, twinkle--’ and went on so long son to do to alice, and some of the mock turtle you conversations to come, she went to outt, i winh==================================================\n",
            "Итерация #: 3\n",
            "Epoch 1/20\n",
            "1264/1264 [==============================] - 87s 69ms/step - loss: 0.3647\n",
            "Epoch 2/20\n",
            " 594/1264 [=============>................] - ETA: 46s - loss: 0.3342"
          ]
        }
      ]
    },
    {
      "cell_type": "markdown",
      "source": [
        "Обучение проводилось в colab, но и там это занимает прилично времени. Поэтому новых экспериментов не будет, а будет только текст.\n",
        "\n",
        "Для более осмысленного текста надо поработать с самим текстом до начала работы. Убрать падежи, склонения, окончания, суфиксы, привести к исходному слову (на сколько это возможно) в русском языке. И не забыть про ошибки и опечатки (если это пользовтаельский текст). Если английский (и подобные), то убрать слова которые не несут смысловой нагрузки (the, a, to... Для это можно попробовать pymorphy2. В конце также нужен механизм возврата к нормальному тексту. Если это касается англиского языка, то там нет таких сложностей, как в русском языке. Если русский, то надо учитывать особенности строения языка.\n",
        "\n",
        "Текущий вариант сети более удачно начнёт формулировать смысловые варианты, т.к. не будет вариаций одного и того же слова в разных формах.\n",
        "\n",
        "Хорошим вариантом будет добавить 1-2 слоя. Увеличить батч.\n",
        "\n",
        "Если говорить про параметры, то для слоев LSTM и GRU в Keras можно использовать метрику accuracy, функцию потерь categorical_crossentropy и оптимизатор Adam (как пример). Однако, выбор метрики, функции потерь и оптимизатора зависит от конкретной задачи и данных, поэтому может потребоваться провести эксперименты с разными параметрами для получения наилучших результатов. А в данном случае это получается долго. Так что для домашней работы будет в этот раз пропущено."
      ],
      "metadata": {
        "id": "bFAexgVIboey"
      }
    }
  ]
}