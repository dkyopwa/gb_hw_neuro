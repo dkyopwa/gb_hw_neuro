{
 "cells": [
  {
   "cell_type": "markdown",
   "id": "efe67bf1",
   "metadata": {},
   "source": [
    "# Hometask 3"
   ]
  },
  {
   "cell_type": "markdown",
   "id": "c300af43",
   "metadata": {},
   "source": [
    "Попробуйте улучшить работу нейронной сети (разобранную на уроке) обучавшейся на датасет Fashion-MNIST. Опишите в комментарии к уроку - какого результата вы добились от нейросети? Что помогло вам улучшить ее точность?\n",
    "\n",
    "**Решение ДЗ** ниже."
   ]
  },
  {
   "cell_type": "markdown",
   "id": "d6c082c9",
   "metadata": {},
   "source": [
    "В данном случае мы будем использовать High API от TensorFlow"
   ]
  },
  {
   "cell_type": "code",
   "execution_count": 1,
   "id": "8e053c34",
   "metadata": {},
   "outputs": [
    {
     "name": "stderr",
     "output_type": "stream",
     "text": [
      "2023-04-13 01:09:41.282461: I tensorflow/core/platform/cpu_feature_guard.cc:182] This TensorFlow binary is optimized to use available CPU instructions in performance-critical operations.\n",
      "To enable the following instructions: AVX2 FMA, in other operations, rebuild TensorFlow with the appropriate compiler flags.\n",
      "2023-04-13 01:09:42.350418: W tensorflow/compiler/tf2tensorrt/utils/py_utils.cc:38] TF-TRT Warning: Could not find TensorRT\n"
     ]
    },
    {
     "name": "stdout",
     "output_type": "stream",
     "text": [
      "2.12.0\n"
     ]
    }
   ],
   "source": [
    "from __future__ import absolute_import, division, print_function, unicode_literals\n",
    "\n",
    "# TensorFlow and tf.keras\n",
    "import tensorflow as tf\n",
    "from tensorflow import keras\n",
    "\n",
    "# Helper libraries\n",
    "import numpy as np\n",
    "import matplotlib.pyplot as plt\n",
    "import pandas as pd\n",
    "\n",
    "print(tf.__version__)"
   ]
  },
  {
   "cell_type": "markdown",
   "id": "9c10fe0e",
   "metadata": {},
   "source": [
    "Импортируем Fashion MNIST датасет"
   ]
  },
  {
   "cell_type": "code",
   "execution_count": 2,
   "id": "490b8b87",
   "metadata": {},
   "outputs": [],
   "source": [
    "fashion_mnist = keras.datasets.fashion_mnist\n",
    "\n",
    "(train_images, train_labels), (test_images, test_labels) = fashion_mnist.load_data()"
   ]
  },
  {
   "cell_type": "code",
   "execution_count": 3,
   "id": "e9f12e1b",
   "metadata": {},
   "outputs": [
    {
     "data": {
      "text/plain": [
       "(0, 9)"
      ]
     },
     "execution_count": 3,
     "metadata": {},
     "output_type": "execute_result"
    }
   ],
   "source": [
    "train_labels.min(), train_labels.max()"
   ]
  },
  {
   "cell_type": "markdown",
   "id": "f103cc44",
   "metadata": {},
   "source": [
    "Датасет содержит следующие классы:\n",
    "\n",
    "<table>\n",
    "  <tr>\n",
    "    <th>Label</th>\n",
    "    <th>Class</th>\n",
    "  </tr>\n",
    "  <tr>\n",
    "    <td>0</td>\n",
    "    <td>T-shirt/top</td>\n",
    "  </tr>\n",
    "  <tr>\n",
    "    <td>1</td>\n",
    "    <td>Trouser</td>\n",
    "  </tr>\n",
    "    <tr>\n",
    "    <td>2</td>\n",
    "    <td>Pullover</td>\n",
    "  </tr>\n",
    "    <tr>\n",
    "    <td>3</td>\n",
    "    <td>Dress</td>\n",
    "  </tr>\n",
    "    <tr>\n",
    "    <td>4</td>\n",
    "    <td>Coat</td>\n",
    "  </tr>\n",
    "    <tr>\n",
    "    <td>5</td>\n",
    "    <td>Sandal</td>\n",
    "  </tr>\n",
    "    <tr>\n",
    "    <td>6</td>\n",
    "    <td>Shirt</td>\n",
    "  </tr>\n",
    "    <tr>\n",
    "    <td>7</td>\n",
    "    <td>Sneaker</td>\n",
    "  </tr>\n",
    "    <tr>\n",
    "    <td>8</td>\n",
    "    <td>Bag</td>\n",
    "  </tr>\n",
    "    <tr>\n",
    "    <td>9</td>\n",
    "    <td>Ankle boot</td>\n",
    "  </tr>\n",
    "</table>\n",
    "\n",
    "Каждому классу обозначенному цифрой мы можем присвоить текстовое значение -"
   ]
  },
  {
   "cell_type": "code",
   "execution_count": 4,
   "id": "2e0554d4",
   "metadata": {},
   "outputs": [],
   "source": [
    "class_names = ['T-shirt/top', 'Trouser', 'Pullover', 'Dress', 'Coat',\n",
    "               'Sandal', 'Shirt', 'Sneaker', 'Bag', 'Ankle boot']"
   ]
  },
  {
   "cell_type": "markdown",
   "id": "5f64c202",
   "metadata": {},
   "source": [
    "Давайте посмотрим структуры полученного массива данных:"
   ]
  },
  {
   "cell_type": "code",
   "execution_count": 5,
   "id": "6519904a",
   "metadata": {},
   "outputs": [
    {
     "data": {
      "text/plain": [
       "(60000, 28, 28)"
      ]
     },
     "execution_count": 5,
     "metadata": {},
     "output_type": "execute_result"
    }
   ],
   "source": [
    "train_images.shape"
   ]
  },
  {
   "cell_type": "code",
   "execution_count": 6,
   "id": "9d3bbefc",
   "metadata": {},
   "outputs": [
    {
     "data": {
      "text/plain": [
       "(10000, 28, 28)"
      ]
     },
     "execution_count": 6,
     "metadata": {},
     "output_type": "execute_result"
    }
   ],
   "source": [
    "test_images.shape"
   ]
  },
  {
   "cell_type": "markdown",
   "id": "8afe82b6",
   "metadata": {},
   "source": [
    "Для процесса обучения нейронной сети нам важно перевести данные из диапазона от 0 до 255 в диапазон от 0 до 1:"
   ]
  },
  {
   "cell_type": "code",
   "execution_count": 7,
   "id": "d0c6624c",
   "metadata": {},
   "outputs": [],
   "source": [
    "train_images = train_images / 255.0\n",
    "\n",
    "test_images = test_images / 255.0"
   ]
  },
  {
   "cell_type": "markdown",
   "id": "1f4d3f35",
   "metadata": {},
   "source": [
    "Посмотрим первые 25 изображений:"
   ]
  },
  {
   "cell_type": "code",
   "execution_count": 8,
   "id": "38213cff",
   "metadata": {},
   "outputs": [
    {
     "data": {
      "image/png": "[encoded data removed]",
      "text/plain": [
       "<Figure size 1000x1000 with 25 Axes>"
      ]
     },
     "metadata": {},
     "output_type": "display_data"
    }
   ],
   "source": [
    "plt.figure(figsize=(10,10))\n",
    "for i in range(25):\n",
    "    plt.subplot(5,5,i+1)\n",
    "    plt.xticks([])\n",
    "    plt.yticks([])\n",
    "    plt.grid(False)\n",
    "    plt.imshow(train_images[i], cmap=plt.cm.binary)\n",
    "    plt.xlabel(class_names[train_labels[i]])\n",
    "plt.show()"
   ]
  },
  {
   "cell_type": "markdown",
   "id": "39f3ee9b",
   "metadata": {},
   "source": [
    "## Построение модели\n",
    "\n",
    "Построение нейронной сети подразумевает конфигурацию ее слоев и последующую компиляцию."
   ]
  },
  {
   "cell_type": "markdown",
   "id": "106898fb",
   "metadata": {},
   "source": [
    "### Определение слоев\n",
    "\n",
    "Давайте создадим 3 слоя нейронной сети с помощью функционала Keras.layers"
   ]
  },
  {
   "cell_type": "code",
   "execution_count": 9,
   "id": "1e781d8a",
   "metadata": {},
   "outputs": [
    {
     "name": "stderr",
     "output_type": "stream",
     "text": [
      "2023-04-13 01:09:45.918090: I tensorflow/compiler/xla/stream_executor/cuda/cuda_gpu_executor.cc:982] could not open file to read NUMA node: /sys/bus/pci/devices/0000:01:00.0/numa_node\n",
      "Your kernel may have been built without NUMA support.\n",
      "2023-04-13 01:09:46.052510: I tensorflow/compiler/xla/stream_executor/cuda/cuda_gpu_executor.cc:982] could not open file to read NUMA node: /sys/bus/pci/devices/0000:01:00.0/numa_node\n",
      "Your kernel may have been built without NUMA support.\n",
      "2023-04-13 01:09:46.052578: I tensorflow/compiler/xla/stream_executor/cuda/cuda_gpu_executor.cc:982] could not open file to read NUMA node: /sys/bus/pci/devices/0000:01:00.0/numa_node\n",
      "Your kernel may have been built without NUMA support.\n",
      "2023-04-13 01:09:46.055584: I tensorflow/compiler/xla/stream_executor/cuda/cuda_gpu_executor.cc:982] could not open file to read NUMA node: /sys/bus/pci/devices/0000:01:00.0/numa_node\n",
      "Your kernel may have been built without NUMA support.\n",
      "2023-04-13 01:09:46.055706: I tensorflow/compiler/xla/stream_executor/cuda/cuda_gpu_executor.cc:982] could not open file to read NUMA node: /sys/bus/pci/devices/0000:01:00.0/numa_node\n",
      "Your kernel may have been built without NUMA support.\n",
      "2023-04-13 01:09:46.055746: I tensorflow/compiler/xla/stream_executor/cuda/cuda_gpu_executor.cc:982] could not open file to read NUMA node: /sys/bus/pci/devices/0000:01:00.0/numa_node\n",
      "Your kernel may have been built without NUMA support.\n",
      "2023-04-13 01:09:47.424675: I tensorflow/compiler/xla/stream_executor/cuda/cuda_gpu_executor.cc:982] could not open file to read NUMA node: /sys/bus/pci/devices/0000:01:00.0/numa_node\n",
      "Your kernel may have been built without NUMA support.\n",
      "2023-04-13 01:09:47.424770: I tensorflow/compiler/xla/stream_executor/cuda/cuda_gpu_executor.cc:982] could not open file to read NUMA node: /sys/bus/pci/devices/0000:01:00.0/numa_node\n",
      "Your kernel may have been built without NUMA support.\n",
      "2023-04-13 01:09:47.424783: I tensorflow/core/common_runtime/gpu/gpu_device.cc:1722] Could not identify NUMA node of platform GPU id 0, defaulting to 0.  Your kernel may not have been built with NUMA support.\n",
      "2023-04-13 01:09:47.424826: I tensorflow/compiler/xla/stream_executor/cuda/cuda_gpu_executor.cc:982] could not open file to read NUMA node: /sys/bus/pci/devices/0000:01:00.0/numa_node\n",
      "Your kernel may have been built without NUMA support.\n",
      "2023-04-13 01:09:47.424856: I tensorflow/core/common_runtime/gpu/gpu_device.cc:1635] Created device /job:localhost/replica:0/task:0/device:GPU:0 with 4551 MB memory:  -> device: 0, name: NVIDIA GeForce GTX 1060, pci bus id: 0000:01:00.0, compute capability: 6.1\n"
     ]
    }
   ],
   "source": [
    "model = keras.Sequential([\n",
    "    keras.layers.Flatten(input_shape=(28, 28)),\n",
    "    keras.layers.Dense(128, activation='relu'),\n",
    "    keras.layers.Dense(64, activation='tanh'),\n",
    "    keras.layers.Dense(10)\n",
    "])"
   ]
  },
  {
   "cell_type": "markdown",
   "id": "1ebc706d",
   "metadata": {},
   "source": [
    "Первый слой, `tf.keras.layers.Flatten`, трасформирует двумерный массив на входе в одномерный массив.\n",
    "\n",
    "Получившиеся 784(28 x 28) входных нейрона присоединяем к полносвязному слою из 128 нейронов , которые будут использовать функцию активации relu. В выходном слое будет 10 нейронов, по числу классов, которые он должен предсказывать. В нем будет использоваться функция активации softmax и он будет давать предсказание от 0 до 1, где 1 это стопроцентная вероятность.\n",
    "\n",
    "### Компиляция модели\n",
    "\n",
    "Давайте вспомним ключевые понятия, которые нам понадобяться при компиляции:\n",
    "\n",
    "* *Loss function* — меряет как точно работает нейросеть.\n",
    "* *Optimizer* — определяет способ корректировки весов.\n",
    "* *Metrics* — определяет за какие характеристики будут отражаться в процессе обучения."
   ]
  },
  {
   "cell_type": "code",
   "execution_count": 10,
   "id": "650830e1",
   "metadata": {},
   "outputs": [],
   "source": [
    "# Т.к. задача регрессии, удобнее использовать mean square error(средне-квадратичная ошибка).\n",
    "# В качестве метрики берем mean absolute error (средний модуль ошибки)\n",
    "model.compile(optimizer='rmsprop', loss='mse', metrics=['mae'])\n",
    "\n",
    "\n",
    "model.compile(optimizer='adam',\n",
    "              loss=tf.keras.losses.SparseCategoricalCrossentropy(from_logits=True),\n",
    "              metrics=['accuracy'])"
   ]
  },
  {
   "cell_type": "markdown",
   "id": "f30c2ce4",
   "metadata": {},
   "source": [
    "## Тренировка модели\n",
    "\n",
    "Здесь все стандартно - данные передаются в нейросеть и сопоставляются изображения и лейблы."
   ]
  },
  {
   "cell_type": "markdown",
   "id": "e1d11b10",
   "metadata": {},
   "source": [
    "### Передача данных в модель\n",
    "\n",
    "Команда непосредственно запускающая процесс обучения называется - `model.fit`:"
   ]
  },
  {
   "cell_type": "code",
   "execution_count": 11,
   "id": "dc537ec0",
   "metadata": {},
   "outputs": [
    {
     "name": "stdout",
     "output_type": "stream",
     "text": [
      "Epoch 1/3\n"
     ]
    },
    {
     "name": "stderr",
     "output_type": "stream",
     "text": [
      "2023-04-13 01:09:49.494306: I tensorflow/compiler/xla/service/service.cc:169] XLA service 0x7f5f840506e0 initialized for platform CUDA (this does not guarantee that XLA will be used). Devices:\n",
      "2023-04-13 01:09:49.494367: I tensorflow/compiler/xla/service/service.cc:177]   StreamExecutor device (0): NVIDIA GeForce GTX 1060, Compute Capability 6.1\n",
      "2023-04-13 01:09:49.515832: I tensorflow/compiler/mlir/tensorflow/utils/dump_mlir_util.cc:269] disabling MLIR crash reproducer, set env var `MLIR_CRASH_REPRODUCER_DIRECTORY` to enable.\n",
      "2023-04-13 01:09:49.792501: I tensorflow/compiler/xla/stream_executor/cuda/cuda_dnn.cc:424] Loaded cuDNN version 8600\n",
      "2023-04-13 01:09:50.056213: I tensorflow/tsl/platform/default/subprocess.cc:304] Start cannot spawn child process: No such file or directory\n",
      "2023-04-13 01:09:50.184060: I ./tensorflow/compiler/jit/device_compiler.h:180] Compiled cluster using XLA!  This line is logged at most once for the lifetime of the process.\n"
     ]
    },
    {
     "name": "stdout",
     "output_type": "stream",
     "text": [
      "1875/1875 [==============================] - 11s 5ms/step - loss: 0.4715 - accuracy: 0.8304\n",
      "Epoch 2/3\n",
      "1875/1875 [==============================] - 9s 5ms/step - loss: 0.3602 - accuracy: 0.8670\n",
      "Epoch 3/3\n",
      "1875/1875 [==============================] - 8s 4ms/step - loss: 0.3238 - accuracy: 0.8802\n"
     ]
    },
    {
     "data": {
      "text/plain": [
       "<keras.callbacks.History at 0x7f60f5daace0>"
      ]
     },
     "execution_count": 11,
     "metadata": {},
     "output_type": "execute_result"
    }
   ],
   "source": [
    "model.fit(train_images, train_labels, epochs=3)"
   ]
  },
  {
   "cell_type": "markdown",
   "id": "c6fafbb3",
   "metadata": {},
   "source": [
    "Оцениваем модель"
   ]
  },
  {
   "cell_type": "code",
   "execution_count": 12,
   "id": "e134c2f3",
   "metadata": {},
   "outputs": [
    {
     "name": "stdout",
     "output_type": "stream",
     "text": [
      "313/313 - 1s - loss: 0.3579 - accuracy: 0.8706 - 1s/epoch - 3ms/step\n",
      "\n",
      "Test accuracy: 0.8705999851226807\n"
     ]
    }
   ],
   "source": [
    "test_loss, test_acc = model.evaluate(test_images,  test_labels, verbose=2)\n",
    "\n",
    "print('\\nTest accuracy:', test_acc)"
   ]
  },
  {
   "cell_type": "markdown",
   "id": "4e64daca",
   "metadata": {},
   "source": [
    "В выводе выше мы следим за точностью в процессе обучения, проверяем точность на тестовых даыннх и меняем параметры нейросети если точность на тестовых данных нас не устраивает."
   ]
  },
  {
   "cell_type": "markdown",
   "id": "5492a3f7",
   "metadata": {},
   "source": [
    "### Предсказания нейросети\n",
    "\n",
    "Команды ниже позволяют проверить работу натренированной ранее нейросети - "
   ]
  },
  {
   "cell_type": "code",
   "execution_count": 13,
   "id": "c9c76bd0",
   "metadata": {},
   "outputs": [],
   "source": [
    "probability_model = tf.keras.Sequential([model, \n",
    "                                         tf.keras.layers.Softmax()])"
   ]
  },
  {
   "cell_type": "code",
   "execution_count": 14,
   "id": "7b7f1d8f",
   "metadata": {},
   "outputs": [
    {
     "name": "stdout",
     "output_type": "stream",
     "text": [
      "313/313 [==============================] - 1s 2ms/step\n"
     ]
    }
   ],
   "source": [
    "predictions = probability_model.predict(test_images)"
   ]
  },
  {
   "cell_type": "code",
   "execution_count": 15,
   "id": "b40cff83",
   "metadata": {},
   "outputs": [
    {
     "data": {
      "text/plain": [
       "array([1.5802309e-04, 4.2614311e-06, 5.1734928e-06, 1.1090357e-04,\n",
       "       1.3937539e-04, 1.6476661e-02, 2.5371896e-04, 5.0356515e-02,\n",
       "       4.5507080e-03, 9.2794472e-01], dtype=float32)"
      ]
     },
     "execution_count": 15,
     "metadata": {},
     "output_type": "execute_result"
    }
   ],
   "source": [
    "predictions[0]"
   ]
  },
  {
   "cell_type": "code",
   "execution_count": 16,
   "id": "4bfd97c9",
   "metadata": {},
   "outputs": [
    {
     "data": {
      "text/plain": [
       "9"
      ]
     },
     "execution_count": 16,
     "metadata": {},
     "output_type": "execute_result"
    }
   ],
   "source": [
    "np.argmax(predictions[0])"
   ]
  },
  {
   "cell_type": "code",
   "execution_count": 17,
   "id": "81d5ef64",
   "metadata": {},
   "outputs": [
    {
     "data": {
      "text/plain": [
       "9"
      ]
     },
     "execution_count": 17,
     "metadata": {},
     "output_type": "execute_result"
    }
   ],
   "source": [
    "test_labels[0]"
   ]
  },
  {
   "cell_type": "markdown",
   "id": "1889a55c",
   "metadata": {},
   "source": [
    "### Проверка предсказаний\n",
    "\n",
    "Matplotlib нам дает возможность посмотреть наше предсказание графически:"
   ]
  },
  {
   "cell_type": "code",
   "execution_count": 18,
   "id": "39481407",
   "metadata": {},
   "outputs": [],
   "source": [
    "def plot_image(i, predictions_array, true_label, img):\n",
    "    predictions_array, true_label, img = predictions_array, true_label[i], img[i]\n",
    "    plt.grid(False)\n",
    "    plt.xticks([])\n",
    "    plt.yticks([])\n",
    "\n",
    "    plt.imshow(img, cmap=plt.cm.binary)\n",
    "\n",
    "    predicted_label = np.argmax(predictions_array)\n",
    "    if predicted_label == true_label:\n",
    "        color = 'blue'\n",
    "    else:\n",
    "        color = 'red'\n",
    "\n",
    "    plt.xlabel(\"{} {:2.0f}% ({})\".format(class_names[predicted_label],\n",
    "                                100*np.max(predictions_array),\n",
    "                                class_names[true_label]),\n",
    "                                color=color)\n",
    "\n",
    "def plot_value_array(i, predictions_array, true_label):\n",
    "    predictions_array, true_label = predictions_array, true_label[i]\n",
    "    plt.grid(False)\n",
    "    plt.xticks(range(10))\n",
    "    plt.yticks([])\n",
    "    thisplot = plt.bar(range(10), predictions_array, color=\"#777777\")\n",
    "    plt.ylim([0, 1])\n",
    "    predicted_label = np.argmax(predictions_array)\n",
    "\n",
    "    thisplot[predicted_label].set_color('red')\n",
    "    thisplot[true_label].set_color('blue')"
   ]
  },
  {
   "cell_type": "code",
   "execution_count": 19,
   "id": "80db017b",
   "metadata": {},
   "outputs": [
    {
     "data": {
      "image/png": "[encoded data removed]",
      "text/plain": [
       "<Figure size 600x300 with 2 Axes>"
      ]
     },
     "metadata": {},
     "output_type": "display_data"
    }
   ],
   "source": [
    "i = 0\n",
    "plt.figure(figsize=(6,3))\n",
    "plt.subplot(1,2,1)\n",
    "plot_image(i, predictions[i], test_labels, test_images)\n",
    "plt.subplot(1,2,2)\n",
    "plot_value_array(i, predictions[i],  test_labels)\n",
    "plt.show()"
   ]
  },
  {
   "cell_type": "code",
   "execution_count": 20,
   "id": "0ef9a1c3",
   "metadata": {},
   "outputs": [
    {
     "data": {
      "image/png": "[encoded data removed]",
      "text/plain": [
       "<Figure size 600x300 with 2 Axes>"
      ]
     },
     "metadata": {},
     "output_type": "display_data"
    }
   ],
   "source": [
    "i = 12\n",
    "plt.figure(figsize=(6,3))\n",
    "plt.subplot(1,2,1)\n",
    "plot_image(i, predictions[i], test_labels, test_images)\n",
    "plt.subplot(1,2,2)\n",
    "plot_value_array(i, predictions[i],  test_labels)\n",
    "plt.show()"
   ]
  },
  {
   "cell_type": "markdown",
   "id": "7466fba3",
   "metadata": {},
   "source": [
    "Давайте сделаем еще несколько предсказаний"
   ]
  },
  {
   "cell_type": "code",
   "execution_count": 21,
   "id": "7741d3eb",
   "metadata": {},
   "outputs": [
    {
     "data": {
      "image/png": "[encoded data removed]",
      "text/plain": [
       "<Figure size 1200x1000 with 30 Axes>"
      ]
     },
     "metadata": {},
     "output_type": "display_data"
    }
   ],
   "source": [
    "num_rows = 5\n",
    "num_cols = 3\n",
    "num_images = num_rows*num_cols\n",
    "plt.figure(figsize=(2*2*num_cols, 2*num_rows))\n",
    "for i in range(num_images):\n",
    "    plt.subplot(num_rows, 2*num_cols, 2*i+1)\n",
    "    plot_image(i, predictions[i], test_labels, test_images)\n",
    "    plt.subplot(num_rows, 2*num_cols, 2*i+2)\n",
    "    plot_value_array(i, predictions[i], test_labels)\n",
    "plt.tight_layout()\n",
    "plt.show()"
   ]
  },
  {
   "cell_type": "markdown",
   "id": "a1768eac",
   "metadata": {},
   "source": [
    "## Использование полученной модели\n",
    "\n",
    "Давайте возьмем одно изображение из тестовой выборке и посмотрим предсказание нейронной сети"
   ]
  },
  {
   "cell_type": "code",
   "execution_count": 22,
   "id": "826e1ccf",
   "metadata": {},
   "outputs": [
    {
     "name": "stdout",
     "output_type": "stream",
     "text": [
      "(28, 28)\n"
     ]
    }
   ],
   "source": [
    "img = test_images[1]\n",
    "\n",
    "print(img.shape)"
   ]
  },
  {
   "cell_type": "code",
   "execution_count": 23,
   "id": "f7c8a727",
   "metadata": {},
   "outputs": [
    {
     "name": "stdout",
     "output_type": "stream",
     "text": [
      "(1, 28, 28)\n"
     ]
    }
   ],
   "source": [
    "# Add the image to a batch where it's the only member.\n",
    "img = (np.expand_dims(img,0))\n",
    "\n",
    "print(img.shape)"
   ]
  },
  {
   "cell_type": "code",
   "execution_count": 24,
   "id": "14eac727",
   "metadata": {},
   "outputs": [
    {
     "name": "stdout",
     "output_type": "stream",
     "text": [
      "1/1 [==============================] - 0s 25ms/step\n",
      "[[1.2858034e-03 3.2509797e-05 9.8106235e-01 1.0833995e-04 6.9477032e-03\n",
      "  1.1577808e-06 1.0513424e-02 3.8975270e-07 4.7624933e-05 8.2705702e-07]]\n"
     ]
    }
   ],
   "source": [
    "predictions_single = probability_model.predict(img)\n",
    "\n",
    "print(predictions_single)"
   ]
  },
  {
   "cell_type": "code",
   "execution_count": 25,
   "id": "8692016b",
   "metadata": {},
   "outputs": [
    {
     "data": {
      "image/png": "[encoded data removed]",
      "text/plain": [
       "<Figure size 640x480 with 1 Axes>"
      ]
     },
     "metadata": {},
     "output_type": "display_data"
    }
   ],
   "source": [
    "plot_value_array(1, predictions_single[0], test_labels)\n",
    "_ = plt.xticks(range(10), class_names, rotation=45)"
   ]
  },
  {
   "cell_type": "markdown",
   "id": "a30a26c4",
   "metadata": {},
   "source": [
    "`keras.Model.predict` возвращает список списков — по одному списку для каждого предсказания в батче. Нам нужны предсказания только для одного изображения:"
   ]
  },
  {
   "cell_type": "code",
   "execution_count": 26,
   "id": "d3441e64",
   "metadata": {},
   "outputs": [
    {
     "data": {
      "text/plain": [
       "2"
      ]
     },
     "execution_count": 26,
     "metadata": {},
     "output_type": "execute_result"
    }
   ],
   "source": [
    "np.argmax(predictions_single[0])"
   ]
  },
  {
   "cell_type": "markdown",
   "id": "29d6cf71",
   "metadata": {},
   "source": [
    "Нейросеть при хорошо подобранных параметрах должна была выдать корректное предсказание"
   ]
  },
  {
   "cell_type": "markdown",
   "id": "7842730c",
   "metadata": {},
   "source": [
    "# Решение ДЗ"
   ]
  },
  {
   "cell_type": "markdown",
   "id": "b60fbe38",
   "metadata": {},
   "source": [
    "Попробуйте улучшить работу нейронной сети (разобранную на уроке) обучавшейся на датасет Fashion-MNIST. Опишите в комментарии к уроку - какого результата вы добились от нейросети? Что помогло вам улучшить ее точность?"
   ]
  },
  {
   "cell_type": "markdown",
   "id": "4cfa4966",
   "metadata": {},
   "source": [
    "Наученный прошлым опытом с длгими вычислениями при переборе всего буду делать всё последовательно. Так не будет найдено самое эффективное и точное решение. Зато за приемлемое время будет найдено приемлемое решение."
   ]
  },
  {
   "cell_type": "markdown",
   "id": "e64f63c4",
   "metadata": {},
   "source": [
    "Построим 4 новых варианта сети к тому, что уже есть. И определим параметры, которые будем подбирать."
   ]
  },
  {
   "cell_type": "code",
   "execution_count": 27,
   "id": "32077c99",
   "metadata": {},
   "outputs": [
    {
     "name": "stdout",
     "output_type": "stream",
     "text": [
      "Model: \"sequential_2\"\n",
      "_________________________________________________________________\n",
      " Layer (type)                Output Shape              Param #   \n",
      "=================================================================\n",
      " flatten_1 (Flatten)         (None, 784)               0         \n",
      "                                                                 \n",
      " dense_3 (Dense)             (None, 128)               100480    \n",
      "                                                                 \n",
      " dense_4 (Dense)             (None, 64)                8256      \n",
      "                                                                 \n",
      " dense_5 (Dense)             (None, 10)                650       \n",
      "                                                                 \n",
      "=================================================================\n",
      "Total params: 109,386\n",
      "Trainable params: 109,386\n",
      "Non-trainable params: 0\n",
      "_________________________________________________________________\n"
     ]
    }
   ],
   "source": [
    "model0 = keras.Sequential([\n",
    "    keras.layers.Flatten(input_shape=(28, 28)),\n",
    "    keras.layers.Dense(128, activation='relu'),\n",
    "    keras.layers.Dense(64, activation='tanh'),\n",
    "    keras.layers.Dense(10)\n",
    "])\n",
    "model0.summary()"
   ]
  },
  {
   "cell_type": "code",
   "execution_count": 28,
   "id": "0f55e814",
   "metadata": {},
   "outputs": [],
   "source": [
    "# orig model\n",
    "def create_model0(loss='sparse_categorical_crossentropy', optimizer='Adam', metrics=['accuracy'], activation_layers='relu', activation_last='tanh'):\n",
    "    model = keras.Sequential([\n",
    "        keras.layers.Flatten(input_shape=(28, 28)),\n",
    "        keras.layers.Dense(128, activation=activation_layers),\n",
    "        keras.layers.Dense(64, activation=activation_last),\n",
    "        keras.layers.Dense(10)\n",
    "    ])\n",
    "    \n",
    "    model.compile(loss=loss, optimizer=optimizer, metrics=metrics)\n",
    "    \n",
    "    return model"
   ]
  },
  {
   "cell_type": "code",
   "execution_count": 29,
   "id": "665d9810",
   "metadata": {},
   "outputs": [
    {
     "name": "stdout",
     "output_type": "stream",
     "text": [
      "Model: \"sequential_3\"\n",
      "_________________________________________________________________\n",
      " Layer (type)                Output Shape              Param #   \n",
      "=================================================================\n",
      " flatten_2 (Flatten)         (None, 784)               0         \n",
      "                                                                 \n",
      " dense_6 (Dense)             (None, 196)               153860    \n",
      "                                                                 \n",
      " dense_7 (Dense)             (None, 98)                19306     \n",
      "                                                                 \n",
      " dense_8 (Dense)             (None, 10)                990       \n",
      "                                                                 \n",
      "=================================================================\n",
      "Total params: 174,156\n",
      "Trainable params: 174,156\n",
      "Non-trainable params: 0\n",
      "_________________________________________________________________\n"
     ]
    }
   ],
   "source": [
    "model1 = keras.Sequential([\n",
    "    keras.layers.Flatten(input_shape=(28, 28)),\n",
    "    keras.layers.Dense(int(28 * 28 / 4), activation='relu'),\n",
    "    keras.layers.Dense(int(28 * 28 / 8), activation='tanh'),\n",
    "    keras.layers.Dense(10)\n",
    "])\n",
    "model1.summary()"
   ]
  },
  {
   "cell_type": "code",
   "execution_count": 30,
   "id": "f0733ba6",
   "metadata": {},
   "outputs": [],
   "source": [
    "def create_model1(loss='sparse_categorical_crossentropy', optimizer='SGD', metrics=['accuracy'], activation_layers='relu', activation_last='tanh'):\n",
    "    model = keras.Sequential([\n",
    "        keras.layers.Flatten(input_shape=(28, 28)),\n",
    "        keras.layers.Dense(int(28 * 28 / 4), activation=activation_layers),\n",
    "        keras.layers.Dense(int(28 * 28 / 8), activation=activation_last),\n",
    "        keras.layers.Dense(10)\n",
    "    ])\n",
    "    \n",
    "    model.compile(loss=loss, optimizer=optimizer, metrics=metrics)\n",
    "    \n",
    "    return model"
   ]
  },
  {
   "cell_type": "code",
   "execution_count": 31,
   "id": "0735a093",
   "metadata": {},
   "outputs": [
    {
     "name": "stdout",
     "output_type": "stream",
     "text": [
      "Model: \"sequential_4\"\n",
      "_________________________________________________________________\n",
      " Layer (type)                Output Shape              Param #   \n",
      "=================================================================\n",
      " flatten_3 (Flatten)         (None, 784)               0         \n",
      "                                                                 \n",
      " dense_9 (Dense)             (None, 100)               78500     \n",
      "                                                                 \n",
      " dense_10 (Dense)            (None, 10)                1010      \n",
      "                                                                 \n",
      "=================================================================\n",
      "Total params: 79,510\n",
      "Trainable params: 79,510\n",
      "Non-trainable params: 0\n",
      "_________________________________________________________________\n"
     ]
    }
   ],
   "source": [
    "model2 = keras.Sequential([\n",
    "    keras.layers.Flatten(input_shape=(28, 28)),\n",
    "    keras.layers.Dense(100, activation='tanh'),\n",
    "    keras.layers.Dense(10)\n",
    "])\n",
    "model2.summary()"
   ]
  },
  {
   "cell_type": "code",
   "execution_count": 32,
   "id": "34302099",
   "metadata": {},
   "outputs": [],
   "source": [
    "def create_model2(loss='sparse_categorical_crossentropy', optimizer='SGD', metrics=['accuracy'], activation_layers='relu', activation_last='tanh'):\n",
    "    model = keras.Sequential([\n",
    "        keras.layers.Flatten(input_shape=(28, 28)),\n",
    "        keras.layers.Dense(100, activation=activation_last),\n",
    "        keras.layers.Dense(10)\n",
    "    ])\n",
    "    \n",
    "    model.compile(loss=loss, optimizer=optimizer, metrics=metrics)\n",
    "    \n",
    "    return model"
   ]
  },
  {
   "cell_type": "code",
   "execution_count": 33,
   "id": "a503a041",
   "metadata": {},
   "outputs": [
    {
     "name": "stdout",
     "output_type": "stream",
     "text": [
      "Model: \"sequential_5\"\n",
      "_________________________________________________________________\n",
      " Layer (type)                Output Shape              Param #   \n",
      "=================================================================\n",
      " flatten_4 (Flatten)         (None, 784)               0         \n",
      "                                                                 \n",
      " dense_11 (Dense)            (None, 128)               100480    \n",
      "                                                                 \n",
      " dropout (Dropout)           (None, 128)               0         \n",
      "                                                                 \n",
      " dense_12 (Dense)            (None, 64)                8256      \n",
      "                                                                 \n",
      " dropout_1 (Dropout)         (None, 64)                0         \n",
      "                                                                 \n",
      " dense_13 (Dense)            (None, 32)                2080      \n",
      "                                                                 \n",
      " dense_14 (Dense)            (None, 10)                330       \n",
      "                                                                 \n",
      "=================================================================\n",
      "Total params: 111,146\n",
      "Trainable params: 111,146\n",
      "Non-trainable params: 0\n",
      "_________________________________________________________________\n"
     ]
    }
   ],
   "source": [
    "model3 = keras.Sequential([\n",
    "    keras.layers.Flatten(input_shape=(28, 28)),\n",
    "    keras.layers.Dense(128, activation='relu'),\n",
    "    keras.layers.Dropout(0.3),\n",
    "    keras.layers.Dense(64, activation='relu'),\n",
    "    keras.layers.Dropout(0.3),\n",
    "    keras.layers.Dense(32, activation='tanh'),\n",
    "    keras.layers.Dense(10)\n",
    "])\n",
    "model3.summary()"
   ]
  },
  {
   "cell_type": "code",
   "execution_count": 34,
   "id": "df8e3417",
   "metadata": {},
   "outputs": [],
   "source": [
    "def create_model3(loss='sparse_categorical_crossentropy', optimizer='SGD', metrics=['accuracy'], activation_layers='relu', activation_last='tanh'):\n",
    "    model = keras.Sequential([\n",
    "        keras.layers.Flatten(input_shape=(28, 28)),\n",
    "        keras.layers.Dense(128, activation=activation_layers),\n",
    "        keras.layers.Dropout(0.3),\n",
    "        keras.layers.Dense(64, activation=activation_layers),\n",
    "        keras.layers.Dropout(0.3),\n",
    "        keras.layers.Dense(32, activation=activation_last),\n",
    "        keras.layers.Dense(10)\n",
    "    ])\n",
    "    \n",
    "    model.compile(loss=loss, optimizer=optimizer, metrics=metrics)\n",
    "    \n",
    "    return model"
   ]
  },
  {
   "cell_type": "code",
   "execution_count": 35,
   "id": "f1f35569",
   "metadata": {},
   "outputs": [
    {
     "name": "stdout",
     "output_type": "stream",
     "text": [
      "Model: \"sequential_6\"\n",
      "_________________________________________________________________\n",
      " Layer (type)                Output Shape              Param #   \n",
      "=================================================================\n",
      " flatten_5 (Flatten)         (None, 784)               0         \n",
      "                                                                 \n",
      " dense_15 (Dense)            (None, 128)               100480    \n",
      "                                                                 \n",
      " dense_16 (Dense)            (None, 64)                8256      \n",
      "                                                                 \n",
      " dense_17 (Dense)            (None, 64)                4160      \n",
      "                                                                 \n",
      " dense_18 (Dense)            (None, 64)                4160      \n",
      "                                                                 \n",
      " dense_19 (Dense)            (None, 64)                4160      \n",
      "                                                                 \n",
      " dense_20 (Dense)            (None, 64)                4160      \n",
      "                                                                 \n",
      " dense_21 (Dense)            (None, 64)                4160      \n",
      "                                                                 \n",
      " dense_22 (Dense)            (None, 32)                2080      \n",
      "                                                                 \n",
      " dense_23 (Dense)            (None, 10)                330       \n",
      "                                                                 \n",
      "=================================================================\n",
      "Total params: 131,946\n",
      "Trainable params: 131,946\n",
      "Non-trainable params: 0\n",
      "_________________________________________________________________\n"
     ]
    }
   ],
   "source": [
    "model4 = keras.Sequential([\n",
    "    keras.layers.Flatten(input_shape=(28, 28)),\n",
    "    keras.layers.Dense(128, activation='relu'),\n",
    "    keras.layers.Dense(64, activation='relu'),\n",
    "    keras.layers.Dense(64, activation='relu'),\n",
    "    keras.layers.Dense(64, activation='relu'),\n",
    "    keras.layers.Dense(64, activation='relu'),\n",
    "    keras.layers.Dense(64, activation='relu'),\n",
    "    keras.layers.Dense(64, activation='relu'),\n",
    "    keras.layers.Dense(32, activation='tanh'),\n",
    "    keras.layers.Dense(10)\n",
    "])\n",
    "model4.summary()"
   ]
  },
  {
   "cell_type": "code",
   "execution_count": 36,
   "id": "fd2c8cd5",
   "metadata": {},
   "outputs": [],
   "source": [
    "def create_model4(loss='sparse_categorical_crossentropy', optimizer='SGD', metrics=['accuracy'], activation_layers='relu', activation_last='tanh'):\n",
    "    model = keras.Sequential([\n",
    "        keras.layers.Flatten(input_shape=(28, 28)),\n",
    "        keras.layers.Dense(128, activation=activation_layers),\n",
    "        keras.layers.Dense(64, activation=activation_layers),\n",
    "        keras.layers.Dense(64, activation=activation_layers),\n",
    "        keras.layers.Dense(64, activation=activation_layers),\n",
    "        keras.layers.Dense(64, activation=activation_layers),\n",
    "        keras.layers.Dense(64, activation=activation_layers),\n",
    "        keras.layers.Dense(64, activation=activation_layers),\n",
    "        keras.layers.Dense(32, activation=activation_last),\n",
    "        keras.layers.Dense(10)\n",
    "    ])\n",
    "    \n",
    "    model.compile(loss=loss, optimizer=optimizer, metrics=metrics)\n",
    "    \n",
    "    return model"
   ]
  },
  {
   "cell_type": "markdown",
   "id": "b7933864",
   "metadata": {},
   "source": [
    "Описание сетей:\n",
    "\n",
    "- 0 -- Исходная модель\n",
    "- 1 -- Как исходная, только в 1,5 раз больше обучаемых параметров\n",
    "- 2 -- С одним скрытым слоем\n",
    "- 3 -- 3 скрытых слоя (затухания градиента не должно быть) и dropout-ы\n",
    "- 4 -- не слишком глубокая сеть, но ожидается затухание градиента. Значит есть вариант проверить, как функции активации будут влиять на это"
   ]
  },
  {
   "cell_type": "code",
   "execution_count": 37,
   "id": "6a7481d1",
   "metadata": {},
   "outputs": [],
   "source": [
    "params_grid = {\n",
    "    'epochs':[3, 5, 10],\n",
    "    'batch_size':[256, 512, 1024],\n",
    "    'loss':['sparse_categorical_crossentropy', 'binary_crossentropy', 'mse'],\n",
    "    'optimizer':['SGD', 'RMSprop', 'Adam'], #, 'Adagrad', 'Adamax'],\n",
    "    'metrics':['accuracy', 'mae', 'hinge'],\n",
    "    'activation_layers':['relu', 'elu', 'selu'],\n",
    "    'activation_last':['tanh', 'sigmoid'],\n",
    "}"
   ]
  },
  {
   "cell_type": "code",
   "execution_count": 38,
   "id": "6ce9c078",
   "metadata": {},
   "outputs": [],
   "source": [
    "X_train = train_images\n",
    "y_train = train_labels\n",
    "\n",
    "X_test = test_images\n",
    "y_test = test_labels"
   ]
  },
  {
   "cell_type": "markdown",
   "id": "0add4ff4",
   "metadata": {},
   "source": [
    "Начнём выбо модели и подбор параметров с размера батча:"
   ]
  },
  {
   "cell_type": "code",
   "execution_count": 39,
   "id": "7d1da8db",
   "metadata": {},
   "outputs": [
    {
     "name": "stdout",
     "output_type": "stream",
     "text": [
      "313/313 [==============================] - 1s 5ms/step - loss: 2.3026 - accuracy: 0.1117\n",
      "test loss, test acc: [2.30259108543396, 0.11169999837875366]  batch_size =  256\n",
      "313/313 [==============================] - 1s 4ms/step - loss: 2.3012 - accuracy: 0.1142\n",
      "test loss, test acc: [2.3012094497680664, 0.11420000344514847]  batch_size =  512\n",
      "313/313 [==============================] - 1s 4ms/step - loss: 2.9481 - accuracy: 0.1942\n",
      "test loss, test acc: [2.948131561279297, 0.19419999420642853]  batch_size =  1024\n",
      "313/313 [==============================] - 1s 4ms/step - loss: 6.5769 - accuracy: 0.1000\n",
      "test loss, test acc: [6.576932907104492, 0.10000000149011612]  batch_size =  256\n",
      "313/313 [==============================] - 1s 4ms/step - loss: 3.4918 - accuracy: 0.1998\n",
      "test loss, test acc: [3.4917731285095215, 0.19979999959468842]  batch_size =  512\n",
      "313/313 [==============================] - 1s 4ms/step - loss: 5.2205 - accuracy: 0.1031\n",
      "test loss, test acc: [5.220481872558594, 0.1031000018119812]  batch_size =  1024\n",
      "313/313 [==============================] - 1s 4ms/step - loss: 6.5604 - accuracy: 0.1000\n",
      "test loss, test acc: [6.560358047485352, 0.10000000149011612]  batch_size =  256\n",
      "313/313 [==============================] - 1s 4ms/step - loss: 5.0807 - accuracy: 0.1000\n",
      "test loss, test acc: [5.08073091506958, 0.10000000149011612]  batch_size =  512\n",
      "313/313 [==============================] - 1s 4ms/step - loss: 1.4272 - accuracy: 0.1986\n",
      "test loss, test acc: [1.4272456169128418, 0.19859999418258667]  batch_size =  1024\n",
      "313/313 [==============================] - 2s 5ms/step - loss: 2.3026 - accuracy: 0.1000\n",
      "test loss, test acc: [2.30259108543396, 0.10000000149011612]  batch_size =  256\n",
      "313/313 [==============================] - 1s 4ms/step - loss: 2.3026 - accuracy: 0.1000\n",
      "test loss, test acc: [2.30259108543396, 0.10000000149011612]  batch_size =  512\n",
      "313/313 [==============================] - 1s 4ms/step - loss: 2.2158 - accuracy: 0.1035\n",
      "test loss, test acc: [2.2158191204071045, 0.10350000113248825]  batch_size =  1024\n",
      "313/313 [==============================] - 1s 4ms/step - loss: 2.0829 - accuracy: 0.1000\n",
      "test loss, test acc: [2.0829272270202637, 0.10000000149011612]  batch_size =  256\n",
      "313/313 [==============================] - 1s 4ms/step - loss: 5.0984 - accuracy: 0.1000\n",
      "test loss, test acc: [5.098413944244385, 0.10000000149011612]  batch_size =  512\n",
      "313/313 [==============================] - 1s 5ms/step - loss: 3.1137 - accuracy: 0.1000\n",
      "test loss, test acc: [3.1137003898620605, 0.10000000149011612]  batch_size =  1024\n",
      "CPU times: user 1min 14s, sys: 22 s, total: 1min 36s\n",
      "Wall time: 1min 17s\n"
     ]
    },
    {
     "data": {
      "text/html": [
       "<div>\n",
       "<style scoped>\n",
       "    .dataframe tbody tr th:only-of-type {\n",
       "        vertical-align: middle;\n",
       "    }\n",
       "\n",
       "    .dataframe tbody tr th {\n",
       "        vertical-align: top;\n",
       "    }\n",
       "\n",
       "    .dataframe thead th {\n",
       "        text-align: right;\n",
       "    }\n",
       "</style>\n",
       "<table border=\"1\" class=\"dataframe\">\n",
       "  <thead>\n",
       "    <tr style=\"text-align: right;\">\n",
       "      <th></th>\n",
       "      <th>model</th>\n",
       "      <th>batch_size</th>\n",
       "      <th>loss_err</th>\n",
       "      <th>acc</th>\n",
       "    </tr>\n",
       "  </thead>\n",
       "  <tbody>\n",
       "    <tr>\n",
       "      <th>4</th>\n",
       "      <td>2</td>\n",
       "      <td>512</td>\n",
       "      <td>3.491773</td>\n",
       "      <td>0.1998</td>\n",
       "    </tr>\n",
       "    <tr>\n",
       "      <th>8</th>\n",
       "      <td>3</td>\n",
       "      <td>1024</td>\n",
       "      <td>1.427246</td>\n",
       "      <td>0.1986</td>\n",
       "    </tr>\n",
       "    <tr>\n",
       "      <th>2</th>\n",
       "      <td>1</td>\n",
       "      <td>1024</td>\n",
       "      <td>2.948132</td>\n",
       "      <td>0.1942</td>\n",
       "    </tr>\n",
       "    <tr>\n",
       "      <th>1</th>\n",
       "      <td>1</td>\n",
       "      <td>512</td>\n",
       "      <td>2.301209</td>\n",
       "      <td>0.1142</td>\n",
       "    </tr>\n",
       "    <tr>\n",
       "      <th>0</th>\n",
       "      <td>1</td>\n",
       "      <td>256</td>\n",
       "      <td>2.302591</td>\n",
       "      <td>0.1117</td>\n",
       "    </tr>\n",
       "    <tr>\n",
       "      <th>11</th>\n",
       "      <td>4</td>\n",
       "      <td>1024</td>\n",
       "      <td>2.215819</td>\n",
       "      <td>0.1035</td>\n",
       "    </tr>\n",
       "    <tr>\n",
       "      <th>5</th>\n",
       "      <td>2</td>\n",
       "      <td>1024</td>\n",
       "      <td>5.220482</td>\n",
       "      <td>0.1031</td>\n",
       "    </tr>\n",
       "    <tr>\n",
       "      <th>3</th>\n",
       "      <td>2</td>\n",
       "      <td>256</td>\n",
       "      <td>6.576933</td>\n",
       "      <td>0.1000</td>\n",
       "    </tr>\n",
       "    <tr>\n",
       "      <th>6</th>\n",
       "      <td>3</td>\n",
       "      <td>256</td>\n",
       "      <td>6.560358</td>\n",
       "      <td>0.1000</td>\n",
       "    </tr>\n",
       "    <tr>\n",
       "      <th>7</th>\n",
       "      <td>3</td>\n",
       "      <td>512</td>\n",
       "      <td>5.080731</td>\n",
       "      <td>0.1000</td>\n",
       "    </tr>\n",
       "    <tr>\n",
       "      <th>9</th>\n",
       "      <td>4</td>\n",
       "      <td>256</td>\n",
       "      <td>2.302591</td>\n",
       "      <td>0.1000</td>\n",
       "    </tr>\n",
       "    <tr>\n",
       "      <th>10</th>\n",
       "      <td>4</td>\n",
       "      <td>512</td>\n",
       "      <td>2.302591</td>\n",
       "      <td>0.1000</td>\n",
       "    </tr>\n",
       "    <tr>\n",
       "      <th>12</th>\n",
       "      <td>5</td>\n",
       "      <td>256</td>\n",
       "      <td>2.082927</td>\n",
       "      <td>0.1000</td>\n",
       "    </tr>\n",
       "    <tr>\n",
       "      <th>13</th>\n",
       "      <td>5</td>\n",
       "      <td>512</td>\n",
       "      <td>5.098414</td>\n",
       "      <td>0.1000</td>\n",
       "    </tr>\n",
       "    <tr>\n",
       "      <th>14</th>\n",
       "      <td>5</td>\n",
       "      <td>1024</td>\n",
       "      <td>3.113700</td>\n",
       "      <td>0.1000</td>\n",
       "    </tr>\n",
       "  </tbody>\n",
       "</table>\n",
       "</div>"
      ],
      "text/plain": [
       "    model  batch_size  loss_err     acc\n",
       "4       2         512  3.491773  0.1998\n",
       "8       3        1024  1.427246  0.1986\n",
       "2       1        1024  2.948132  0.1942\n",
       "1       1         512  2.301209  0.1142\n",
       "0       1         256  2.302591  0.1117\n",
       "11      4        1024  2.215819  0.1035\n",
       "5       2        1024  5.220482  0.1031\n",
       "3       2         256  6.576933  0.1000\n",
       "6       3         256  6.560358  0.1000\n",
       "7       3         512  5.080731  0.1000\n",
       "9       4         256  2.302591  0.1000\n",
       "10      4         512  2.302591  0.1000\n",
       "12      5         256  2.082927  0.1000\n",
       "13      5         512  5.098414  0.1000\n",
       "14      5        1024  3.113700  0.1000"
      ]
     },
     "execution_count": 39,
     "metadata": {},
     "output_type": "execute_result"
    }
   ],
   "source": [
    "%%time\n",
    "results_list = list()\n",
    "weight_flag = dict()\n",
    "\n",
    "for i, func_create_model in enumerate([create_model0, create_model1, create_model2, create_model3, create_model4]):\n",
    "    weight_flag[i] = False\n",
    "    for batch_size in params_grid['batch_size']:\n",
    "        model = func_create_model(loss='sparse_categorical_crossentropy')\n",
    "        if not weight_flag[i]:\n",
    "            model.save_weights('model{}.h5'.format(i))\n",
    "            weight_flag[i] = True\n",
    "        else:\n",
    "            model.load_weights('model{}.h5'.format(i))\n",
    "\n",
    "        model.fit(X_train, y_train, epochs=3, batch_size=batch_size, validation_split=0.2, verbose=0)\n",
    "\n",
    "        results = model.evaluate(X_test, y_test)\n",
    "        print('test loss, test acc:', results, ' batch_size = ', batch_size)\n",
    "\n",
    "        # model, loss, loss_err, acc\n",
    "        results_list.append([i + 1, batch_size, results[0], results[1]])\n",
    "\n",
    "df_results = pd.DataFrame(results_list, columns=['model', 'batch_size', 'loss_err', 'acc'])\n",
    "df_results.sort_values('acc', axis=0, ascending=False)"
   ]
  },
  {
   "cell_type": "markdown",
   "id": "dba93a45",
   "metadata": {},
   "source": [
    "Т.к. теперь на итерацию приходится чуть больше минуты, то запустил три раза подряд. И каждый раз новые результаты. Первый раз опмитальным выбором было 256, второй 512, третий - однозначный победитель среди батчей 1024. Какие данные останутся в последнем ноутбуке - не известно. Буду использовать 1024."
   ]
  },
  {
   "cell_type": "markdown",
   "id": "00fbc377",
   "metadata": {},
   "source": [
    "Теперь оценка функции потери."
   ]
  },
  {
   "cell_type": "code",
   "execution_count": 40,
   "id": "db0953e7",
   "metadata": {},
   "outputs": [
    {
     "name": "stdout",
     "output_type": "stream",
     "text": [
      "313/313 [==============================] - 1s 4ms/step - loss: 1.2064 - accuracy: 0.6909\n",
      "test loss, test acc: [1.2064441442489624, 0.6909000277519226]  loss =  sparse_categorical_crossentropy\n",
      "313/313 [==============================] - 1s 4ms/step - loss: -53.3706 - accuracy: 0.1602\n",
      "test loss, test acc: [-53.37062454223633, 0.16019999980926514]  loss =  binary_crossentropy\n",
      "313/313 [==============================] - 1s 4ms/step - loss: 2.4259 - accuracy: 0.1494\n",
      "test loss, test acc: [2.4258530139923096, 0.149399995803833]  loss =  mse\n",
      "313/313 [==============================] - 2s 5ms/step - loss: 2.9928 - accuracy: 0.1045\n",
      "test loss, test acc: [2.992849349975586, 0.10450000315904617]  loss =  sparse_categorical_crossentropy\n",
      "313/313 [==============================] - 2s 5ms/step - loss: -53.3683 - accuracy: 0.1000\n",
      "test loss, test acc: [-53.36830139160156, 0.10000000149011612]  loss =  binary_crossentropy\n",
      "313/313 [==============================] - 1s 5ms/step - loss: 2.2611 - accuracy: 0.0818\n",
      "test loss, test acc: [2.2610585689544678, 0.08179999887943268]  loss =  mse\n",
      "313/313 [==============================] - 1s 4ms/step - loss: 1.4955 - accuracy: 0.1033\n",
      "test loss, test acc: [1.4955174922943115, 0.10329999774694443]  loss =  sparse_categorical_crossentropy\n",
      "313/313 [==============================] - 1s 4ms/step - loss: -41.0830 - accuracy: 0.1972\n",
      "test loss, test acc: [-41.082950592041016, 0.1972000002861023]  loss =  binary_crossentropy\n",
      "313/313 [==============================] - 1s 3ms/step - loss: 2.3978 - accuracy: 0.0920\n",
      "test loss, test acc: [2.3978185653686523, 0.09200000017881393]  loss =  mse\n",
      "313/313 [==============================] - 1s 4ms/step - loss: 7.9464 - accuracy: 0.1000\n",
      "test loss, test acc: [7.946402549743652, 0.10000000149011612]  loss =  sparse_categorical_crossentropy\n",
      "313/313 [==============================] - 1s 4ms/step - loss: -41.0939 - accuracy: 0.1000\n",
      "test loss, test acc: [-41.09386444091797, 0.10000000149011612]  loss =  binary_crossentropy\n",
      "313/313 [==============================] - 1s 4ms/step - loss: 2.7594 - accuracy: 0.1622\n",
      "test loss, test acc: [2.7593610286712646, 0.16220000386238098]  loss =  mse\n",
      "313/313 [==============================] - 1s 5ms/step - loss: 8.1638 - accuracy: 0.1000\n",
      "test loss, test acc: [8.163799285888672, 0.10000000149011612]  loss =  sparse_categorical_crossentropy\n",
      "313/313 [==============================] - 2s 5ms/step - loss: -4.2585 - accuracy: 0.1000\n",
      "test loss, test acc: [-4.258491516113281, 0.10000000149011612]  loss =  binary_crossentropy\n",
      "313/313 [==============================] - 2s 6ms/step - loss: 2.5860 - accuracy: 0.1327\n",
      "test loss, test acc: [2.5859575271606445, 0.13269999623298645]  loss =  mse\n",
      "CPU times: user 1min 1s, sys: 16.5 s, total: 1min 18s\n",
      "Wall time: 1min 2s\n"
     ]
    },
    {
     "data": {
      "text/html": [
       "<div>\n",
       "<style scoped>\n",
       "    .dataframe tbody tr th:only-of-type {\n",
       "        vertical-align: middle;\n",
       "    }\n",
       "\n",
       "    .dataframe tbody tr th {\n",
       "        vertical-align: top;\n",
       "    }\n",
       "\n",
       "    .dataframe thead th {\n",
       "        text-align: right;\n",
       "    }\n",
       "</style>\n",
       "<table border=\"1\" class=\"dataframe\">\n",
       "  <thead>\n",
       "    <tr style=\"text-align: right;\">\n",
       "      <th></th>\n",
       "      <th>model</th>\n",
       "      <th>loss</th>\n",
       "      <th>loss_err</th>\n",
       "      <th>acc</th>\n",
       "    </tr>\n",
       "  </thead>\n",
       "  <tbody>\n",
       "    <tr>\n",
       "      <th>0</th>\n",
       "      <td>1</td>\n",
       "      <td>sparse_categorical_crossentropy</td>\n",
       "      <td>1.206444</td>\n",
       "      <td>0.6909</td>\n",
       "    </tr>\n",
       "    <tr>\n",
       "      <th>7</th>\n",
       "      <td>3</td>\n",
       "      <td>binary_crossentropy</td>\n",
       "      <td>-41.082951</td>\n",
       "      <td>0.1972</td>\n",
       "    </tr>\n",
       "    <tr>\n",
       "      <th>11</th>\n",
       "      <td>4</td>\n",
       "      <td>mse</td>\n",
       "      <td>2.759361</td>\n",
       "      <td>0.1622</td>\n",
       "    </tr>\n",
       "    <tr>\n",
       "      <th>1</th>\n",
       "      <td>1</td>\n",
       "      <td>binary_crossentropy</td>\n",
       "      <td>-53.370625</td>\n",
       "      <td>0.1602</td>\n",
       "    </tr>\n",
       "    <tr>\n",
       "      <th>2</th>\n",
       "      <td>1</td>\n",
       "      <td>mse</td>\n",
       "      <td>2.425853</td>\n",
       "      <td>0.1494</td>\n",
       "    </tr>\n",
       "    <tr>\n",
       "      <th>14</th>\n",
       "      <td>5</td>\n",
       "      <td>mse</td>\n",
       "      <td>2.585958</td>\n",
       "      <td>0.1327</td>\n",
       "    </tr>\n",
       "    <tr>\n",
       "      <th>3</th>\n",
       "      <td>2</td>\n",
       "      <td>sparse_categorical_crossentropy</td>\n",
       "      <td>2.992849</td>\n",
       "      <td>0.1045</td>\n",
       "    </tr>\n",
       "    <tr>\n",
       "      <th>6</th>\n",
       "      <td>3</td>\n",
       "      <td>sparse_categorical_crossentropy</td>\n",
       "      <td>1.495517</td>\n",
       "      <td>0.1033</td>\n",
       "    </tr>\n",
       "    <tr>\n",
       "      <th>4</th>\n",
       "      <td>2</td>\n",
       "      <td>binary_crossentropy</td>\n",
       "      <td>-53.368301</td>\n",
       "      <td>0.1000</td>\n",
       "    </tr>\n",
       "    <tr>\n",
       "      <th>9</th>\n",
       "      <td>4</td>\n",
       "      <td>sparse_categorical_crossentropy</td>\n",
       "      <td>7.946403</td>\n",
       "      <td>0.1000</td>\n",
       "    </tr>\n",
       "    <tr>\n",
       "      <th>10</th>\n",
       "      <td>4</td>\n",
       "      <td>binary_crossentropy</td>\n",
       "      <td>-41.093864</td>\n",
       "      <td>0.1000</td>\n",
       "    </tr>\n",
       "    <tr>\n",
       "      <th>12</th>\n",
       "      <td>5</td>\n",
       "      <td>sparse_categorical_crossentropy</td>\n",
       "      <td>8.163799</td>\n",
       "      <td>0.1000</td>\n",
       "    </tr>\n",
       "    <tr>\n",
       "      <th>13</th>\n",
       "      <td>5</td>\n",
       "      <td>binary_crossentropy</td>\n",
       "      <td>-4.258492</td>\n",
       "      <td>0.1000</td>\n",
       "    </tr>\n",
       "    <tr>\n",
       "      <th>8</th>\n",
       "      <td>3</td>\n",
       "      <td>mse</td>\n",
       "      <td>2.397819</td>\n",
       "      <td>0.0920</td>\n",
       "    </tr>\n",
       "    <tr>\n",
       "      <th>5</th>\n",
       "      <td>2</td>\n",
       "      <td>mse</td>\n",
       "      <td>2.261059</td>\n",
       "      <td>0.0818</td>\n",
       "    </tr>\n",
       "  </tbody>\n",
       "</table>\n",
       "</div>"
      ],
      "text/plain": [
       "    model                             loss   loss_err     acc\n",
       "0       1  sparse_categorical_crossentropy   1.206444  0.6909\n",
       "7       3              binary_crossentropy -41.082951  0.1972\n",
       "11      4                              mse   2.759361  0.1622\n",
       "1       1              binary_crossentropy -53.370625  0.1602\n",
       "2       1                              mse   2.425853  0.1494\n",
       "14      5                              mse   2.585958  0.1327\n",
       "3       2  sparse_categorical_crossentropy   2.992849  0.1045\n",
       "6       3  sparse_categorical_crossentropy   1.495517  0.1033\n",
       "4       2              binary_crossentropy -53.368301  0.1000\n",
       "9       4  sparse_categorical_crossentropy   7.946403  0.1000\n",
       "10      4              binary_crossentropy -41.093864  0.1000\n",
       "12      5  sparse_categorical_crossentropy   8.163799  0.1000\n",
       "13      5              binary_crossentropy  -4.258492  0.1000\n",
       "8       3                              mse   2.397819  0.0920\n",
       "5       2                              mse   2.261059  0.0818"
      ]
     },
     "execution_count": 40,
     "metadata": {},
     "output_type": "execute_result"
    }
   ],
   "source": [
    "%%time\n",
    "results_list = list()\n",
    "weight_flag = dict()\n",
    "\n",
    "for i, func_create_model in enumerate([create_model0, create_model1, create_model2, create_model3, create_model4]):\n",
    "    weight_flag[i] = False\n",
    "    for loss in params_grid['loss']:\n",
    "        model = func_create_model(loss=loss)\n",
    "        if not weight_flag[i]:\n",
    "            model.save_weights('model{}.h5'.format(i))\n",
    "            weight_flag[i] = True\n",
    "        else:\n",
    "            model.load_weights('model{}.h5'.format(i))\n",
    "\n",
    "        model.fit(X_train, y_train, epochs=3, batch_size=1024, validation_split=0.2, verbose=0)\n",
    "\n",
    "        results = model.evaluate(X_test, y_test)\n",
    "        print('test loss, test acc:', results, ' loss = ', loss)\n",
    "\n",
    "        # model, loss, loss_err, acc\n",
    "        results_list.append([i + 1, loss, results[0], results[1]])\n",
    "\n",
    "df_results = pd.DataFrame(results_list, columns=['model', 'loss', 'loss_err', 'acc'])\n",
    "df_results.sort_values('acc', axis=0, ascending=False)"
   ]
  },
  {
   "cell_type": "markdown",
   "id": "95c03d78",
   "metadata": {},
   "source": [
    "Однозначный победительно (после двух запусков) sparse_categorical_crossentropy."
   ]
  },
  {
   "cell_type": "markdown",
   "id": "b0faf45f",
   "metadata": {},
   "source": [
    "Далее подбор optimizer"
   ]
  },
  {
   "cell_type": "code",
   "execution_count": 41,
   "id": "483f59bf",
   "metadata": {},
   "outputs": [
    {
     "name": "stdout",
     "output_type": "stream",
     "text": [
      "313/313 [==============================] - 1s 4ms/step - loss: 1.4903 - accuracy: 0.1000\n",
      "test loss, test acc: [1.4902774095535278, 0.10000000149011612]  loss =  mse\n",
      "313/313 [==============================] - 1s 5ms/step - loss: 2.2731 - accuracy: 0.2383\n",
      "test loss, test acc: [2.2731173038482666, 0.23829999566078186]  loss =  mse\n",
      "313/313 [==============================] - 1s 4ms/step - loss: 1.3647 - accuracy: 0.2929\n",
      "test loss, test acc: [1.3646790981292725, 0.2928999960422516]  loss =  mse\n",
      "313/313 [==============================] - 1s 4ms/step - loss: 5.0610 - accuracy: 0.1299\n",
      "test loss, test acc: [5.061007976531982, 0.1298999935388565]  loss =  mse\n",
      "313/313 [==============================] - 1s 5ms/step - loss: 2.1489 - accuracy: 0.4416\n",
      "test loss, test acc: [2.1489040851593018, 0.4415999948978424]  loss =  mse\n",
      "313/313 [==============================] - 1s 4ms/step - loss: 2.2998 - accuracy: 0.2569\n",
      "test loss, test acc: [2.2998344898223877, 0.25690001249313354]  loss =  mse\n",
      "313/313 [==============================] - 1s 4ms/step - loss: 9.6685 - accuracy: 0.1000\n",
      "test loss, test acc: [9.668486595153809, 0.10000000149011612]  loss =  mse\n",
      "313/313 [==============================] - 1s 4ms/step - loss: 1.9339 - accuracy: 0.3962\n",
      "test loss, test acc: [1.9338730573654175, 0.3962000012397766]  loss =  mse\n",
      "313/313 [==============================] - 1s 4ms/step - loss: 2.8987 - accuracy: 0.1046\n",
      "test loss, test acc: [2.8987154960632324, 0.10459999740123749]  loss =  mse\n",
      "313/313 [==============================] - 1s 4ms/step - loss: 3.8089 - accuracy: 0.1000\n",
      "test loss, test acc: [3.8088648319244385, 0.10000000149011612]  loss =  mse\n",
      "313/313 [==============================] - 1s 4ms/step - loss: 0.8519 - accuracy: 0.7523\n",
      "test loss, test acc: [0.8518602252006531, 0.7523000240325928]  loss =  mse\n",
      "313/313 [==============================] - 1s 4ms/step - loss: 1.0695 - accuracy: 0.6204\n",
      "test loss, test acc: [1.0695083141326904, 0.6204000115394592]  loss =  mse\n",
      "313/313 [==============================] - 2s 6ms/step - loss: 8.0036 - accuracy: 0.0385\n",
      "test loss, test acc: [8.003612518310547, 0.03849999979138374]  loss =  mse\n",
      "313/313 [==============================] - 2s 5ms/step - loss: 2.1497 - accuracy: 0.1768\n",
      "test loss, test acc: [2.1497113704681396, 0.17679999768733978]  loss =  mse\n",
      "313/313 [==============================] - 2s 5ms/step - loss: 2.3033 - accuracy: 0.1539\n",
      "test loss, test acc: [2.303321599960327, 0.15389999747276306]  loss =  mse\n",
      "CPU times: user 1min 4s, sys: 15.2 s, total: 1min 19s\n",
      "Wall time: 1min 4s\n"
     ]
    },
    {
     "data": {
      "text/html": [
       "<div>\n",
       "<style scoped>\n",
       "    .dataframe tbody tr th:only-of-type {\n",
       "        vertical-align: middle;\n",
       "    }\n",
       "\n",
       "    .dataframe tbody tr th {\n",
       "        vertical-align: top;\n",
       "    }\n",
       "\n",
       "    .dataframe thead th {\n",
       "        text-align: right;\n",
       "    }\n",
       "</style>\n",
       "<table border=\"1\" class=\"dataframe\">\n",
       "  <thead>\n",
       "    <tr style=\"text-align: right;\">\n",
       "      <th></th>\n",
       "      <th>model</th>\n",
       "      <th>optimizer</th>\n",
       "      <th>loss_err</th>\n",
       "      <th>acc</th>\n",
       "    </tr>\n",
       "  </thead>\n",
       "  <tbody>\n",
       "    <tr>\n",
       "      <th>10</th>\n",
       "      <td>4</td>\n",
       "      <td>RMSprop</td>\n",
       "      <td>0.851860</td>\n",
       "      <td>0.7523</td>\n",
       "    </tr>\n",
       "    <tr>\n",
       "      <th>11</th>\n",
       "      <td>4</td>\n",
       "      <td>Adam</td>\n",
       "      <td>1.069508</td>\n",
       "      <td>0.6204</td>\n",
       "    </tr>\n",
       "    <tr>\n",
       "      <th>4</th>\n",
       "      <td>2</td>\n",
       "      <td>RMSprop</td>\n",
       "      <td>2.148904</td>\n",
       "      <td>0.4416</td>\n",
       "    </tr>\n",
       "    <tr>\n",
       "      <th>7</th>\n",
       "      <td>3</td>\n",
       "      <td>RMSprop</td>\n",
       "      <td>1.933873</td>\n",
       "      <td>0.3962</td>\n",
       "    </tr>\n",
       "    <tr>\n",
       "      <th>2</th>\n",
       "      <td>1</td>\n",
       "      <td>Adam</td>\n",
       "      <td>1.364679</td>\n",
       "      <td>0.2929</td>\n",
       "    </tr>\n",
       "    <tr>\n",
       "      <th>5</th>\n",
       "      <td>2</td>\n",
       "      <td>Adam</td>\n",
       "      <td>2.299834</td>\n",
       "      <td>0.2569</td>\n",
       "    </tr>\n",
       "    <tr>\n",
       "      <th>1</th>\n",
       "      <td>1</td>\n",
       "      <td>RMSprop</td>\n",
       "      <td>2.273117</td>\n",
       "      <td>0.2383</td>\n",
       "    </tr>\n",
       "    <tr>\n",
       "      <th>13</th>\n",
       "      <td>5</td>\n",
       "      <td>RMSprop</td>\n",
       "      <td>2.149711</td>\n",
       "      <td>0.1768</td>\n",
       "    </tr>\n",
       "    <tr>\n",
       "      <th>14</th>\n",
       "      <td>5</td>\n",
       "      <td>Adam</td>\n",
       "      <td>2.303322</td>\n",
       "      <td>0.1539</td>\n",
       "    </tr>\n",
       "    <tr>\n",
       "      <th>3</th>\n",
       "      <td>2</td>\n",
       "      <td>SGD</td>\n",
       "      <td>5.061008</td>\n",
       "      <td>0.1299</td>\n",
       "    </tr>\n",
       "    <tr>\n",
       "      <th>8</th>\n",
       "      <td>3</td>\n",
       "      <td>Adam</td>\n",
       "      <td>2.898715</td>\n",
       "      <td>0.1046</td>\n",
       "    </tr>\n",
       "    <tr>\n",
       "      <th>0</th>\n",
       "      <td>1</td>\n",
       "      <td>SGD</td>\n",
       "      <td>1.490277</td>\n",
       "      <td>0.1000</td>\n",
       "    </tr>\n",
       "    <tr>\n",
       "      <th>6</th>\n",
       "      <td>3</td>\n",
       "      <td>SGD</td>\n",
       "      <td>9.668487</td>\n",
       "      <td>0.1000</td>\n",
       "    </tr>\n",
       "    <tr>\n",
       "      <th>9</th>\n",
       "      <td>4</td>\n",
       "      <td>SGD</td>\n",
       "      <td>3.808865</td>\n",
       "      <td>0.1000</td>\n",
       "    </tr>\n",
       "    <tr>\n",
       "      <th>12</th>\n",
       "      <td>5</td>\n",
       "      <td>SGD</td>\n",
       "      <td>8.003613</td>\n",
       "      <td>0.0385</td>\n",
       "    </tr>\n",
       "  </tbody>\n",
       "</table>\n",
       "</div>"
      ],
      "text/plain": [
       "    model optimizer  loss_err     acc\n",
       "10      4   RMSprop  0.851860  0.7523\n",
       "11      4      Adam  1.069508  0.6204\n",
       "4       2   RMSprop  2.148904  0.4416\n",
       "7       3   RMSprop  1.933873  0.3962\n",
       "2       1      Adam  1.364679  0.2929\n",
       "5       2      Adam  2.299834  0.2569\n",
       "1       1   RMSprop  2.273117  0.2383\n",
       "13      5   RMSprop  2.149711  0.1768\n",
       "14      5      Adam  2.303322  0.1539\n",
       "3       2       SGD  5.061008  0.1299\n",
       "8       3      Adam  2.898715  0.1046\n",
       "0       1       SGD  1.490277  0.1000\n",
       "6       3       SGD  9.668487  0.1000\n",
       "9       4       SGD  3.808865  0.1000\n",
       "12      5       SGD  8.003613  0.0385"
      ]
     },
     "execution_count": 41,
     "metadata": {},
     "output_type": "execute_result"
    }
   ],
   "source": [
    "%%time\n",
    "results_list = list()\n",
    "weight_flag = dict()\n",
    "\n",
    "for i, func_create_model in enumerate([create_model0, create_model1, create_model2, create_model3, create_model4]):\n",
    "    weight_flag[i] = False\n",
    "    for optimizer in params_grid['optimizer']:\n",
    "        model = func_create_model(loss='sparse_categorical_crossentropy', optimizer=optimizer)\n",
    "        if not weight_flag[i]:\n",
    "            model.save_weights('model{}.h5'.format(i))\n",
    "            weight_flag[i] = True\n",
    "        else:\n",
    "            model.load_weights('model{}.h5'.format(i))\n",
    "\n",
    "        model.fit(X_train, y_train, epochs=3, batch_size=1024, validation_split=0.2, verbose=0)\n",
    "\n",
    "        results = model.evaluate(X_test, y_test)\n",
    "        print('test loss, test acc:', results, ' loss = ', loss)\n",
    "\n",
    "        # model, loss, loss_err, acc\n",
    "        results_list.append([i + 1, optimizer, results[0], results[1]])\n",
    "\n",
    "df_results = pd.DataFrame(results_list, columns=['model', 'optimizer', 'loss_err', 'acc'])\n",
    "df_results.sort_values('acc', axis=0, ascending=False)"
   ]
  },
  {
   "cell_type": "markdown",
   "id": "3163a88f",
   "metadata": {},
   "source": [
    "Опять однозначный победитель (3/4) RMSprop."
   ]
  },
  {
   "cell_type": "markdown",
   "id": "34a3537b",
   "metadata": {},
   "source": [
    "Теперь подбор метрики."
   ]
  },
  {
   "cell_type": "code",
   "execution_count": 42,
   "id": "d6925773",
   "metadata": {},
   "outputs": [
    {
     "name": "stdout",
     "output_type": "stream",
     "text": [
      "313/313 [==============================] - 1s 4ms/step - loss: 2.2683 - accuracy: 0.6125\n",
      "test loss, test acc: [2.268320322036743, 0.612500011920929]  loss =  mse\n",
      "313/313 [==============================] - 1s 4ms/step - loss: 2.2543 - mae: 6.3432\n",
      "test loss, test acc: [2.254335403442383, 6.343235015869141]  loss =  mse\n",
      "313/313 [==============================] - 1s 4ms/step - loss: 2.3024 - hinge: 9.9896\n",
      "test loss, test acc: [2.302360773086548, 9.989583969116211]  loss =  mse\n",
      "313/313 [==============================] - 1s 4ms/step - loss: 1.3044 - accuracy: 0.6575\n",
      "test loss, test acc: [1.3044387102127075, 0.6575000286102295]  loss =  mse\n",
      "313/313 [==============================] - 2s 5ms/step - loss: 2.3017 - mae: 6.8895\n",
      "test loss, test acc: [2.3016698360443115, 6.889468669891357]  loss =  mse\n",
      "313/313 [==============================] - 1s 4ms/step - loss: 2.3058 - hinge: 10.4800\n",
      "test loss, test acc: [2.3057942390441895, 10.479982376098633]  loss =  mse\n",
      "313/313 [==============================] - 1s 4ms/step - loss: 2.3037 - accuracy: 0.4294\n",
      "test loss, test acc: [2.3036704063415527, 0.4293999969959259]  loss =  mse\n",
      "313/313 [==============================] - 2s 5ms/step - loss: 2.3035 - mae: 6.9642\n",
      "test loss, test acc: [2.303494453430176, 6.964190483093262]  loss =  mse\n",
      "313/313 [==============================] - 2s 5ms/step - loss: 1.9325 - hinge: 8.1378\n",
      "test loss, test acc: [1.9325467348098755, 8.137825012207031]  loss =  mse\n",
      "313/313 [==============================] - 1s 4ms/step - loss: 0.9998 - accuracy: 0.6628\n",
      "test loss, test acc: [0.9997701048851013, 0.6628000140190125]  loss =  mse\n",
      "313/313 [==============================] - 1s 5ms/step - loss: 1.0150 - mae: 4.8389\n",
      "test loss, test acc: [1.0149520635604858, 4.838875770568848]  loss =  mse\n",
      "313/313 [==============================] - 1s 5ms/step - loss: 1.0444 - hinge: 3.2037\n",
      "test loss, test acc: [1.0444499254226685, 3.2037243843078613]  loss =  mse\n",
      "313/313 [==============================] - 2s 5ms/step - loss: 2.3032 - accuracy: 0.1014\n",
      "test loss, test acc: [2.3032495975494385, 0.10140000283718109]  loss =  mse\n",
      "313/313 [==============================] - 1s 5ms/step - loss: 2.3037 - mae: 4.9678\n",
      "test loss, test acc: [2.303743839263916, 4.96784782409668]  loss =  mse\n",
      "313/313 [==============================] - 2s 5ms/step - loss: 0.9127 - hinge: 1.2918\n",
      "test loss, test acc: [0.9126604199409485, 1.2918494939804077]  loss =  mse\n",
      "CPU times: user 1min 6s, sys: 16.6 s, total: 1min 23s\n",
      "Wall time: 1min 7s\n"
     ]
    }
   ],
   "source": [
    "%%time\n",
    "results_list = list()\n",
    "weight_flag = dict()\n",
    "\n",
    "for i, func_create_model in enumerate([create_model0, create_model1, create_model2, create_model3, create_model4]):\n",
    "    weight_flag[i] = False\n",
    "    for metrics in params_grid['metrics']:\n",
    "        model = func_create_model(loss='sparse_categorical_crossentropy', optimizer='RMSprop', metrics=metrics)\n",
    "        if not weight_flag[i]:\n",
    "            model.save_weights('model{}.h5'.format(i))\n",
    "            weight_flag[i] = True\n",
    "        else:\n",
    "            model.load_weights('model{}.h5'.format(i))\n",
    "\n",
    "        model.fit(X_train, y_train, epochs=3, batch_size=1024, validation_split=0.2, verbose=0)\n",
    "\n",
    "        results = model.evaluate(X_test, y_test)\n",
    "        print('test loss, test acc:', results, ' loss = ', loss)\n",
    "\n",
    "        # model, loss, loss_err, acc\n",
    "        results_list.append([i + 1, metrics, results[0], results[1]])\n",
    "\n",
    "df_results = pd.DataFrame(results_list, columns=['model', 'metrics', 'loss_err', 'acc'])"
   ]
  },
  {
   "cell_type": "code",
   "execution_count": 43,
   "id": "0580f98c",
   "metadata": {},
   "outputs": [
    {
     "data": {
      "text/html": [
       "<div>\n",
       "<style scoped>\n",
       "    .dataframe tbody tr th:only-of-type {\n",
       "        vertical-align: middle;\n",
       "    }\n",
       "\n",
       "    .dataframe tbody tr th {\n",
       "        vertical-align: top;\n",
       "    }\n",
       "\n",
       "    .dataframe thead th {\n",
       "        text-align: right;\n",
       "    }\n",
       "</style>\n",
       "<table border=\"1\" class=\"dataframe\">\n",
       "  <thead>\n",
       "    <tr style=\"text-align: right;\">\n",
       "      <th></th>\n",
       "      <th>model</th>\n",
       "      <th>metrics</th>\n",
       "      <th>loss_err</th>\n",
       "      <th>acc</th>\n",
       "    </tr>\n",
       "  </thead>\n",
       "  <tbody>\n",
       "    <tr>\n",
       "      <th>9</th>\n",
       "      <td>4</td>\n",
       "      <td>accuracy</td>\n",
       "      <td>0.999770</td>\n",
       "      <td>0.6628</td>\n",
       "    </tr>\n",
       "    <tr>\n",
       "      <th>3</th>\n",
       "      <td>2</td>\n",
       "      <td>accuracy</td>\n",
       "      <td>1.304439</td>\n",
       "      <td>0.6575</td>\n",
       "    </tr>\n",
       "    <tr>\n",
       "      <th>0</th>\n",
       "      <td>1</td>\n",
       "      <td>accuracy</td>\n",
       "      <td>2.268320</td>\n",
       "      <td>0.6125</td>\n",
       "    </tr>\n",
       "    <tr>\n",
       "      <th>6</th>\n",
       "      <td>3</td>\n",
       "      <td>accuracy</td>\n",
       "      <td>2.303670</td>\n",
       "      <td>0.4294</td>\n",
       "    </tr>\n",
       "    <tr>\n",
       "      <th>12</th>\n",
       "      <td>5</td>\n",
       "      <td>accuracy</td>\n",
       "      <td>2.303250</td>\n",
       "      <td>0.1014</td>\n",
       "    </tr>\n",
       "  </tbody>\n",
       "</table>\n",
       "</div>"
      ],
      "text/plain": [
       "    model   metrics  loss_err     acc\n",
       "9       4  accuracy  0.999770  0.6628\n",
       "3       2  accuracy  1.304439  0.6575\n",
       "0       1  accuracy  2.268320  0.6125\n",
       "6       3  accuracy  2.303670  0.4294\n",
       "12      5  accuracy  2.303250  0.1014"
      ]
     },
     "execution_count": 43,
     "metadata": {},
     "output_type": "execute_result"
    }
   ],
   "source": [
    "df_results[df_results['metrics'] == 'accuracy'].sort_values('acc', axis=0, ascending=False)"
   ]
  },
  {
   "cell_type": "code",
   "execution_count": 44,
   "id": "f175a902",
   "metadata": {},
   "outputs": [
    {
     "data": {
      "text/html": [
       "<div>\n",
       "<style scoped>\n",
       "    .dataframe tbody tr th:only-of-type {\n",
       "        vertical-align: middle;\n",
       "    }\n",
       "\n",
       "    .dataframe tbody tr th {\n",
       "        vertical-align: top;\n",
       "    }\n",
       "\n",
       "    .dataframe thead th {\n",
       "        text-align: right;\n",
       "    }\n",
       "</style>\n",
       "<table border=\"1\" class=\"dataframe\">\n",
       "  <thead>\n",
       "    <tr style=\"text-align: right;\">\n",
       "      <th></th>\n",
       "      <th>model</th>\n",
       "      <th>metrics</th>\n",
       "      <th>loss_err</th>\n",
       "      <th>acc</th>\n",
       "    </tr>\n",
       "  </thead>\n",
       "  <tbody>\n",
       "    <tr>\n",
       "      <th>10</th>\n",
       "      <td>4</td>\n",
       "      <td>mae</td>\n",
       "      <td>1.014952</td>\n",
       "      <td>4.838876</td>\n",
       "    </tr>\n",
       "    <tr>\n",
       "      <th>13</th>\n",
       "      <td>5</td>\n",
       "      <td>mae</td>\n",
       "      <td>2.303744</td>\n",
       "      <td>4.967848</td>\n",
       "    </tr>\n",
       "    <tr>\n",
       "      <th>1</th>\n",
       "      <td>1</td>\n",
       "      <td>mae</td>\n",
       "      <td>2.254335</td>\n",
       "      <td>6.343235</td>\n",
       "    </tr>\n",
       "    <tr>\n",
       "      <th>4</th>\n",
       "      <td>2</td>\n",
       "      <td>mae</td>\n",
       "      <td>2.301670</td>\n",
       "      <td>6.889469</td>\n",
       "    </tr>\n",
       "    <tr>\n",
       "      <th>7</th>\n",
       "      <td>3</td>\n",
       "      <td>mae</td>\n",
       "      <td>2.303494</td>\n",
       "      <td>6.964190</td>\n",
       "    </tr>\n",
       "  </tbody>\n",
       "</table>\n",
       "</div>"
      ],
      "text/plain": [
       "    model metrics  loss_err       acc\n",
       "10      4     mae  1.014952  4.838876\n",
       "13      5     mae  2.303744  4.967848\n",
       "1       1     mae  2.254335  6.343235\n",
       "4       2     mae  2.301670  6.889469\n",
       "7       3     mae  2.303494  6.964190"
      ]
     },
     "execution_count": 44,
     "metadata": {},
     "output_type": "execute_result"
    }
   ],
   "source": [
    "df_results[df_results['metrics'] == 'mae'].sort_values('acc', axis=0, ascending=True)"
   ]
  },
  {
   "cell_type": "code",
   "execution_count": 45,
   "id": "a3ffe705",
   "metadata": {},
   "outputs": [
    {
     "data": {
      "text/html": [
       "<div>\n",
       "<style scoped>\n",
       "    .dataframe tbody tr th:only-of-type {\n",
       "        vertical-align: middle;\n",
       "    }\n",
       "\n",
       "    .dataframe tbody tr th {\n",
       "        vertical-align: top;\n",
       "    }\n",
       "\n",
       "    .dataframe thead th {\n",
       "        text-align: right;\n",
       "    }\n",
       "</style>\n",
       "<table border=\"1\" class=\"dataframe\">\n",
       "  <thead>\n",
       "    <tr style=\"text-align: right;\">\n",
       "      <th></th>\n",
       "      <th>model</th>\n",
       "      <th>metrics</th>\n",
       "      <th>loss_err</th>\n",
       "      <th>acc</th>\n",
       "    </tr>\n",
       "  </thead>\n",
       "  <tbody>\n",
       "    <tr>\n",
       "      <th>14</th>\n",
       "      <td>5</td>\n",
       "      <td>hinge</td>\n",
       "      <td>0.912660</td>\n",
       "      <td>1.291849</td>\n",
       "    </tr>\n",
       "    <tr>\n",
       "      <th>11</th>\n",
       "      <td>4</td>\n",
       "      <td>hinge</td>\n",
       "      <td>1.044450</td>\n",
       "      <td>3.203724</td>\n",
       "    </tr>\n",
       "    <tr>\n",
       "      <th>8</th>\n",
       "      <td>3</td>\n",
       "      <td>hinge</td>\n",
       "      <td>1.932547</td>\n",
       "      <td>8.137825</td>\n",
       "    </tr>\n",
       "    <tr>\n",
       "      <th>2</th>\n",
       "      <td>1</td>\n",
       "      <td>hinge</td>\n",
       "      <td>2.302361</td>\n",
       "      <td>9.989584</td>\n",
       "    </tr>\n",
       "    <tr>\n",
       "      <th>5</th>\n",
       "      <td>2</td>\n",
       "      <td>hinge</td>\n",
       "      <td>2.305794</td>\n",
       "      <td>10.479982</td>\n",
       "    </tr>\n",
       "  </tbody>\n",
       "</table>\n",
       "</div>"
      ],
      "text/plain": [
       "    model metrics  loss_err        acc\n",
       "14      5   hinge  0.912660   1.291849\n",
       "11      4   hinge  1.044450   3.203724\n",
       "8       3   hinge  1.932547   8.137825\n",
       "2       1   hinge  2.302361   9.989584\n",
       "5       2   hinge  2.305794  10.479982"
      ]
     },
     "execution_count": 45,
     "metadata": {},
     "output_type": "execute_result"
    }
   ],
   "source": [
    "df_results[df_results['metrics'] == 'hinge'].sort_values('acc', axis=0, ascending=True)"
   ]
  },
  {
   "cell_type": "code",
   "execution_count": 46,
   "id": "532fdda6",
   "metadata": {},
   "outputs": [
    {
     "data": {
      "text/html": [
       "<div>\n",
       "<style scoped>\n",
       "    .dataframe tbody tr th:only-of-type {\n",
       "        vertical-align: middle;\n",
       "    }\n",
       "\n",
       "    .dataframe tbody tr th {\n",
       "        vertical-align: top;\n",
       "    }\n",
       "\n",
       "    .dataframe thead th {\n",
       "        text-align: right;\n",
       "    }\n",
       "</style>\n",
       "<table border=\"1\" class=\"dataframe\">\n",
       "  <thead>\n",
       "    <tr style=\"text-align: right;\">\n",
       "      <th></th>\n",
       "      <th>model</th>\n",
       "      <th>metrics</th>\n",
       "      <th>loss_err</th>\n",
       "      <th>acc</th>\n",
       "    </tr>\n",
       "  </thead>\n",
       "  <tbody>\n",
       "    <tr>\n",
       "      <th>14</th>\n",
       "      <td>5</td>\n",
       "      <td>hinge</td>\n",
       "      <td>0.912660</td>\n",
       "      <td>1.291849</td>\n",
       "    </tr>\n",
       "    <tr>\n",
       "      <th>9</th>\n",
       "      <td>4</td>\n",
       "      <td>accuracy</td>\n",
       "      <td>0.999770</td>\n",
       "      <td>0.662800</td>\n",
       "    </tr>\n",
       "    <tr>\n",
       "      <th>10</th>\n",
       "      <td>4</td>\n",
       "      <td>mae</td>\n",
       "      <td>1.014952</td>\n",
       "      <td>4.838876</td>\n",
       "    </tr>\n",
       "    <tr>\n",
       "      <th>11</th>\n",
       "      <td>4</td>\n",
       "      <td>hinge</td>\n",
       "      <td>1.044450</td>\n",
       "      <td>3.203724</td>\n",
       "    </tr>\n",
       "    <tr>\n",
       "      <th>3</th>\n",
       "      <td>2</td>\n",
       "      <td>accuracy</td>\n",
       "      <td>1.304439</td>\n",
       "      <td>0.657500</td>\n",
       "    </tr>\n",
       "    <tr>\n",
       "      <th>8</th>\n",
       "      <td>3</td>\n",
       "      <td>hinge</td>\n",
       "      <td>1.932547</td>\n",
       "      <td>8.137825</td>\n",
       "    </tr>\n",
       "    <tr>\n",
       "      <th>1</th>\n",
       "      <td>1</td>\n",
       "      <td>mae</td>\n",
       "      <td>2.254335</td>\n",
       "      <td>6.343235</td>\n",
       "    </tr>\n",
       "    <tr>\n",
       "      <th>0</th>\n",
       "      <td>1</td>\n",
       "      <td>accuracy</td>\n",
       "      <td>2.268320</td>\n",
       "      <td>0.612500</td>\n",
       "    </tr>\n",
       "    <tr>\n",
       "      <th>4</th>\n",
       "      <td>2</td>\n",
       "      <td>mae</td>\n",
       "      <td>2.301670</td>\n",
       "      <td>6.889469</td>\n",
       "    </tr>\n",
       "    <tr>\n",
       "      <th>2</th>\n",
       "      <td>1</td>\n",
       "      <td>hinge</td>\n",
       "      <td>2.302361</td>\n",
       "      <td>9.989584</td>\n",
       "    </tr>\n",
       "    <tr>\n",
       "      <th>12</th>\n",
       "      <td>5</td>\n",
       "      <td>accuracy</td>\n",
       "      <td>2.303250</td>\n",
       "      <td>0.101400</td>\n",
       "    </tr>\n",
       "    <tr>\n",
       "      <th>7</th>\n",
       "      <td>3</td>\n",
       "      <td>mae</td>\n",
       "      <td>2.303494</td>\n",
       "      <td>6.964190</td>\n",
       "    </tr>\n",
       "    <tr>\n",
       "      <th>6</th>\n",
       "      <td>3</td>\n",
       "      <td>accuracy</td>\n",
       "      <td>2.303670</td>\n",
       "      <td>0.429400</td>\n",
       "    </tr>\n",
       "    <tr>\n",
       "      <th>13</th>\n",
       "      <td>5</td>\n",
       "      <td>mae</td>\n",
       "      <td>2.303744</td>\n",
       "      <td>4.967848</td>\n",
       "    </tr>\n",
       "    <tr>\n",
       "      <th>5</th>\n",
       "      <td>2</td>\n",
       "      <td>hinge</td>\n",
       "      <td>2.305794</td>\n",
       "      <td>10.479982</td>\n",
       "    </tr>\n",
       "  </tbody>\n",
       "</table>\n",
       "</div>"
      ],
      "text/plain": [
       "    model   metrics  loss_err        acc\n",
       "14      5     hinge  0.912660   1.291849\n",
       "9       4  accuracy  0.999770   0.662800\n",
       "10      4       mae  1.014952   4.838876\n",
       "11      4     hinge  1.044450   3.203724\n",
       "3       2  accuracy  1.304439   0.657500\n",
       "8       3     hinge  1.932547   8.137825\n",
       "1       1       mae  2.254335   6.343235\n",
       "0       1  accuracy  2.268320   0.612500\n",
       "4       2       mae  2.301670   6.889469\n",
       "2       1     hinge  2.302361   9.989584\n",
       "12      5  accuracy  2.303250   0.101400\n",
       "7       3       mae  2.303494   6.964190\n",
       "6       3  accuracy  2.303670   0.429400\n",
       "13      5       mae  2.303744   4.967848\n",
       "5       2     hinge  2.305794  10.479982"
      ]
     },
     "execution_count": 46,
     "metadata": {},
     "output_type": "execute_result"
    }
   ],
   "source": [
    "df_results.sort_values('loss_err', axis=0, ascending=True)"
   ]
  },
  {
   "cell_type": "markdown",
   "id": "54214911",
   "metadata": {},
   "source": [
    "У всех метрик разные изменения, так что сравнивать их между собой тяжело. Поэтому среди полученных данных будет гадание на кофейной гуще. И выбор падает на `mae`"
   ]
  },
  {
   "cell_type": "markdown",
   "id": "93b591d0",
   "metadata": {},
   "source": [
    "Теперь проверка функции активации скрытых слоев."
   ]
  },
  {
   "cell_type": "code",
   "execution_count": 47,
   "id": "870f1853",
   "metadata": {},
   "outputs": [
    {
     "name": "stdout",
     "output_type": "stream",
     "text": [
      "313/313 [==============================] - 1s 4ms/step - loss: 2.2918 - mae: 6.0749\n",
      "test loss, test acc: [2.291768789291382, 6.074915885925293] activation_layers =  relu\n",
      "313/313 [==============================] - 1s 4ms/step - loss: 2.3021 - mae: 6.4514\n",
      "test loss, test acc: [2.302125930786133, 6.451361656188965] activation_layers =  elu\n",
      "313/313 [==============================] - 2s 5ms/step - loss: 1.2518 - mae: 4.8493\n",
      "test loss, test acc: [1.251765489578247, 4.849260330200195] activation_layers =  selu\n",
      "313/313 [==============================] - 1s 4ms/step - loss: 2.2108 - mae: 6.5372\n",
      "test loss, test acc: [2.210831642150879, 6.537186622619629] activation_layers =  relu\n",
      "313/313 [==============================] - 1s 5ms/step - loss: 2.2349 - mae: 6.7434\n",
      "test loss, test acc: [2.2349276542663574, 6.743432998657227] activation_layers =  elu\n",
      "313/313 [==============================] - 1s 4ms/step - loss: 2.3021 - mae: 6.5817\n",
      "test loss, test acc: [2.3021304607391357, 6.581699848175049] activation_layers =  selu\n",
      "313/313 [==============================] - 1s 4ms/step - loss: 1.8472 - mae: 5.6423\n",
      "test loss, test acc: [1.847245454788208, 5.642293930053711] activation_layers =  relu\n",
      "313/313 [==============================] - 1s 4ms/step - loss: 1.3335 - mae: 4.7335\n",
      "test loss, test acc: [1.3334811925888062, 4.733470439910889] activation_layers =  elu\n",
      "313/313 [==============================] - 1s 4ms/step - loss: 2.6765 - mae: 5.7116\n",
      "test loss, test acc: [2.6765477657318115, 5.711586952209473] activation_layers =  selu\n",
      "313/313 [==============================] - 1s 4ms/step - loss: 1.0140 - mae: 4.6996\n",
      "test loss, test acc: [1.014044165611267, 4.69963264465332] activation_layers =  relu\n",
      "313/313 [==============================] - 1s 4ms/step - loss: 1.0472 - mae: 4.9701\n",
      "test loss, test acc: [1.0471501350402832, 4.9700517654418945] activation_layers =  elu\n",
      "313/313 [==============================] - 1s 5ms/step - loss: 1.3057 - mae: 4.8712\n",
      "test loss, test acc: [1.3057332038879395, 4.871172904968262] activation_layers =  selu\n",
      "313/313 [==============================] - 2s 5ms/step - loss: 0.8435 - mae: 4.5659\n",
      "test loss, test acc: [0.843484103679657, 4.565867900848389] activation_layers =  relu\n",
      "313/313 [==============================] - 2s 5ms/step - loss: 1.2030 - mae: 4.8590\n",
      "test loss, test acc: [1.2029566764831543, 4.8590407371521] activation_layers =  elu\n",
      "313/313 [==============================] - 2s 6ms/step - loss: 1.0385 - mae: 4.9824\n",
      "test loss, test acc: [1.0384855270385742, 4.982367515563965] activation_layers =  selu\n",
      "CPU times: user 1min 5s, sys: 15 s, total: 1min 20s\n",
      "Wall time: 1min 7s\n"
     ]
    },
    {
     "data": {
      "text/html": [
       "<div>\n",
       "<style scoped>\n",
       "    .dataframe tbody tr th:only-of-type {\n",
       "        vertical-align: middle;\n",
       "    }\n",
       "\n",
       "    .dataframe tbody tr th {\n",
       "        vertical-align: top;\n",
       "    }\n",
       "\n",
       "    .dataframe thead th {\n",
       "        text-align: right;\n",
       "    }\n",
       "</style>\n",
       "<table border=\"1\" class=\"dataframe\">\n",
       "  <thead>\n",
       "    <tr style=\"text-align: right;\">\n",
       "      <th></th>\n",
       "      <th>model</th>\n",
       "      <th>activation_layers</th>\n",
       "      <th>loss_err</th>\n",
       "      <th>acc</th>\n",
       "    </tr>\n",
       "  </thead>\n",
       "  <tbody>\n",
       "    <tr>\n",
       "      <th>12</th>\n",
       "      <td>5</td>\n",
       "      <td>relu</td>\n",
       "      <td>0.843484</td>\n",
       "      <td>4.565868</td>\n",
       "    </tr>\n",
       "    <tr>\n",
       "      <th>9</th>\n",
       "      <td>4</td>\n",
       "      <td>relu</td>\n",
       "      <td>1.014044</td>\n",
       "      <td>4.699633</td>\n",
       "    </tr>\n",
       "    <tr>\n",
       "      <th>7</th>\n",
       "      <td>3</td>\n",
       "      <td>elu</td>\n",
       "      <td>1.333481</td>\n",
       "      <td>4.733470</td>\n",
       "    </tr>\n",
       "    <tr>\n",
       "      <th>2</th>\n",
       "      <td>1</td>\n",
       "      <td>selu</td>\n",
       "      <td>1.251765</td>\n",
       "      <td>4.849260</td>\n",
       "    </tr>\n",
       "    <tr>\n",
       "      <th>13</th>\n",
       "      <td>5</td>\n",
       "      <td>elu</td>\n",
       "      <td>1.202957</td>\n",
       "      <td>4.859041</td>\n",
       "    </tr>\n",
       "    <tr>\n",
       "      <th>11</th>\n",
       "      <td>4</td>\n",
       "      <td>selu</td>\n",
       "      <td>1.305733</td>\n",
       "      <td>4.871173</td>\n",
       "    </tr>\n",
       "    <tr>\n",
       "      <th>10</th>\n",
       "      <td>4</td>\n",
       "      <td>elu</td>\n",
       "      <td>1.047150</td>\n",
       "      <td>4.970052</td>\n",
       "    </tr>\n",
       "    <tr>\n",
       "      <th>14</th>\n",
       "      <td>5</td>\n",
       "      <td>selu</td>\n",
       "      <td>1.038486</td>\n",
       "      <td>4.982368</td>\n",
       "    </tr>\n",
       "    <tr>\n",
       "      <th>6</th>\n",
       "      <td>3</td>\n",
       "      <td>relu</td>\n",
       "      <td>1.847245</td>\n",
       "      <td>5.642294</td>\n",
       "    </tr>\n",
       "    <tr>\n",
       "      <th>8</th>\n",
       "      <td>3</td>\n",
       "      <td>selu</td>\n",
       "      <td>2.676548</td>\n",
       "      <td>5.711587</td>\n",
       "    </tr>\n",
       "    <tr>\n",
       "      <th>0</th>\n",
       "      <td>1</td>\n",
       "      <td>relu</td>\n",
       "      <td>2.291769</td>\n",
       "      <td>6.074916</td>\n",
       "    </tr>\n",
       "    <tr>\n",
       "      <th>1</th>\n",
       "      <td>1</td>\n",
       "      <td>elu</td>\n",
       "      <td>2.302126</td>\n",
       "      <td>6.451362</td>\n",
       "    </tr>\n",
       "    <tr>\n",
       "      <th>3</th>\n",
       "      <td>2</td>\n",
       "      <td>relu</td>\n",
       "      <td>2.210832</td>\n",
       "      <td>6.537187</td>\n",
       "    </tr>\n",
       "    <tr>\n",
       "      <th>5</th>\n",
       "      <td>2</td>\n",
       "      <td>selu</td>\n",
       "      <td>2.302130</td>\n",
       "      <td>6.581700</td>\n",
       "    </tr>\n",
       "    <tr>\n",
       "      <th>4</th>\n",
       "      <td>2</td>\n",
       "      <td>elu</td>\n",
       "      <td>2.234928</td>\n",
       "      <td>6.743433</td>\n",
       "    </tr>\n",
       "  </tbody>\n",
       "</table>\n",
       "</div>"
      ],
      "text/plain": [
       "    model activation_layers  loss_err       acc\n",
       "12      5              relu  0.843484  4.565868\n",
       "9       4              relu  1.014044  4.699633\n",
       "7       3               elu  1.333481  4.733470\n",
       "2       1              selu  1.251765  4.849260\n",
       "13      5               elu  1.202957  4.859041\n",
       "11      4              selu  1.305733  4.871173\n",
       "10      4               elu  1.047150  4.970052\n",
       "14      5              selu  1.038486  4.982368\n",
       "6       3              relu  1.847245  5.642294\n",
       "8       3              selu  2.676548  5.711587\n",
       "0       1              relu  2.291769  6.074916\n",
       "1       1               elu  2.302126  6.451362\n",
       "3       2              relu  2.210832  6.537187\n",
       "5       2              selu  2.302130  6.581700\n",
       "4       2               elu  2.234928  6.743433"
      ]
     },
     "execution_count": 47,
     "metadata": {},
     "output_type": "execute_result"
    }
   ],
   "source": [
    "%%time\n",
    "results_list = list()\n",
    "weight_flag = dict()\n",
    "\n",
    "for i, func_create_model in enumerate([create_model0, create_model1, create_model2, create_model3, create_model4]):\n",
    "    weight_flag[i] = False\n",
    "    for activation_layers in params_grid['activation_layers']:\n",
    "        model = func_create_model(loss='sparse_categorical_crossentropy', optimizer='RMSprop', metrics='mae',\n",
    "                                  activation_layers=activation_layers)\n",
    "        if not weight_flag[i]:\n",
    "            model.save_weights('model{}.h5'.format(i))\n",
    "            weight_flag[i] = True\n",
    "        else:\n",
    "            model.load_weights('model{}.h5'.format(i))\n",
    "\n",
    "        model.fit(X_train, y_train, epochs=3, batch_size=1024, validation_split=0.2, verbose=0)\n",
    "\n",
    "        results = model.evaluate(X_test, y_test)\n",
    "        print('test loss, test acc:', results, 'activation_layers = ', activation_layers)\n",
    "\n",
    "        # model, loss, loss_err, acc\n",
    "        results_list.append([i + 1, activation_layers, results[0], results[1]])\n",
    "\n",
    "df_results = pd.DataFrame(results_list, columns=['model', 'activation_layers', 'loss_err', 'acc'])\n",
    "df_results.sort_values('acc', axis=0, ascending=True)"
   ]
  },
  {
   "cell_type": "markdown",
   "id": "ff4d4126",
   "metadata": {},
   "source": [
    "Три запуска и три разных результата. Значит плюс/минус можно выбирать любую. Пусть будет `selu`"
   ]
  },
  {
   "cell_type": "markdown",
   "id": "14999c30",
   "metadata": {},
   "source": [
    "Посмотрим, что можно использовать на выходном слое."
   ]
  },
  {
   "cell_type": "code",
   "execution_count": 48,
   "id": "b37901a3",
   "metadata": {},
   "outputs": [
    {
     "name": "stdout",
     "output_type": "stream",
     "text": [
      "313/313 [==============================] - 1s 5ms/step - loss: 1.1683 - mae: 4.8529\n",
      "test loss, test acc: [1.1682969331741333, 4.852935791015625] activation_last =  selu\n",
      "313/313 [==============================] - 1s 5ms/step - loss: 2.3026 - mae: 5.4254\n",
      "test loss, test acc: [2.30259108543396, 5.425378322601318] activation_last =  selu\n",
      "313/313 [==============================] - 1s 4ms/step - loss: 2.2429 - mae: 6.9574\n",
      "test loss, test acc: [2.2428793907165527, 6.957401752471924] activation_last =  selu\n",
      "313/313 [==============================] - 1s 4ms/step - loss: 2.3026 - mae: 5.8281\n",
      "test loss, test acc: [2.30259108543396, 5.828081130981445] activation_last =  selu\n",
      "313/313 [==============================] - 1s 4ms/step - loss: 1.3465 - mae: 4.8289\n",
      "test loss, test acc: [1.346503496170044, 4.828935146331787] activation_last =  selu\n",
      "313/313 [==============================] - 1s 4ms/step - loss: 2.2731 - mae: 5.4960\n",
      "test loss, test acc: [2.273117780685425, 5.496011257171631] activation_last =  selu\n",
      "313/313 [==============================] - 1s 4ms/step - loss: 1.2056 - mae: 5.0268\n",
      "test loss, test acc: [1.2055951356887817, 5.026814937591553] activation_last =  selu\n",
      "313/313 [==============================] - 1s 5ms/step - loss: 0.9143 - mae: 4.7351\n",
      "test loss, test acc: [0.9142714142799377, 4.735072612762451] activation_last =  selu\n",
      "313/313 [==============================] - 2s 5ms/step - loss: 1.2791 - mae: 4.6413\n",
      "test loss, test acc: [1.2790508270263672, 4.641295909881592] activation_last =  selu\n",
      "313/313 [==============================] - 2s 5ms/step - loss: 2.3026 - mae: 5.0727\n",
      "test loss, test acc: [2.30259108543396, 5.072651386260986] activation_last =  selu\n",
      "CPU times: user 44.2 s, sys: 10.1 s, total: 54.3 s\n",
      "Wall time: 45 s\n"
     ]
    },
    {
     "data": {
      "text/html": [
       "<div>\n",
       "<style scoped>\n",
       "    .dataframe tbody tr th:only-of-type {\n",
       "        vertical-align: middle;\n",
       "    }\n",
       "\n",
       "    .dataframe tbody tr th {\n",
       "        vertical-align: top;\n",
       "    }\n",
       "\n",
       "    .dataframe thead th {\n",
       "        text-align: right;\n",
       "    }\n",
       "</style>\n",
       "<table border=\"1\" class=\"dataframe\">\n",
       "  <thead>\n",
       "    <tr style=\"text-align: right;\">\n",
       "      <th></th>\n",
       "      <th>model</th>\n",
       "      <th>activation_last</th>\n",
       "      <th>loss_err</th>\n",
       "      <th>acc</th>\n",
       "    </tr>\n",
       "  </thead>\n",
       "  <tbody>\n",
       "    <tr>\n",
       "      <th>8</th>\n",
       "      <td>5</td>\n",
       "      <td>tanh</td>\n",
       "      <td>1.279051</td>\n",
       "      <td>4.641296</td>\n",
       "    </tr>\n",
       "    <tr>\n",
       "      <th>7</th>\n",
       "      <td>4</td>\n",
       "      <td>sigmoid</td>\n",
       "      <td>0.914271</td>\n",
       "      <td>4.735073</td>\n",
       "    </tr>\n",
       "    <tr>\n",
       "      <th>4</th>\n",
       "      <td>3</td>\n",
       "      <td>tanh</td>\n",
       "      <td>1.346503</td>\n",
       "      <td>4.828935</td>\n",
       "    </tr>\n",
       "    <tr>\n",
       "      <th>0</th>\n",
       "      <td>1</td>\n",
       "      <td>tanh</td>\n",
       "      <td>1.168297</td>\n",
       "      <td>4.852936</td>\n",
       "    </tr>\n",
       "    <tr>\n",
       "      <th>6</th>\n",
       "      <td>4</td>\n",
       "      <td>tanh</td>\n",
       "      <td>1.205595</td>\n",
       "      <td>5.026815</td>\n",
       "    </tr>\n",
       "    <tr>\n",
       "      <th>9</th>\n",
       "      <td>5</td>\n",
       "      <td>sigmoid</td>\n",
       "      <td>2.302591</td>\n",
       "      <td>5.072651</td>\n",
       "    </tr>\n",
       "    <tr>\n",
       "      <th>1</th>\n",
       "      <td>1</td>\n",
       "      <td>sigmoid</td>\n",
       "      <td>2.302591</td>\n",
       "      <td>5.425378</td>\n",
       "    </tr>\n",
       "    <tr>\n",
       "      <th>5</th>\n",
       "      <td>3</td>\n",
       "      <td>sigmoid</td>\n",
       "      <td>2.273118</td>\n",
       "      <td>5.496011</td>\n",
       "    </tr>\n",
       "    <tr>\n",
       "      <th>3</th>\n",
       "      <td>2</td>\n",
       "      <td>sigmoid</td>\n",
       "      <td>2.302591</td>\n",
       "      <td>5.828081</td>\n",
       "    </tr>\n",
       "    <tr>\n",
       "      <th>2</th>\n",
       "      <td>2</td>\n",
       "      <td>tanh</td>\n",
       "      <td>2.242879</td>\n",
       "      <td>6.957402</td>\n",
       "    </tr>\n",
       "  </tbody>\n",
       "</table>\n",
       "</div>"
      ],
      "text/plain": [
       "   model activation_last  loss_err       acc\n",
       "8      5            tanh  1.279051  4.641296\n",
       "7      4         sigmoid  0.914271  4.735073\n",
       "4      3            tanh  1.346503  4.828935\n",
       "0      1            tanh  1.168297  4.852936\n",
       "6      4            tanh  1.205595  5.026815\n",
       "9      5         sigmoid  2.302591  5.072651\n",
       "1      1         sigmoid  2.302591  5.425378\n",
       "5      3         sigmoid  2.273118  5.496011\n",
       "3      2         sigmoid  2.302591  5.828081\n",
       "2      2            tanh  2.242879  6.957402"
      ]
     },
     "execution_count": 48,
     "metadata": {},
     "output_type": "execute_result"
    }
   ],
   "source": [
    "%%time\n",
    "results_list = list()\n",
    "weight_flag = dict()\n",
    "\n",
    "for i, func_create_model in enumerate([create_model0, create_model1, create_model2, create_model3, create_model4]):\n",
    "    weight_flag[i] = False\n",
    "    for activation_last in params_grid['activation_last']:\n",
    "        model = func_create_model(loss='sparse_categorical_crossentropy', optimizer='RMSprop', metrics='mae',\n",
    "                                  activation_layers='selu', activation_last=activation_last)\n",
    "        if not weight_flag[i]:\n",
    "            model.save_weights('model{}.h5'.format(i))\n",
    "            weight_flag[i] = True\n",
    "        else:\n",
    "            model.load_weights('model{}.h5'.format(i))\n",
    "\n",
    "        model.fit(X_train, y_train, epochs=3, batch_size=1024, validation_split=0.2, verbose=0)\n",
    "\n",
    "        results = model.evaluate(X_test, y_test)\n",
    "        print('test loss, test acc:', results, 'activation_last = ', activation_layers)\n",
    "\n",
    "        # model, loss, loss_err, acc\n",
    "        results_list.append([i + 1, activation_last, results[0], results[1]])\n",
    "\n",
    "df_results = pd.DataFrame(results_list, columns=['model', 'activation_last', 'loss_err', 'acc'])\n",
    "df_results.sort_values('acc', axis=0, ascending=True)"
   ]
  },
  {
   "cell_type": "markdown",
   "id": "39c3922c",
   "metadata": {},
   "source": [
    "Гиперболический тангенс победитель."
   ]
  },
  {
   "cell_type": "markdown",
   "id": "f54afb98",
   "metadata": {},
   "source": [
    "Проверим теорию, что достаточно небольшое количество итераций будет улучшать результаты с каждой итерацией на достаточно большое значение. Переобучение делать не будет, чтобы не затягивать процесс."
   ]
  },
  {
   "cell_type": "code",
   "execution_count": 49,
   "id": "5737c67e",
   "metadata": {},
   "outputs": [
    {
     "name": "stdout",
     "output_type": "stream",
     "text": [
      "313/313 [==============================] - 1s 5ms/step - loss: 1.8907 - mae: 5.5171\n",
      "test loss, test acc: [1.890744686126709, 5.517134189605713] epochs =  3\n",
      "313/313 [==============================] - 1s 5ms/step - loss: 2.2991 - mae: 6.4288\n",
      "test loss, test acc: [2.2991371154785156, 6.428822994232178] epochs =  5\n",
      "313/313 [==============================] - 1s 4ms/step - loss: 0.8994 - mae: 5.1855\n",
      "test loss, test acc: [0.8993785381317139, 5.185533046722412] epochs =  10\n",
      "313/313 [==============================] - 1s 4ms/step - loss: 1.1137 - mae: 5.2437\n",
      "test loss, test acc: [1.1137038469314575, 5.2437028884887695] epochs =  3\n",
      "313/313 [==============================] - 1s 4ms/step - loss: 1.2795 - mae: 5.1385\n",
      "test loss, test acc: [1.2794570922851562, 5.138489723205566] epochs =  5\n",
      "313/313 [==============================] - 1s 4ms/step - loss: 2.3021 - mae: 6.6614\n",
      "test loss, test acc: [2.3021304607391357, 6.6614251136779785] epochs =  10\n",
      "313/313 [==============================] - 1s 4ms/step - loss: 1.0340 - mae: 5.2669\n",
      "test loss, test acc: [1.0340458154678345, 5.266931056976318] epochs =  3\n",
      "313/313 [==============================] - 1s 3ms/step - loss: 1.5052 - mae: 5.7324\n",
      "test loss, test acc: [1.5052076578140259, 5.732395172119141] epochs =  5\n",
      "313/313 [==============================] - 1s 3ms/step - loss: 2.3026 - mae: 7.0923\n",
      "test loss, test acc: [2.30259108543396, 7.092287540435791] epochs =  10\n",
      "313/313 [==============================] - 1s 4ms/step - loss: 1.2431 - mae: 4.9106\n",
      "test loss, test acc: [1.243133544921875, 4.910577297210693] epochs =  3\n",
      "313/313 [==============================] - 1s 4ms/step - loss: 1.1365 - mae: 5.1828\n",
      "test loss, test acc: [1.1365472078323364, 5.1827569007873535] epochs =  5\n",
      "313/313 [==============================] - 1s 4ms/step - loss: 1.0750 - mae: 5.2456\n",
      "test loss, test acc: [1.0749553442001343, 5.245606899261475] epochs =  10\n",
      "313/313 [==============================] - 1s 5ms/step - loss: 1.1469 - mae: 4.8206\n",
      "test loss, test acc: [1.1469449996948242, 4.820618629455566] epochs =  3\n",
      "313/313 [==============================] - 2s 6ms/step - loss: 1.0867 - mae: 4.7410\n",
      "test loss, test acc: [1.086733341217041, 4.7410125732421875] epochs =  5\n",
      "313/313 [==============================] - 1s 4ms/step - loss: 1.7095 - mae: 4.7957\n",
      "test loss, test acc: [1.7095210552215576, 4.795679569244385] epochs =  10\n",
      "CPU times: user 1min 23s, sys: 21.2 s, total: 1min 44s\n",
      "Wall time: 1min 23s\n"
     ]
    },
    {
     "data": {
      "text/html": [
       "<div>\n",
       "<style scoped>\n",
       "    .dataframe tbody tr th:only-of-type {\n",
       "        vertical-align: middle;\n",
       "    }\n",
       "\n",
       "    .dataframe tbody tr th {\n",
       "        vertical-align: top;\n",
       "    }\n",
       "\n",
       "    .dataframe thead th {\n",
       "        text-align: right;\n",
       "    }\n",
       "</style>\n",
       "<table border=\"1\" class=\"dataframe\">\n",
       "  <thead>\n",
       "    <tr style=\"text-align: right;\">\n",
       "      <th></th>\n",
       "      <th>model</th>\n",
       "      <th>epochs</th>\n",
       "      <th>loss_err</th>\n",
       "      <th>acc</th>\n",
       "    </tr>\n",
       "  </thead>\n",
       "  <tbody>\n",
       "    <tr>\n",
       "      <th>13</th>\n",
       "      <td>5</td>\n",
       "      <td>5</td>\n",
       "      <td>1.086733</td>\n",
       "      <td>4.741013</td>\n",
       "    </tr>\n",
       "    <tr>\n",
       "      <th>14</th>\n",
       "      <td>5</td>\n",
       "      <td>10</td>\n",
       "      <td>1.709521</td>\n",
       "      <td>4.795680</td>\n",
       "    </tr>\n",
       "    <tr>\n",
       "      <th>12</th>\n",
       "      <td>5</td>\n",
       "      <td>3</td>\n",
       "      <td>1.146945</td>\n",
       "      <td>4.820619</td>\n",
       "    </tr>\n",
       "    <tr>\n",
       "      <th>9</th>\n",
       "      <td>4</td>\n",
       "      <td>3</td>\n",
       "      <td>1.243134</td>\n",
       "      <td>4.910577</td>\n",
       "    </tr>\n",
       "    <tr>\n",
       "      <th>4</th>\n",
       "      <td>2</td>\n",
       "      <td>5</td>\n",
       "      <td>1.279457</td>\n",
       "      <td>5.138490</td>\n",
       "    </tr>\n",
       "    <tr>\n",
       "      <th>10</th>\n",
       "      <td>4</td>\n",
       "      <td>5</td>\n",
       "      <td>1.136547</td>\n",
       "      <td>5.182757</td>\n",
       "    </tr>\n",
       "    <tr>\n",
       "      <th>2</th>\n",
       "      <td>1</td>\n",
       "      <td>10</td>\n",
       "      <td>0.899379</td>\n",
       "      <td>5.185533</td>\n",
       "    </tr>\n",
       "    <tr>\n",
       "      <th>3</th>\n",
       "      <td>2</td>\n",
       "      <td>3</td>\n",
       "      <td>1.113704</td>\n",
       "      <td>5.243703</td>\n",
       "    </tr>\n",
       "    <tr>\n",
       "      <th>11</th>\n",
       "      <td>4</td>\n",
       "      <td>10</td>\n",
       "      <td>1.074955</td>\n",
       "      <td>5.245607</td>\n",
       "    </tr>\n",
       "    <tr>\n",
       "      <th>6</th>\n",
       "      <td>3</td>\n",
       "      <td>3</td>\n",
       "      <td>1.034046</td>\n",
       "      <td>5.266931</td>\n",
       "    </tr>\n",
       "    <tr>\n",
       "      <th>0</th>\n",
       "      <td>1</td>\n",
       "      <td>3</td>\n",
       "      <td>1.890745</td>\n",
       "      <td>5.517134</td>\n",
       "    </tr>\n",
       "    <tr>\n",
       "      <th>7</th>\n",
       "      <td>3</td>\n",
       "      <td>5</td>\n",
       "      <td>1.505208</td>\n",
       "      <td>5.732395</td>\n",
       "    </tr>\n",
       "    <tr>\n",
       "      <th>1</th>\n",
       "      <td>1</td>\n",
       "      <td>5</td>\n",
       "      <td>2.299137</td>\n",
       "      <td>6.428823</td>\n",
       "    </tr>\n",
       "    <tr>\n",
       "      <th>5</th>\n",
       "      <td>2</td>\n",
       "      <td>10</td>\n",
       "      <td>2.302130</td>\n",
       "      <td>6.661425</td>\n",
       "    </tr>\n",
       "    <tr>\n",
       "      <th>8</th>\n",
       "      <td>3</td>\n",
       "      <td>10</td>\n",
       "      <td>2.302591</td>\n",
       "      <td>7.092288</td>\n",
       "    </tr>\n",
       "  </tbody>\n",
       "</table>\n",
       "</div>"
      ],
      "text/plain": [
       "    model  epochs  loss_err       acc\n",
       "13      5       5  1.086733  4.741013\n",
       "14      5      10  1.709521  4.795680\n",
       "12      5       3  1.146945  4.820619\n",
       "9       4       3  1.243134  4.910577\n",
       "4       2       5  1.279457  5.138490\n",
       "10      4       5  1.136547  5.182757\n",
       "2       1      10  0.899379  5.185533\n",
       "3       2       3  1.113704  5.243703\n",
       "11      4      10  1.074955  5.245607\n",
       "6       3       3  1.034046  5.266931\n",
       "0       1       3  1.890745  5.517134\n",
       "7       3       5  1.505208  5.732395\n",
       "1       1       5  2.299137  6.428823\n",
       "5       2      10  2.302130  6.661425\n",
       "8       3      10  2.302591  7.092288"
      ]
     },
     "execution_count": 49,
     "metadata": {},
     "output_type": "execute_result"
    }
   ],
   "source": [
    "%%time\n",
    "results_list = list()\n",
    "weight_flag = dict()\n",
    "\n",
    "for i, func_create_model in enumerate([create_model0, create_model1, create_model2, create_model3, create_model4]):\n",
    "    weight_flag[i] = False\n",
    "    for epochs in params_grid['epochs']:\n",
    "        model = func_create_model(loss='sparse_categorical_crossentropy', optimizer='RMSprop', metrics='mae',\n",
    "                                  activation_layers='selu', activation_last='tanh')\n",
    "        if not weight_flag[i]:\n",
    "            model.save_weights('model{}.h5'.format(i))\n",
    "            weight_flag[i] = True\n",
    "        else:\n",
    "            model.load_weights('model{}.h5'.format(i))\n",
    "\n",
    "        model.fit(X_train, y_train, epochs=epochs, batch_size=1024, validation_split=0.2, verbose=0)\n",
    "\n",
    "        results = model.evaluate(X_test, y_test)\n",
    "        print('test loss, test acc:', results, 'epochs = ', epochs)\n",
    "\n",
    "        # model, loss, loss_err, acc\n",
    "        results_list.append([i + 1, epochs, results[0], results[1]])\n",
    "\n",
    "df_results = pd.DataFrame(results_list, columns=['model', 'epochs', 'loss_err', 'acc'])\n",
    "df_results.sort_values('acc', axis=0, ascending=True)"
   ]
  },
  {
   "cell_type": "code",
   "execution_count": 50,
   "id": "4a56ee6a",
   "metadata": {},
   "outputs": [
    {
     "data": {
      "text/html": [
       "<div>\n",
       "<style scoped>\n",
       "    .dataframe tbody tr th:only-of-type {\n",
       "        vertical-align: middle;\n",
       "    }\n",
       "\n",
       "    .dataframe tbody tr th {\n",
       "        vertical-align: top;\n",
       "    }\n",
       "\n",
       "    .dataframe thead th {\n",
       "        text-align: right;\n",
       "    }\n",
       "</style>\n",
       "<table border=\"1\" class=\"dataframe\">\n",
       "  <thead>\n",
       "    <tr style=\"text-align: right;\">\n",
       "      <th></th>\n",
       "      <th>model</th>\n",
       "      <th>epochs</th>\n",
       "      <th>loss_err</th>\n",
       "      <th>acc</th>\n",
       "    </tr>\n",
       "  </thead>\n",
       "  <tbody>\n",
       "    <tr>\n",
       "      <th>0</th>\n",
       "      <td>1</td>\n",
       "      <td>3</td>\n",
       "      <td>1.890745</td>\n",
       "      <td>5.517134</td>\n",
       "    </tr>\n",
       "    <tr>\n",
       "      <th>1</th>\n",
       "      <td>1</td>\n",
       "      <td>5</td>\n",
       "      <td>2.299137</td>\n",
       "      <td>6.428823</td>\n",
       "    </tr>\n",
       "    <tr>\n",
       "      <th>2</th>\n",
       "      <td>1</td>\n",
       "      <td>10</td>\n",
       "      <td>0.899379</td>\n",
       "      <td>5.185533</td>\n",
       "    </tr>\n",
       "    <tr>\n",
       "      <th>3</th>\n",
       "      <td>2</td>\n",
       "      <td>3</td>\n",
       "      <td>1.113704</td>\n",
       "      <td>5.243703</td>\n",
       "    </tr>\n",
       "    <tr>\n",
       "      <th>4</th>\n",
       "      <td>2</td>\n",
       "      <td>5</td>\n",
       "      <td>1.279457</td>\n",
       "      <td>5.138490</td>\n",
       "    </tr>\n",
       "    <tr>\n",
       "      <th>5</th>\n",
       "      <td>2</td>\n",
       "      <td>10</td>\n",
       "      <td>2.302130</td>\n",
       "      <td>6.661425</td>\n",
       "    </tr>\n",
       "    <tr>\n",
       "      <th>6</th>\n",
       "      <td>3</td>\n",
       "      <td>3</td>\n",
       "      <td>1.034046</td>\n",
       "      <td>5.266931</td>\n",
       "    </tr>\n",
       "    <tr>\n",
       "      <th>7</th>\n",
       "      <td>3</td>\n",
       "      <td>5</td>\n",
       "      <td>1.505208</td>\n",
       "      <td>5.732395</td>\n",
       "    </tr>\n",
       "    <tr>\n",
       "      <th>8</th>\n",
       "      <td>3</td>\n",
       "      <td>10</td>\n",
       "      <td>2.302591</td>\n",
       "      <td>7.092288</td>\n",
       "    </tr>\n",
       "    <tr>\n",
       "      <th>9</th>\n",
       "      <td>4</td>\n",
       "      <td>3</td>\n",
       "      <td>1.243134</td>\n",
       "      <td>4.910577</td>\n",
       "    </tr>\n",
       "    <tr>\n",
       "      <th>10</th>\n",
       "      <td>4</td>\n",
       "      <td>5</td>\n",
       "      <td>1.136547</td>\n",
       "      <td>5.182757</td>\n",
       "    </tr>\n",
       "    <tr>\n",
       "      <th>11</th>\n",
       "      <td>4</td>\n",
       "      <td>10</td>\n",
       "      <td>1.074955</td>\n",
       "      <td>5.245607</td>\n",
       "    </tr>\n",
       "    <tr>\n",
       "      <th>12</th>\n",
       "      <td>5</td>\n",
       "      <td>3</td>\n",
       "      <td>1.146945</td>\n",
       "      <td>4.820619</td>\n",
       "    </tr>\n",
       "    <tr>\n",
       "      <th>13</th>\n",
       "      <td>5</td>\n",
       "      <td>5</td>\n",
       "      <td>1.086733</td>\n",
       "      <td>4.741013</td>\n",
       "    </tr>\n",
       "    <tr>\n",
       "      <th>14</th>\n",
       "      <td>5</td>\n",
       "      <td>10</td>\n",
       "      <td>1.709521</td>\n",
       "      <td>4.795680</td>\n",
       "    </tr>\n",
       "  </tbody>\n",
       "</table>\n",
       "</div>"
      ],
      "text/plain": [
       "    model  epochs  loss_err       acc\n",
       "0       1       3  1.890745  5.517134\n",
       "1       1       5  2.299137  6.428823\n",
       "2       1      10  0.899379  5.185533\n",
       "3       2       3  1.113704  5.243703\n",
       "4       2       5  1.279457  5.138490\n",
       "5       2      10  2.302130  6.661425\n",
       "6       3       3  1.034046  5.266931\n",
       "7       3       5  1.505208  5.732395\n",
       "8       3      10  2.302591  7.092288\n",
       "9       4       3  1.243134  4.910577\n",
       "10      4       5  1.136547  5.182757\n",
       "11      4      10  1.074955  5.245607\n",
       "12      5       3  1.146945  4.820619\n",
       "13      5       5  1.086733  4.741013\n",
       "14      5      10  1.709521  4.795680"
      ]
     },
     "execution_count": 50,
     "metadata": {},
     "output_type": "execute_result"
    }
   ],
   "source": [
    "df_results.sort_values('model', axis=0, ascending=True)"
   ]
  },
  {
   "cell_type": "markdown",
   "id": "444a6998",
   "metadata": {},
   "source": [
    "Согласно теории: \"MAE : метрика, которая сообщает нам среднюю абсолютную разницу между прогнозируемыми значениями и фактическими значениями в наборе данных. Чем ниже MAE, тем лучше модель соответствует набору данных.\". Получается, что 3 эпохи дают лучший результат, а дальше похоже наступает переобучение. Пока не знаю, как интерпретировать полученный результат."
   ]
  },
  {
   "cell_type": "markdown",
   "id": "82ffde77",
   "metadata": {},
   "source": [
    "Итак, победитель определён. Четвёртая и пятая сети показали наилучшие результаты.\n",
    "\n",
    "Теперь можно попробовать подобрать более точные параметры в функциях активации и потерь с помощью tensorflow."
   ]
  },
  {
   "cell_type": "code",
   "execution_count": 51,
   "id": "4919f47e",
   "metadata": {},
   "outputs": [],
   "source": [
    "params_grid2 = {\n",
    "    'from_logits': [True, False],\n",
    "    'reduction': [tf.keras.losses.Reduction.NONE, tf.keras.losses.Reduction.SUM, tf.keras.losses.Reduction.SUM_OVER_BATCH_SIZE]\n",
    "}"
   ]
  },
  {
   "cell_type": "markdown",
   "id": "2228f4d8",
   "metadata": {},
   "source": [
    "Т.к. вычисления идут на видеоадаптере, то продолжаем перечирать с помощью цикла, чтобы не выйти за пределы памяти."
   ]
  },
  {
   "cell_type": "code",
   "execution_count": 52,
   "id": "992910b3",
   "metadata": {},
   "outputs": [],
   "source": [
    "def create_model3_(loss='sparse_categorical_crossentropy', optimizer='RMSprop', metrics='mae',\n",
    "                                  activation_layers='selu', activation_last='tanh',\n",
    "                  from_logits=True, reduction=tf.keras.losses.Reduction.AUTO):\n",
    "    model = keras.Sequential([\n",
    "        keras.layers.Flatten(input_shape=(28, 28)),\n",
    "        keras.layers.Dense(128, activation=activation_layers),\n",
    "        keras.layers.Dropout(0.3),\n",
    "        keras.layers.Dense(64, activation=activation_layers),\n",
    "        keras.layers.Dropout(0.3),\n",
    "        keras.layers.Dense(32, activation=activation_last),\n",
    "        keras.layers.Dense(10)\n",
    "    ])\n",
    "    \n",
    "    model.compile(loss=tf.keras.losses.SparseCategoricalCrossentropy(from_logits=from_logits, reduction=reduction),\n",
    "                  optimizer=optimizer, metrics=metrics)\n",
    "    \n",
    "    return model"
   ]
  },
  {
   "cell_type": "code",
   "execution_count": 53,
   "id": "b507d784",
   "metadata": {},
   "outputs": [],
   "source": [
    "def create_model4_(loss='sparse_categorical_crossentropy', optimizer='RMSprop', metrics='mae',\n",
    "                                  activation_layers='selu', activation_last='tanh',\n",
    "                  from_logits=True, reduction=tf.keras.losses.Reduction.AUTO):\n",
    "    model = keras.Sequential([\n",
    "        keras.layers.Flatten(input_shape=(28, 28)),\n",
    "        keras.layers.Dense(128, activation=activation_layers),\n",
    "        keras.layers.Dense(64, activation=activation_layers),\n",
    "        keras.layers.Dense(64, activation=activation_layers),\n",
    "        keras.layers.Dense(64, activation=activation_layers),\n",
    "        keras.layers.Dense(64, activation=activation_layers),\n",
    "        keras.layers.Dense(64, activation=activation_layers),\n",
    "        keras.layers.Dense(64, activation=activation_layers),\n",
    "        keras.layers.Dense(32, activation=activation_last),\n",
    "        keras.layers.Dense(10)\n",
    "    ])\n",
    "    \n",
    "    model.compile(loss=tf.keras.losses.SparseCategoricalCrossentropy(from_logits=from_logits, reduction=reduction),\n",
    "                  optimizer=optimizer, metrics=metrics)\n",
    "    \n",
    "    return model"
   ]
  },
  {
   "cell_type": "code",
   "execution_count": 54,
   "id": "1ef43c97",
   "metadata": {},
   "outputs": [
    {
     "name": "stdout",
     "output_type": "stream",
     "text": [
      "313/313 [==============================] - 1s 4ms/step - loss: 0.5667 - mae: 4.9200\n",
      "test loss, test acc: [0.566693902015686, 4.919970512390137] from_logits =  True\n",
      "313/313 [==============================] - 1s 4ms/step - loss: 1.1990 - mae: 4.7716\n",
      "test loss, test acc: [1.1989678144454956, 4.7715630531311035] from_logits =  False\n",
      "313/313 [==============================] - 1s 4ms/step - loss: 0.6159 - mae: 4.6663\n",
      "test loss, test acc: [0.6159404516220093, 4.666321754455566] from_logits =  True\n",
      "313/313 [==============================] - 1s 4ms/step - loss: 1.5602 - mae: 4.4475\n",
      "test loss, test acc: [1.5602138042449951, 4.44750452041626] from_logits =  False\n",
      "CPU times: user 18.6 s, sys: 4.12 s, total: 22.7 s\n",
      "Wall time: 18.7 s\n"
     ]
    },
    {
     "data": {
      "text/html": [
       "<div>\n",
       "<style scoped>\n",
       "    .dataframe tbody tr th:only-of-type {\n",
       "        vertical-align: middle;\n",
       "    }\n",
       "\n",
       "    .dataframe tbody tr th {\n",
       "        vertical-align: top;\n",
       "    }\n",
       "\n",
       "    .dataframe thead th {\n",
       "        text-align: right;\n",
       "    }\n",
       "</style>\n",
       "<table border=\"1\" class=\"dataframe\">\n",
       "  <thead>\n",
       "    <tr style=\"text-align: right;\">\n",
       "      <th></th>\n",
       "      <th>model</th>\n",
       "      <th>from_logits</th>\n",
       "      <th>loss_err</th>\n",
       "      <th>acc</th>\n",
       "    </tr>\n",
       "  </thead>\n",
       "  <tbody>\n",
       "    <tr>\n",
       "      <th>3</th>\n",
       "      <td>5</td>\n",
       "      <td>False</td>\n",
       "      <td>1.560214</td>\n",
       "      <td>4.447505</td>\n",
       "    </tr>\n",
       "    <tr>\n",
       "      <th>2</th>\n",
       "      <td>5</td>\n",
       "      <td>True</td>\n",
       "      <td>0.615940</td>\n",
       "      <td>4.666322</td>\n",
       "    </tr>\n",
       "    <tr>\n",
       "      <th>1</th>\n",
       "      <td>4</td>\n",
       "      <td>False</td>\n",
       "      <td>1.198968</td>\n",
       "      <td>4.771563</td>\n",
       "    </tr>\n",
       "    <tr>\n",
       "      <th>0</th>\n",
       "      <td>4</td>\n",
       "      <td>True</td>\n",
       "      <td>0.566694</td>\n",
       "      <td>4.919971</td>\n",
       "    </tr>\n",
       "  </tbody>\n",
       "</table>\n",
       "</div>"
      ],
      "text/plain": [
       "   model  from_logits  loss_err       acc\n",
       "3      5        False  1.560214  4.447505\n",
       "2      5         True  0.615940  4.666322\n",
       "1      4        False  1.198968  4.771563\n",
       "0      4         True  0.566694  4.919971"
      ]
     },
     "execution_count": 54,
     "metadata": {},
     "output_type": "execute_result"
    }
   ],
   "source": [
    "%%time\n",
    "results_list = list()\n",
    "weight_flag = dict()\n",
    "\n",
    "for i, func_create_model in enumerate([create_model3_, create_model4_]):\n",
    "    weight_flag[i] = False\n",
    "    for from_logits in params_grid2['from_logits']:\n",
    "        model = func_create_model(from_logits=from_logits)\n",
    "        if not weight_flag[i]:\n",
    "            model.save_weights('model{}.h5'.format(i))\n",
    "            weight_flag[i] = True\n",
    "        else:\n",
    "            model.load_weights('model{}.h5'.format(i))\n",
    "\n",
    "        model.fit(X_train, y_train, epochs=3, batch_size=1024, validation_split=0.2, verbose=0)\n",
    "\n",
    "        results = model.evaluate(X_test, y_test)\n",
    "        print('test loss, test acc:', results, 'from_logits = ', from_logits)\n",
    "\n",
    "        # model, loss, loss_err, acc\n",
    "        results_list.append([i + 4, from_logits, results[0], results[1]])\n",
    "\n",
    "df_results = pd.DataFrame(results_list, columns=['model', 'from_logits', 'loss_err', 'acc'])\n",
    "df_results.sort_values('acc', axis=0, ascending=True)"
   ]
  },
  {
   "cell_type": "code",
   "execution_count": 55,
   "id": "a20a0d48",
   "metadata": {},
   "outputs": [
    {
     "name": "stdout",
     "output_type": "stream",
     "text": [
      "313/313 [==============================] - 1s 4ms/step - loss: 1.2088 - mae: 4.9560\n",
      "test loss, test acc: [1.2087987661361694, 4.955967903137207] reduction =  none\n",
      "313/313 [==============================] - 1s 4ms/step - loss: 42.0814 - mae: 4.8187\n",
      "test loss, test acc: [42.08137893676758, 4.8187031745910645] reduction =  sum\n",
      "313/313 [==============================] - 1s 4ms/step - loss: 1.3425 - mae: 4.8918\n",
      "test loss, test acc: [1.3424879312515259, 4.891799449920654] reduction =  sum_over_batch_size\n",
      "313/313 [==============================] - 2s 5ms/step - loss: 1.4887 - mae: 4.6109\n",
      "test loss, test acc: [1.488698959350586, 4.610898017883301] reduction =  none\n",
      "313/313 [==============================] - 1s 4ms/step - loss: 43.7221 - mae: 4.9136\n",
      "test loss, test acc: [43.72213363647461, 4.913555145263672] reduction =  sum\n",
      "313/313 [==============================] - 1s 4ms/step - loss: 1.1472 - mae: 4.8611\n",
      "test loss, test acc: [1.1471823453903198, 4.861095428466797] reduction =  sum_over_batch_size\n",
      "CPU times: user 30.1 s, sys: 5.89 s, total: 36 s\n",
      "Wall time: 29.7 s\n"
     ]
    },
    {
     "data": {
      "text/html": [
       "<div>\n",
       "<style scoped>\n",
       "    .dataframe tbody tr th:only-of-type {\n",
       "        vertical-align: middle;\n",
       "    }\n",
       "\n",
       "    .dataframe tbody tr th {\n",
       "        vertical-align: top;\n",
       "    }\n",
       "\n",
       "    .dataframe thead th {\n",
       "        text-align: right;\n",
       "    }\n",
       "</style>\n",
       "<table border=\"1\" class=\"dataframe\">\n",
       "  <thead>\n",
       "    <tr style=\"text-align: right;\">\n",
       "      <th></th>\n",
       "      <th>model</th>\n",
       "      <th>reduction</th>\n",
       "      <th>loss_err</th>\n",
       "      <th>acc</th>\n",
       "    </tr>\n",
       "  </thead>\n",
       "  <tbody>\n",
       "    <tr>\n",
       "      <th>3</th>\n",
       "      <td>5</td>\n",
       "      <td>none</td>\n",
       "      <td>1.488699</td>\n",
       "      <td>4.610898</td>\n",
       "    </tr>\n",
       "    <tr>\n",
       "      <th>1</th>\n",
       "      <td>4</td>\n",
       "      <td>sum</td>\n",
       "      <td>42.081379</td>\n",
       "      <td>4.818703</td>\n",
       "    </tr>\n",
       "    <tr>\n",
       "      <th>5</th>\n",
       "      <td>5</td>\n",
       "      <td>sum_over_batch_size</td>\n",
       "      <td>1.147182</td>\n",
       "      <td>4.861095</td>\n",
       "    </tr>\n",
       "    <tr>\n",
       "      <th>2</th>\n",
       "      <td>4</td>\n",
       "      <td>sum_over_batch_size</td>\n",
       "      <td>1.342488</td>\n",
       "      <td>4.891799</td>\n",
       "    </tr>\n",
       "    <tr>\n",
       "      <th>4</th>\n",
       "      <td>5</td>\n",
       "      <td>sum</td>\n",
       "      <td>43.722134</td>\n",
       "      <td>4.913555</td>\n",
       "    </tr>\n",
       "    <tr>\n",
       "      <th>0</th>\n",
       "      <td>4</td>\n",
       "      <td>none</td>\n",
       "      <td>1.208799</td>\n",
       "      <td>4.955968</td>\n",
       "    </tr>\n",
       "  </tbody>\n",
       "</table>\n",
       "</div>"
      ],
      "text/plain": [
       "   model            reduction   loss_err       acc\n",
       "3      5                 none   1.488699  4.610898\n",
       "1      4                  sum  42.081379  4.818703\n",
       "5      5  sum_over_batch_size   1.147182  4.861095\n",
       "2      4  sum_over_batch_size   1.342488  4.891799\n",
       "4      5                  sum  43.722134  4.913555\n",
       "0      4                 none   1.208799  4.955968"
      ]
     },
     "execution_count": 55,
     "metadata": {},
     "output_type": "execute_result"
    }
   ],
   "source": [
    "%%time\n",
    "results_list = list()\n",
    "weight_flag = dict()\n",
    "\n",
    "for i, func_create_model in enumerate([create_model3_, create_model4_]):\n",
    "    weight_flag[i] = False\n",
    "    for reduction in params_grid2['reduction']:\n",
    "        model = func_create_model(from_logits=False, reduction=reduction)\n",
    "        if not weight_flag[i]:\n",
    "            model.save_weights('model{}.h5'.format(i))\n",
    "            weight_flag[i] = True\n",
    "        else:\n",
    "            model.load_weights('model{}.h5'.format(i))\n",
    "\n",
    "        model.fit(X_train, y_train, epochs=3, batch_size=1024, validation_split=0.2, verbose=0)\n",
    "\n",
    "        results = model.evaluate(X_test, y_test)\n",
    "        print('test loss, test acc:', results, 'reduction = ', reduction)\n",
    "\n",
    "        # model, loss, loss_err, acc\n",
    "        results_list.append([i + 4, reduction, results[0], results[1]])\n",
    "\n",
    "df_results = pd.DataFrame(results_list, columns=['model', 'reduction', 'loss_err', 'acc'])\n",
    "df_results.sort_values('acc', axis=0, ascending=True)"
   ]
  },
  {
   "cell_type": "markdown",
   "id": "43a6b311",
   "metadata": {},
   "source": [
    "Баш на баш."
   ]
  },
  {
   "cell_type": "markdown",
   "id": "e9139238",
   "metadata": {},
   "source": [
    "Для функции активации будем подбирать следующие параметры. Правда, возьмём relu, так у неё есть параметры."
   ]
  },
  {
   "cell_type": "code",
   "execution_count": 56,
   "id": "2afb231d",
   "metadata": {},
   "outputs": [],
   "source": [
    "params_grid3 = {\n",
    "    'alpha':[0.1, 0.2, 0.5],\n",
    "    'threshold':[0.0, 0.5, 0.9]\n",
    "}"
   ]
  },
  {
   "cell_type": "code",
   "execution_count": 57,
   "id": "c182d84a",
   "metadata": {},
   "outputs": [],
   "source": [
    "def create_relu_advanced(alpha=0.5, threshold=0.0):        \n",
    "    def relu_advanced(x):\n",
    "        return tf.keras.activations.relu(x, alpha=alpha, threshold=threshold)\n",
    "    return relu_advanced"
   ]
  },
  {
   "cell_type": "code",
   "execution_count": 58,
   "id": "bf4eff2e",
   "metadata": {},
   "outputs": [],
   "source": [
    "def create_model3_2(loss='sparse_categorical_crossentropy', optimizer='RMSprop', metrics='mae',\n",
    "                                  activation_layers='selu', activation_last='tanh',\n",
    "                                   alpha=0.1, threshold=0.0):\n",
    "    model = keras.Sequential([\n",
    "        keras.layers.Flatten(input_shape=(28, 28)),\n",
    "        keras.layers.Dense(128, activation=create_relu_advanced(alpha=alpha, threshold=threshold)),\n",
    "        keras.layers.Dropout(0.3),\n",
    "        keras.layers.Dense(64, activation=create_relu_advanced(alpha=alpha, threshold=threshold)),\n",
    "        keras.layers.Dropout(0.3),\n",
    "        keras.layers.Dense(32, activation=create_relu_advanced(alpha=alpha, threshold=threshold)),\n",
    "        keras.layers.Dense(10)\n",
    "    ])\n",
    "    \n",
    "    model.compile(loss=tf.keras.losses.SparseCategoricalCrossentropy(from_logits=False, reduction=tf.keras.losses.Reduction.AUTO),\n",
    "                  optimizer=optimizer, metrics=metrics)\n",
    "    \n",
    "    return model"
   ]
  },
  {
   "cell_type": "code",
   "execution_count": 59,
   "id": "051f1a86",
   "metadata": {},
   "outputs": [],
   "source": [
    "def create_model4_2(loss='sparse_categorical_crossentropy', optimizer='RMSprop', metrics='mae',\n",
    "                                  activation_layers='selu', activation_last='tanh',\n",
    "                                   alpha=0.1, threshold=0.0):\n",
    "    model = keras.Sequential([\n",
    "        keras.layers.Flatten(input_shape=(28, 28)),\n",
    "        keras.layers.Dense(128, activation=create_relu_advanced(alpha=alpha, threshold=threshold)),\n",
    "        keras.layers.Dense(64, activation=create_relu_advanced(alpha=alpha, threshold=threshold)),\n",
    "        keras.layers.Dense(64, activation=create_relu_advanced(alpha=alpha, threshold=threshold)),\n",
    "        keras.layers.Dense(64, activation=create_relu_advanced(alpha=alpha, threshold=threshold)),\n",
    "        keras.layers.Dense(64, activation=create_relu_advanced(alpha=alpha, threshold=threshold)),\n",
    "        keras.layers.Dense(64, activation=create_relu_advanced(alpha=alpha, threshold=threshold)),\n",
    "        keras.layers.Dense(64, activation=create_relu_advanced(alpha=alpha, threshold=threshold)),\n",
    "        keras.layers.Dense(32, activation=create_relu_advanced(alpha=alpha, threshold=threshold)),\n",
    "        keras.layers.Dense(10)\n",
    "    ])\n",
    "    \n",
    "    model.compile(loss=tf.keras.losses.SparseCategoricalCrossentropy(from_logits=False, reduction=tf.keras.losses.Reduction.AUTO),\n",
    "                  optimizer=optimizer, metrics=metrics)\n",
    "    \n",
    "    return model"
   ]
  },
  {
   "cell_type": "code",
   "execution_count": 60,
   "id": "528f8b23",
   "metadata": {},
   "outputs": [
    {
     "name": "stdout",
     "output_type": "stream",
     "text": [
      "313/313 [==============================] - 1s 4ms/step - loss: 0.9327 - mae: 4.6712\n",
      "test loss, test acc: [0.932654619216919, 4.671226978302002] alpha =  0.1\n",
      "313/313 [==============================] - 1s 4ms/step - loss: 1.0000 - mae: 4.6330\n",
      "test loss, test acc: [1.0000332593917847, 4.632980823516846] alpha =  0.2\n",
      "313/313 [==============================] - 1s 4ms/step - loss: 1.1951 - mae: 4.9860\n",
      "test loss, test acc: [1.1951324939727783, 4.985992908477783] alpha =  0.5\n",
      "313/313 [==============================] - 1s 4ms/step - loss: 0.9241 - mae: 4.5314\n",
      "test loss, test acc: [0.9240540862083435, 4.531401634216309] alpha =  0.1\n",
      "313/313 [==============================] - 1s 4ms/step - loss: 2.3026 - mae: 5.0036\n",
      "test loss, test acc: [2.30259108543396, 5.0036234855651855] alpha =  0.2\n",
      "313/313 [==============================] - 2s 6ms/step - loss: 2.3019 - mae: 7.2654\n",
      "test loss, test acc: [2.3019001483917236, 7.265434265136719] alpha =  0.5\n",
      "CPU times: user 29 s, sys: 6.25 s, total: 35.2 s\n",
      "Wall time: 29 s\n"
     ]
    },
    {
     "data": {
      "text/html": [
       "<div>\n",
       "<style scoped>\n",
       "    .dataframe tbody tr th:only-of-type {\n",
       "        vertical-align: middle;\n",
       "    }\n",
       "\n",
       "    .dataframe tbody tr th {\n",
       "        vertical-align: top;\n",
       "    }\n",
       "\n",
       "    .dataframe thead th {\n",
       "        text-align: right;\n",
       "    }\n",
       "</style>\n",
       "<table border=\"1\" class=\"dataframe\">\n",
       "  <thead>\n",
       "    <tr style=\"text-align: right;\">\n",
       "      <th></th>\n",
       "      <th>model</th>\n",
       "      <th>alpha</th>\n",
       "      <th>loss_err</th>\n",
       "      <th>acc</th>\n",
       "    </tr>\n",
       "  </thead>\n",
       "  <tbody>\n",
       "    <tr>\n",
       "      <th>3</th>\n",
       "      <td>5</td>\n",
       "      <td>0.1</td>\n",
       "      <td>0.924054</td>\n",
       "      <td>4.531402</td>\n",
       "    </tr>\n",
       "    <tr>\n",
       "      <th>1</th>\n",
       "      <td>4</td>\n",
       "      <td>0.2</td>\n",
       "      <td>1.000033</td>\n",
       "      <td>4.632981</td>\n",
       "    </tr>\n",
       "    <tr>\n",
       "      <th>0</th>\n",
       "      <td>4</td>\n",
       "      <td>0.1</td>\n",
       "      <td>0.932655</td>\n",
       "      <td>4.671227</td>\n",
       "    </tr>\n",
       "    <tr>\n",
       "      <th>2</th>\n",
       "      <td>4</td>\n",
       "      <td>0.5</td>\n",
       "      <td>1.195132</td>\n",
       "      <td>4.985993</td>\n",
       "    </tr>\n",
       "    <tr>\n",
       "      <th>4</th>\n",
       "      <td>5</td>\n",
       "      <td>0.2</td>\n",
       "      <td>2.302591</td>\n",
       "      <td>5.003623</td>\n",
       "    </tr>\n",
       "    <tr>\n",
       "      <th>5</th>\n",
       "      <td>5</td>\n",
       "      <td>0.5</td>\n",
       "      <td>2.301900</td>\n",
       "      <td>7.265434</td>\n",
       "    </tr>\n",
       "  </tbody>\n",
       "</table>\n",
       "</div>"
      ],
      "text/plain": [
       "   model  alpha  loss_err       acc\n",
       "3      5    0.1  0.924054  4.531402\n",
       "1      4    0.2  1.000033  4.632981\n",
       "0      4    0.1  0.932655  4.671227\n",
       "2      4    0.5  1.195132  4.985993\n",
       "4      5    0.2  2.302591  5.003623\n",
       "5      5    0.5  2.301900  7.265434"
      ]
     },
     "execution_count": 60,
     "metadata": {},
     "output_type": "execute_result"
    }
   ],
   "source": [
    "%%time\n",
    "results_list = list()\n",
    "weight_flag = dict()\n",
    "\n",
    "for i, func_create_model in enumerate([create_model3_2, create_model4_2]):\n",
    "    weight_flag[i] = False\n",
    "    for alpha in params_grid3['alpha']:\n",
    "        model = func_create_model(alpha=alpha)\n",
    "        if not weight_flag[i]:\n",
    "            model.save_weights('model{}.h5'.format(i))\n",
    "            weight_flag[i] = True\n",
    "        else:\n",
    "            model.load_weights('model{}.h5'.format(i))\n",
    "\n",
    "        model.fit(X_train, y_train, epochs=3, batch_size=1024, validation_split=0.2, verbose=0)\n",
    "\n",
    "        results = model.evaluate(X_test, y_test)\n",
    "        print('test loss, test acc:', results, 'alpha = ', alpha)\n",
    "\n",
    "        # model, loss, loss_err, acc\n",
    "        results_list.append([i + 4, alpha, results[0], results[1]])\n",
    "\n",
    "df_results = pd.DataFrame(results_list, columns=['model', 'alpha', 'loss_err', 'acc'])\n",
    "df_results.sort_values('acc', axis=0, ascending=True)"
   ]
  },
  {
   "cell_type": "code",
   "execution_count": 61,
   "id": "bb7788bf",
   "metadata": {},
   "outputs": [
    {
     "name": "stdout",
     "output_type": "stream",
     "text": [
      "313/313 [==============================] - 1s 4ms/step - loss: 0.8627 - mae: 4.7191\n",
      "test loss, test acc: [0.8626862168312073, 4.719117641448975] threshold =  0.0\n",
      "313/313 [==============================] - 1s 4ms/step - loss: 1.7786 - mae: 4.4583\n",
      "test loss, test acc: [1.7786105871200562, 4.458265781402588] threshold =  0.5\n",
      "313/313 [==============================] - 1s 5ms/step - loss: 2.2304 - mae: 4.6270\n",
      "test loss, test acc: [2.2303659915924072, 4.626997947692871] threshold =  0.9\n",
      "313/313 [==============================] - 1s 5ms/step - loss: 0.8935 - mae: 4.5616\n",
      "test loss, test acc: [0.8935025334358215, 4.561628341674805] threshold =  0.0\n",
      "313/313 [==============================] - 2s 6ms/step - loss: 2.3026 - mae: 4.5287\n",
      "test loss, test acc: [2.30259108543396, 4.528728008270264] threshold =  0.5\n",
      "313/313 [==============================] - 2s 7ms/step - loss: 2.3026 - mae: 4.5435\n",
      "test loss, test acc: [2.30259108543396, 4.543492317199707] threshold =  0.9\n",
      "CPU times: user 32.1 s, sys: 8.5 s, total: 40.6 s\n",
      "Wall time: 35.3 s\n"
     ]
    },
    {
     "data": {
      "text/html": [
       "<div>\n",
       "<style scoped>\n",
       "    .dataframe tbody tr th:only-of-type {\n",
       "        vertical-align: middle;\n",
       "    }\n",
       "\n",
       "    .dataframe tbody tr th {\n",
       "        vertical-align: top;\n",
       "    }\n",
       "\n",
       "    .dataframe thead th {\n",
       "        text-align: right;\n",
       "    }\n",
       "</style>\n",
       "<table border=\"1\" class=\"dataframe\">\n",
       "  <thead>\n",
       "    <tr style=\"text-align: right;\">\n",
       "      <th></th>\n",
       "      <th>model</th>\n",
       "      <th>threshold</th>\n",
       "      <th>loss_err</th>\n",
       "      <th>acc</th>\n",
       "    </tr>\n",
       "  </thead>\n",
       "  <tbody>\n",
       "    <tr>\n",
       "      <th>1</th>\n",
       "      <td>4</td>\n",
       "      <td>0.5</td>\n",
       "      <td>1.778611</td>\n",
       "      <td>4.458266</td>\n",
       "    </tr>\n",
       "    <tr>\n",
       "      <th>4</th>\n",
       "      <td>5</td>\n",
       "      <td>0.5</td>\n",
       "      <td>2.302591</td>\n",
       "      <td>4.528728</td>\n",
       "    </tr>\n",
       "    <tr>\n",
       "      <th>5</th>\n",
       "      <td>5</td>\n",
       "      <td>0.9</td>\n",
       "      <td>2.302591</td>\n",
       "      <td>4.543492</td>\n",
       "    </tr>\n",
       "    <tr>\n",
       "      <th>3</th>\n",
       "      <td>5</td>\n",
       "      <td>0.0</td>\n",
       "      <td>0.893503</td>\n",
       "      <td>4.561628</td>\n",
       "    </tr>\n",
       "    <tr>\n",
       "      <th>2</th>\n",
       "      <td>4</td>\n",
       "      <td>0.9</td>\n",
       "      <td>2.230366</td>\n",
       "      <td>4.626998</td>\n",
       "    </tr>\n",
       "    <tr>\n",
       "      <th>0</th>\n",
       "      <td>4</td>\n",
       "      <td>0.0</td>\n",
       "      <td>0.862686</td>\n",
       "      <td>4.719118</td>\n",
       "    </tr>\n",
       "  </tbody>\n",
       "</table>\n",
       "</div>"
      ],
      "text/plain": [
       "   model  threshold  loss_err       acc\n",
       "1      4        0.5  1.778611  4.458266\n",
       "4      5        0.5  2.302591  4.528728\n",
       "5      5        0.9  2.302591  4.543492\n",
       "3      5        0.0  0.893503  4.561628\n",
       "2      4        0.9  2.230366  4.626998\n",
       "0      4        0.0  0.862686  4.719118"
      ]
     },
     "execution_count": 61,
     "metadata": {},
     "output_type": "execute_result"
    }
   ],
   "source": [
    "%%time\n",
    "results_list = list()\n",
    "weight_flag = dict()\n",
    "\n",
    "for i, func_create_model in enumerate([create_model3_2, create_model4_2]):\n",
    "    weight_flag[i] = False\n",
    "    for threshold in params_grid3['threshold']:\n",
    "        model = func_create_model(alpha=0.1, threshold=threshold)\n",
    "        if not weight_flag[i]:\n",
    "            model.save_weights('model{}.h5'.format(i))\n",
    "            weight_flag[i] = True\n",
    "        else:\n",
    "            model.load_weights('model{}.h5'.format(i))\n",
    "\n",
    "        model.fit(X_train, y_train, epochs=3, batch_size=1024, validation_split=0.2, verbose=0)\n",
    "\n",
    "        results = model.evaluate(X_test, y_test)\n",
    "        print('test loss, test acc:', results, 'threshold = ', threshold)\n",
    "\n",
    "        # model, loss, loss_err, acc\n",
    "        results_list.append([i + 4, threshold, results[0], results[1]])\n",
    "\n",
    "df_results = pd.DataFrame(results_list, columns=['model', 'threshold', 'loss_err', 'acc'])\n",
    "df_results.sort_values('acc', axis=0, ascending=True)"
   ]
  },
  {
   "cell_type": "markdown",
   "id": "bde2e762",
   "metadata": {},
   "source": [
    "Однозначный выбор threshold = 0,5. А вот победитель среди моделей никак не поеределяется. После двух запусков получается 50/50. Но по наблюдениям, чаще всего побеждает последняя модель, которая самая глубокая из всех построенных. При этом не слишком глубокая, но со слоями Dropout-а тоже не отстаёт. Возможно микс этих можеделей дал бы ещё больший прирост точности и скорости обучения."
   ]
  },
  {
   "cell_type": "markdown",
   "id": "04e55035",
   "metadata": {},
   "source": [
    "Возьмём последнюю модель и дадим последний шанс количеству эпох обучения. Только в этот раз метрика будет `accuracy`, т.к. возможно `mae` я пока не верно интерпретирую."
   ]
  },
  {
   "cell_type": "code",
   "execution_count": 87,
   "id": "f1a0186b",
   "metadata": {},
   "outputs": [],
   "source": [
    "def create_model4_3(loss='sparse_categorical_crossentropy', optimizer='RMSprop', metrics='mae',\n",
    "                                  activation_layers='selu', activation_last='tanh',\n",
    "                                   alpha=0.1, threshold=0.5):\n",
    "    model = keras.Sequential([\n",
    "        keras.layers.Flatten(input_shape=(28, 28)),\n",
    "        keras.layers.Dense(128, activation=create_relu_advanced(alpha=alpha, threshold=threshold)),\n",
    "        keras.layers.Dense(64, activation=create_relu_advanced(alpha=alpha, threshold=threshold)),\n",
    "        keras.layers.Dense(64, activation=create_relu_advanced(alpha=alpha, threshold=threshold)),\n",
    "        keras.layers.Dense(64, activation=create_relu_advanced(alpha=alpha, threshold=threshold)),\n",
    "        keras.layers.Dense(64, activation=create_relu_advanced(alpha=alpha, threshold=threshold)),\n",
    "        keras.layers.Dense(64, activation=create_relu_advanced(alpha=alpha, threshold=threshold)),\n",
    "        keras.layers.Dense(64, activation=create_relu_advanced(alpha=alpha, threshold=threshold)),\n",
    "        keras.layers.Dense(32, activation=create_relu_advanced(alpha=alpha, threshold=threshold)),\n",
    "        keras.layers.Dense(10)\n",
    "    ])\n",
    "    \n",
    "    model.compile(loss=tf.keras.losses.SparseCategoricalCrossentropy(from_logits=False, reduction=tf.keras.losses.Reduction.AUTO),\n",
    "                  optimizer=optimizer, metrics=metrics)\n",
    "    \n",
    "    return model"
   ]
  },
  {
   "cell_type": "code",
   "execution_count": 88,
   "id": "315461ca",
   "metadata": {},
   "outputs": [
    {
     "name": "stdout",
     "output_type": "stream",
     "text": [
      "313/313 [==============================] - 2s 6ms/step - loss: 2.3026 - mae: 4.5333\n",
      "test loss, test acc: [2.30259108543396, 4.533333778381348]\n"
     ]
    }
   ],
   "source": [
    "model = create_model4_3()\n",
    "history = model.fit(X_train, y_train, epochs=20, batch_size=1024, validation_split=0.2, verbose=0)\n",
    "results = model.evaluate(X_test, y_test)\n",
    "print('test loss, test acc:', results)"
   ]
  },
  {
   "cell_type": "code",
   "execution_count": 89,
   "id": "be088bc2",
   "metadata": {},
   "outputs": [
    {
     "data": {
      "image/png": "[encoded data removed]",
      "text/plain": [
       "<Figure size 640x480 with 1 Axes>"
      ]
     },
     "metadata": {},
     "output_type": "display_data"
    }
   ],
   "source": [
    "plt.plot(history.history['mae'])\n",
    "plt.plot(history.history['val_mae'])\n",
    "plt.title('model accuracy')\n",
    "plt.ylabel('accuracy')\n",
    "plt.xlabel('epoch')\n",
    "plt.legend(['train', 'test'], loc='upper left')\n",
    "plt.show()"
   ]
  },
  {
   "cell_type": "markdown",
   "id": "0abd5da2",
   "metadata": {},
   "source": [
    "То что очень не хочет увидеть, все же увидел. Градиент быстро уходит в ноль и сеть не обучается. Здесь похоже нужны регуляризации, чтобы улучшить ситуацию. Правда, работа и так растягивается поэтому буду завершать."
   ]
  },
  {
   "cell_type": "markdown",
   "id": "cfc4671f",
   "metadata": {},
   "source": [
    "**Вывод**: использование дропаутов и достаточно глубоких сетей позволяют получить хороший результат. Как оказалось, его надо регулярно контролировать с т.з. переобчения и ухода градиента в ноль. В то же время значения параметров для функций (а их можно использовать везде) похоже уже подобраны наиболее оптимальным образом. Так что если что-то и менять, то конкретно со знанием дела. И если результата нет, то прекращать.\n",
    "\n",
    "PS При работе с видеоадаптером похоже, что в оперативной памяти выделяется участок неперемещаемой памяти, т.е. который не может быть помещён в swap. Из-за этого есть риск падения notebook. Не очень приятная история. Надо делать чаще сохранения. Особенно если модели долго обучаются."
   ]
  }
 ],
 "metadata": {
  "kernelspec": {
   "display_name": "Python 3 (ipykernel)",
   "language": "python",
   "name": "python3"
  },
  "language_info": {
   "codemirror_mode": {
    "name": "ipython",
    "version": 3
   },
   "file_extension": ".py",
   "mimetype": "text/x-python",
   "name": "python",
   "nbconvert_exporter": "python",
   "pygments_lexer": "ipython3",
   "version": "3.10.9"
  }
 },
 "nbformat": 4,
 "nbformat_minor": 5
}
